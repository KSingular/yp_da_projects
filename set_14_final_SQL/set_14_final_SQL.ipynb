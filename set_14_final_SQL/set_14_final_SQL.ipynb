{
 "cells": [
  {
   "cell_type": "markdown",
   "id": "85556b81",
   "metadata": {},
   "source": [
    "<div class=\"title_project\">Анализ базы данных сервиса для чтения книг по подписке</div>"
   ]
  },
  {
   "cell_type": "markdown",
   "id": "6ec49fdd",
   "metadata": {
    "toc": true
   },
   "source": [
    "<h1>Содержание<span class=\"tocSkip\"></span></h1>\n",
    "<div class=\"toc\"><ul class=\"toc-item\"><li><span><a href=\"#Введение\" data-toc-modified-id=\"Введение-1\"><span class=\"toc-item-num\">1&nbsp;&nbsp;</span>Введение</a></span></li><li><span><a href=\"#Импорт-библиотек-Python\" data-toc-modified-id=\"Импорт-библиотек-Python-2\"><span class=\"toc-item-num\">2&nbsp;&nbsp;</span>Импорт библиотек Python</a></span></li><li><span><a href=\"#Оформление-и-стили\" data-toc-modified-id=\"Оформление-и-стили-3\"><span class=\"toc-item-num\">3&nbsp;&nbsp;</span>Оформление и стили</a></span></li><li><span><a href=\"#Подготовка-подключения-к-базе-данных\" data-toc-modified-id=\"Подготовка-подключения-к-базе-данных-4\"><span class=\"toc-item-num\">4&nbsp;&nbsp;</span>Подготовка подключения к базе данных</a></span></li><li><span><a href=\"#Выполнение-SQL-запросов\" data-toc-modified-id=\"Выполнение-SQL-запросов-5\"><span class=\"toc-item-num\">5&nbsp;&nbsp;</span>Выполнение SQL-запросов</a></span><ul class=\"toc-item\"><li><span><a href=\"#Изучение-таблиц\" data-toc-modified-id=\"Изучение-таблиц-5.1\"><span class=\"toc-item-num\">5.1&nbsp;&nbsp;</span>Изучение таблиц</a></span><ul class=\"toc-item\"><li><span><a href=\"#Таблица-books\" data-toc-modified-id=\"Таблица-books-5.1.1\"><span class=\"toc-item-num\">5.1.1&nbsp;&nbsp;</span>Таблица books</a></span></li><li><span><a href=\"#Таблица-authors\" data-toc-modified-id=\"Таблица-authors-5.1.2\"><span class=\"toc-item-num\">5.1.2&nbsp;&nbsp;</span>Таблица authors</a></span></li><li><span><a href=\"#Таблица-publishers\" data-toc-modified-id=\"Таблица-publishers-5.1.3\"><span class=\"toc-item-num\">5.1.3&nbsp;&nbsp;</span>Таблица publishers</a></span></li><li><span><a href=\"#Таблица-ratings\" data-toc-modified-id=\"Таблица-ratings-5.1.4\"><span class=\"toc-item-num\">5.1.4&nbsp;&nbsp;</span>Таблица ratings</a></span></li><li><span><a href=\"#Таблица-reviews\" data-toc-modified-id=\"Таблица-reviews-5.1.5\"><span class=\"toc-item-num\">5.1.5&nbsp;&nbsp;</span>Таблица reviews</a></span></li></ul></li><li><span><a href=\"#Расчет-количества-книг,-которые-вышли-после-1-января-2000-года\" data-toc-modified-id=\"Расчет-количества-книг,-которые-вышли-после-1-января-2000-года-5.2\"><span class=\"toc-item-num\">5.2&nbsp;&nbsp;</span>Расчет количества книг, которые вышли после 1 января 2000 года</a></span></li><li><span><a href=\"#Расчет-количества-обзоров-и-средней-оценки-для-каждой-книги\" data-toc-modified-id=\"Расчет-количества-обзоров-и-средней-оценки-для-каждой-книги-5.3\"><span class=\"toc-item-num\">5.3&nbsp;&nbsp;</span>Расчет количества обзоров и средней оценки для каждой книги</a></span></li><li><span><a href=\"#Определение-издательства,-которое-выпустило-наибольшее-число-книг-толще-50-страниц\" data-toc-modified-id=\"Определение-издательства,-которое-выпустило-наибольшее-число-книг-толще-50-страниц-5.4\"><span class=\"toc-item-num\">5.4&nbsp;&nbsp;</span>Определение издательства, которое выпустило наибольшее число книг толще 50 страниц</a></span></li><li><span><a href=\"#Определение-автора-с-самой-высокой-средней-оценкой-книг\" data-toc-modified-id=\"Определение-автора-с-самой-высокой-средней-оценкой-книг-5.5\"><span class=\"toc-item-num\">5.5&nbsp;&nbsp;</span>Определение автора с самой высокой средней оценкой книг</a></span></li><li><span><a href=\"#Расчет-среднего-количество-обзоров-от-пользователей,-которые-поставили-больше-50-оценок\" data-toc-modified-id=\"Расчет-среднего-количество-обзоров-от-пользователей,-которые-поставили-больше-50-оценок-5.6\"><span class=\"toc-item-num\">5.6&nbsp;&nbsp;</span>Расчет среднего количество обзоров от пользователей, которые поставили больше 50 оценок</a></span></li></ul></li><li><span><a href=\"#Вывод\" data-toc-modified-id=\"Вывод-6\"><span class=\"toc-item-num\">6&nbsp;&nbsp;</span>Вывод</a></span></li></ul></div>"
   ]
  },
  {
   "cell_type": "markdown",
   "id": "278fdd7b",
   "metadata": {},
   "source": [
    "## Введение"
   ]
  },
  {
   "cell_type": "markdown",
   "id": "e6ad5439",
   "metadata": {},
   "source": [
    "<b><font color=\"#4682B4\">Цель</font></b> - анализ базы данных сервиса для чтения книг по подписке, чтобы сформулировать ценностное предложение для нового продукта.\n",
    "\n",
    "---\n",
    "<b><font color=\"#4682B4\">Задачи:</font></b>\n",
    "* Посчитать, сколько книг вышло после 1 января 2000 года.\n",
    "* Для каждой книги посчитать количество обзоров и среднюю оценку.\n",
    "* Определить издательство, которое выпустило наибольшее число книг толще 50 страниц, чтобы исключить из анализа брошюры.\n",
    "* Определить автора с самой высокой средней оценкой книг. Учитывать только книги с 50 и более оценками.\n",
    "* Посчитать среднее количество обзоров от пользователей, которые поставили больше 50 оценок.\n",
    "\n",
    "---\n",
    "<b><font color=\"#4682B4\">План исследования:</font></b>\n",
    "1. Загрузить и изучить данные.\n",
    "2. Проанализировать полученные данные, выполнив поставленные задачи.\n",
    "3. Сформулировать выводы.\n",
    "\n",
    "---\n",
    "<b><font color=\"#4682B4\">Описание данных:</font></b>  \n",
    "\n",
    "База данных содержит информацию о книгах, издательствах, авторах, а также пользовательские обзоры книг. \n",
    "\n",
    "<b><font color=\"#4682B4\">Таблица books</font></b>  \n",
    "\n",
    "Содержит данные о книгах:\n",
    "- `book_id` - идентификатор книги\n",
    "- `author_id` - идентификатор автора\n",
    "- `title` - название книги\n",
    "- `num_pages` - количество страниц\n",
    "- `publication_date` - дата публикации книги\n",
    "- `publisher_id` - идентификатор издателя\n",
    "\n",
    "<b><font color=\"#4682B4\">Таблица authors</font></b>  \n",
    "\n",
    "Содержит данные об авторах:\n",
    "\n",
    "- `author_id` - идентификатор автора\n",
    "- `author` - имя автора\n",
    "\n",
    "<b><font color=\"#4682B4\">Таблица publishers</font></b>  \n",
    "\n",
    "Содержит данные об издательствах:\n",
    "\n",
    "- `publisher_id` - идентификатор издательства\n",
    "- `publisher` - название издательства\n",
    "\n",
    "<b><font color=\"#4682B4\">Таблица ratings</font></b>  \n",
    "\n",
    "Содержит данные о пользовательских оценках книг:\n",
    "\n",
    "- `rating_id` - идентификатор оценки\n",
    "- `book_id` - идентификатор книги\n",
    "- `username` - имя пользователя, оставившего оценку\n",
    "- `rating` - оценка книги\n",
    "\n",
    "<b><font color=\"#4682B4\">Таблица reviews</font></b> \n",
    "\n",
    "Содержит данные о пользовательских обзорах на книги:\n",
    "\n",
    "- `review_id` - идентификатор обзора\n",
    "- `book_id` - идентификатор книги\n",
    "- `username` - имя пользователя, написавшего обзор\n",
    "- `text` - текст обзора"
   ]
  },
  {
   "cell_type": "markdown",
   "id": "9780c6f0",
   "metadata": {},
   "source": [
    "## Импорт библиотек Python"
   ]
  },
  {
   "cell_type": "code",
   "execution_count": 1,
   "id": "ea4e0f04",
   "metadata": {},
   "outputs": [],
   "source": [
    "# Импорт библиотек\n",
    "import pandas as pd\n",
    "from sqlalchemy import create_engine\n",
    "import os\n",
    "from dotenv import load_dotenv"
   ]
  },
  {
   "cell_type": "code",
   "execution_count": 2,
   "id": "ce36844e",
   "metadata": {},
   "outputs": [],
   "source": [
    "# Отключение сообщений об ошибках\n",
    "import warnings\n",
    "warnings.filterwarnings('ignore')"
   ]
  },
  {
   "cell_type": "markdown",
   "id": "71053c93",
   "metadata": {},
   "source": [
    "## Оформление и стили"
   ]
  },
  {
   "cell_type": "code",
   "execution_count": 3,
   "id": "b7a3e990",
   "metadata": {},
   "outputs": [
    {
     "data": {
      "text/html": [
       "<style>.title_project {\n",
       "    \tbackground-color: #9dd2c4;\n",
       "    \tpadding: 0.3em 0.3em;\n",
       "    \tborder-radius: 3px;\n",
       "    \tborder: 1px;\n",
       "\tfont-size: 22px;\n",
       "\tfont-weight: bold;\n",
       "\tline-height: 1.5em;\n",
       "\ttext-align: center;\n",
       "}\n",
       ".inner_cell h1 {\n",
       "    \tbackground-color:  #d4d7dc;\n",
       "    \tpadding: 0.3em 0.3em;\n",
       "    \tborder-radius: 3px;\n",
       "    \tborder: 1px;\n",
       "\tfont-size: 18px;\n",
       "\tfont-weight: bold;\n",
       "\tline-height: 1.5em;\n",
       "}\n",
       ".inner_cell h2 {\n",
       "    \tbackground-color:  #d4d7dc;\n",
       "    \tpadding: 0.3em 0.3em;\n",
       "    \tborder-radius: 3px;\n",
       "    \tborder: 1px;\n",
       "\tfont-size: 16px;\n",
       "\tline-height: 1.5em;\n",
       "}\n",
       ".inner_cell h3 {\n",
       "    \tbackground-color: #d4d7dc;\n",
       "    \tpadding: 0.3em 0.3em;\n",
       "    \tborder-radius: 3px;\n",
       "    \tborder: 1px;\n",
       "\tfont-size: 14px;\n",
       "\tline-height: 1.5em;\n",
       "}\n",
       ".inner_cell h4 {\n",
       "    \tbackground-color: #d4d7dc;\n",
       "    \tpadding: 0.3em 0.3em;\n",
       "    \tborder-radius: 3px;\n",
       "    \tborder: 1px;\n",
       "\tfont-size: 13px;\n",
       "\tline-height: 1.5em;\n",
       "}\n",
       ".inner_cell h5 {\n",
       "    \tbackground-color: #d4d7dc;\n",
       "    \tpadding: 0.3em 0.3em;\n",
       "    \tborder-radius: 3px;\n",
       "    \tborder: 1px;\n",
       "\tfont-size: 13px;\n",
       "\tline-height: 1.5em;\n",
       "}\n",
       ".inner_cell h6 {\n",
       "    \tbackground-color: #89c7bd;\n",
       "    \tpadding: 0.3em 0.3em;\n",
       "    \tborder-radius: 3px;\n",
       "    \tborder: 1px;\n",
       "\tfont-size: 13px;\n",
       "\tline-height: 1.5em;\n",
       "}\n",
       ".rendered_html p {\t\n",
       "\ttext-align: justify;\n",
       "    \tline-height: 1.5em;\n",
       "\ttext-indent: 1.5em;\n",
       "\tfont-size: 14px;\n",
       "}\n",
       ".rendered_html ol {\n",
       "\ttext-align: justify;\n",
       "}\n",
       ".rendered_html tr, .rendered_html th, .rendered_html td {\n",
       "\ttext-align: center;\n",
       "}\n",
       ".rendered_html table thead tr th {\n",
       "        border: 1px solid black;\n",
       "\tbackground-color: #d4d7dc;\n",
       "}\n",
       ".rendered_html table tbody tr td {\n",
       "        border: 1px solid black;\n",
       "}\n",
       ".rendered_html div table.dataframe thead tr th {\n",
       "\ttext-align: center;\n",
       "}\n",
       ".dataframe thead th {\n",
       "        border: 1px solid black;\n",
       "\tbackground-color: #d4d7dc;\n",
       "}\n",
       ".dataframe tbody tr th {\n",
       "        border: 1px solid black;\n",
       "\tbackground-color: #d4d7dc;\n",
       "\ttext-align: center;\n",
       "}\n",
       ".dataframe tbody td {\n",
       "        border: 1px solid black;\n",
       "\ttext-align: left;\n",
       "}\n",
       "\n",
       "\n",
       "</style>"
      ],
      "text/plain": [
       "<IPython.core.display.HTML object>"
      ]
     },
     "metadata": {},
     "output_type": "display_data"
    }
   ],
   "source": [
    "# Подключение css\n",
    "from IPython.core.display import HTML\n",
    "styles = open('style.css', 'r', encoding='utf-8').read()\n",
    "display(HTML('<style>%s</style>' % styles))"
   ]
  },
  {
   "cell_type": "markdown",
   "id": "ac9a22fe",
   "metadata": {},
   "source": [
    "## Подготовка подключения к базе данных"
   ]
  },
  {
   "cell_type": "code",
   "execution_count": 4,
   "id": "5651a31d",
   "metadata": {},
   "outputs": [],
   "source": [
    "# Загрузка файла с данными конфигурации\n",
    "dotenv_path = os.path.join(os.path.dirname(''), '.env')\n",
    "if os.path.exists(dotenv_path):\n",
    "    load_dotenv(dotenv_path)"
   ]
  },
  {
   "cell_type": "code",
   "execution_count": 5,
   "id": "3a924544",
   "metadata": {},
   "outputs": [],
   "source": [
    "# Храним конфигурацию подключения к БД в отдельной переменной, \n",
    "# чтобы её можно было редактировать централизованно или заменить на загрузку и конфигурационного файла\n",
    "db_config = {'user': os.environ.get('user'), # имя пользователя\n",
    "             'pwd': os.environ.get('pwd'), # пароль\n",
    "             'host': os.environ.get('host'),\n",
    "             'port': os.environ.get('port'), # порт подключения\n",
    "             'db': os.environ.get('db')} # название базы данных"
   ]
  },
  {
   "cell_type": "code",
   "execution_count": 6,
   "id": "64961ba5",
   "metadata": {},
   "outputs": [],
   "source": [
    "# Запрашиваем сырые данные\n",
    "connection_string = 'postgresql://{}:{}@{}:{}/{}'.format(db_config['user'],\n",
    "                                                         db_config['pwd'],\n",
    "                                                         db_config['host'],\n",
    "                                                         db_config['port'],\n",
    "                                                         db_config['db'])\n",
    "# сохраняем коннектор\n",
    "engine = create_engine(connection_string, connect_args={'sslmode':'require'})"
   ]
  },
  {
   "cell_type": "markdown",
   "id": "02d5716d",
   "metadata": {},
   "source": [
    "## Выполнение SQL-запросов"
   ]
  },
  {
   "cell_type": "markdown",
   "id": "bc5f4d33",
   "metadata": {},
   "source": [
    "### Изучение таблиц"
   ]
  },
  {
   "cell_type": "markdown",
   "id": "6c2e4432",
   "metadata": {},
   "source": [
    "Чтобы изучить таблицы создадим SQL-запросы для каждой из них и выведем первые пять строк. Создадим фунцкцию чтения таблиц:"
   ]
  },
  {
   "cell_type": "code",
   "execution_count": 7,
   "id": "cba3e6fe",
   "metadata": {},
   "outputs": [],
   "source": [
    "# Фунцкция чтения таблиц\n",
    "def SQL(query):\n",
    "    return pd.io.sql.read_sql(query, con = engine)"
   ]
  },
  {
   "cell_type": "markdown",
   "id": "ce3bf957",
   "metadata": {},
   "source": [
    "#### Таблица books"
   ]
  },
  {
   "cell_type": "markdown",
   "id": "dc798297",
   "metadata": {},
   "source": [
    "Изучим таблицу:"
   ]
  },
  {
   "cell_type": "code",
   "execution_count": 8,
   "id": "f0f0d42f",
   "metadata": {},
   "outputs": [
    {
     "data": {
      "text/html": [
       "<div>\n",
       "<style scoped>\n",
       "    .dataframe tbody tr th:only-of-type {\n",
       "        vertical-align: middle;\n",
       "    }\n",
       "\n",
       "    .dataframe tbody tr th {\n",
       "        vertical-align: top;\n",
       "    }\n",
       "\n",
       "    .dataframe thead th {\n",
       "        text-align: right;\n",
       "    }\n",
       "</style>\n",
       "<table border=\"1\" class=\"dataframe\">\n",
       "  <thead>\n",
       "    <tr style=\"text-align: right;\">\n",
       "      <th></th>\n",
       "      <th>book_id</th>\n",
       "      <th>author_id</th>\n",
       "      <th>title</th>\n",
       "      <th>num_pages</th>\n",
       "      <th>publication_date</th>\n",
       "      <th>publisher_id</th>\n",
       "    </tr>\n",
       "  </thead>\n",
       "  <tbody>\n",
       "    <tr>\n",
       "      <th>0</th>\n",
       "      <td>1</td>\n",
       "      <td>546</td>\n",
       "      <td>'Salem's Lot</td>\n",
       "      <td>594</td>\n",
       "      <td>2005-11-01</td>\n",
       "      <td>93</td>\n",
       "    </tr>\n",
       "    <tr>\n",
       "      <th>1</th>\n",
       "      <td>2</td>\n",
       "      <td>465</td>\n",
       "      <td>1 000 Places to See Before You Die</td>\n",
       "      <td>992</td>\n",
       "      <td>2003-05-22</td>\n",
       "      <td>336</td>\n",
       "    </tr>\n",
       "    <tr>\n",
       "      <th>2</th>\n",
       "      <td>3</td>\n",
       "      <td>407</td>\n",
       "      <td>13 Little Blue Envelopes (Little Blue Envelope...</td>\n",
       "      <td>322</td>\n",
       "      <td>2010-12-21</td>\n",
       "      <td>135</td>\n",
       "    </tr>\n",
       "    <tr>\n",
       "      <th>3</th>\n",
       "      <td>4</td>\n",
       "      <td>82</td>\n",
       "      <td>1491: New Revelations of the Americas Before C...</td>\n",
       "      <td>541</td>\n",
       "      <td>2006-10-10</td>\n",
       "      <td>309</td>\n",
       "    </tr>\n",
       "    <tr>\n",
       "      <th>4</th>\n",
       "      <td>5</td>\n",
       "      <td>125</td>\n",
       "      <td>1776</td>\n",
       "      <td>386</td>\n",
       "      <td>2006-07-04</td>\n",
       "      <td>268</td>\n",
       "    </tr>\n",
       "  </tbody>\n",
       "</table>\n",
       "</div>"
      ],
      "text/plain": [
       "   book_id  author_id                                              title  \\\n",
       "0        1        546                                       'Salem's Lot   \n",
       "1        2        465                 1 000 Places to See Before You Die   \n",
       "2        3        407  13 Little Blue Envelopes (Little Blue Envelope...   \n",
       "3        4         82  1491: New Revelations of the Americas Before C...   \n",
       "4        5        125                                               1776   \n",
       "\n",
       "   num_pages publication_date  publisher_id  \n",
       "0        594       2005-11-01            93  \n",
       "1        992       2003-05-22           336  \n",
       "2        322       2010-12-21           135  \n",
       "3        541       2006-10-10           309  \n",
       "4        386       2006-07-04           268  "
      ]
     },
     "execution_count": 8,
     "metadata": {},
     "output_type": "execute_result"
    }
   ],
   "source": [
    "SQL(\"\"\"\n",
    "       SELECT * FROM books\n",
    "       LIMIT 5;\n",
    "    \"\"\")"
   ]
  },
  {
   "cell_type": "markdown",
   "id": "4f62ad35",
   "metadata": {},
   "source": [
    "Подсчитаем количество строк в таблице:"
   ]
  },
  {
   "cell_type": "code",
   "execution_count": 9,
   "id": "ba3aecf0",
   "metadata": {},
   "outputs": [
    {
     "data": {
      "text/html": [
       "<div>\n",
       "<style scoped>\n",
       "    .dataframe tbody tr th:only-of-type {\n",
       "        vertical-align: middle;\n",
       "    }\n",
       "\n",
       "    .dataframe tbody tr th {\n",
       "        vertical-align: top;\n",
       "    }\n",
       "\n",
       "    .dataframe thead th {\n",
       "        text-align: right;\n",
       "    }\n",
       "</style>\n",
       "<table border=\"1\" class=\"dataframe\">\n",
       "  <thead>\n",
       "    <tr style=\"text-align: right;\">\n",
       "      <th></th>\n",
       "      <th>count</th>\n",
       "    </tr>\n",
       "  </thead>\n",
       "  <tbody>\n",
       "    <tr>\n",
       "      <th>0</th>\n",
       "      <td>1000</td>\n",
       "    </tr>\n",
       "  </tbody>\n",
       "</table>\n",
       "</div>"
      ],
      "text/plain": [
       "   count\n",
       "0   1000"
      ]
     },
     "execution_count": 9,
     "metadata": {},
     "output_type": "execute_result"
    }
   ],
   "source": [
    "SQL(\"\"\"\n",
    "       SELECT COUNT(*) \n",
    "       FROM books;\n",
    "    \"\"\")"
   ]
  },
  {
   "cell_type": "markdown",
   "id": "4bd68651",
   "metadata": {},
   "source": [
    "#### Таблица authors"
   ]
  },
  {
   "cell_type": "markdown",
   "id": "04d92930",
   "metadata": {},
   "source": [
    "Изучим таблицу:"
   ]
  },
  {
   "cell_type": "code",
   "execution_count": 10,
   "id": "7983754b",
   "metadata": {},
   "outputs": [
    {
     "data": {
      "text/html": [
       "<div>\n",
       "<style scoped>\n",
       "    .dataframe tbody tr th:only-of-type {\n",
       "        vertical-align: middle;\n",
       "    }\n",
       "\n",
       "    .dataframe tbody tr th {\n",
       "        vertical-align: top;\n",
       "    }\n",
       "\n",
       "    .dataframe thead th {\n",
       "        text-align: right;\n",
       "    }\n",
       "</style>\n",
       "<table border=\"1\" class=\"dataframe\">\n",
       "  <thead>\n",
       "    <tr style=\"text-align: right;\">\n",
       "      <th></th>\n",
       "      <th>author_id</th>\n",
       "      <th>author</th>\n",
       "    </tr>\n",
       "  </thead>\n",
       "  <tbody>\n",
       "    <tr>\n",
       "      <th>0</th>\n",
       "      <td>1</td>\n",
       "      <td>A.S. Byatt</td>\n",
       "    </tr>\n",
       "    <tr>\n",
       "      <th>1</th>\n",
       "      <td>2</td>\n",
       "      <td>Aesop/Laura Harris/Laura Gibbs</td>\n",
       "    </tr>\n",
       "    <tr>\n",
       "      <th>2</th>\n",
       "      <td>3</td>\n",
       "      <td>Agatha Christie</td>\n",
       "    </tr>\n",
       "    <tr>\n",
       "      <th>3</th>\n",
       "      <td>4</td>\n",
       "      <td>Alan Brennert</td>\n",
       "    </tr>\n",
       "    <tr>\n",
       "      <th>4</th>\n",
       "      <td>5</td>\n",
       "      <td>Alan Moore/David   Lloyd</td>\n",
       "    </tr>\n",
       "  </tbody>\n",
       "</table>\n",
       "</div>"
      ],
      "text/plain": [
       "   author_id                          author\n",
       "0          1                      A.S. Byatt\n",
       "1          2  Aesop/Laura Harris/Laura Gibbs\n",
       "2          3                 Agatha Christie\n",
       "3          4                   Alan Brennert\n",
       "4          5        Alan Moore/David   Lloyd"
      ]
     },
     "execution_count": 10,
     "metadata": {},
     "output_type": "execute_result"
    }
   ],
   "source": [
    "SQL(\"\"\"\n",
    "       SELECT *\n",
    "       FROM authors\n",
    "       LIMIT 5;\n",
    "    \"\"\")"
   ]
  },
  {
   "cell_type": "markdown",
   "id": "1f453050",
   "metadata": {},
   "source": [
    "Подсчитаем количество строк в таблице:"
   ]
  },
  {
   "cell_type": "code",
   "execution_count": 11,
   "id": "53c2e2fd",
   "metadata": {},
   "outputs": [
    {
     "data": {
      "text/html": [
       "<div>\n",
       "<style scoped>\n",
       "    .dataframe tbody tr th:only-of-type {\n",
       "        vertical-align: middle;\n",
       "    }\n",
       "\n",
       "    .dataframe tbody tr th {\n",
       "        vertical-align: top;\n",
       "    }\n",
       "\n",
       "    .dataframe thead th {\n",
       "        text-align: right;\n",
       "    }\n",
       "</style>\n",
       "<table border=\"1\" class=\"dataframe\">\n",
       "  <thead>\n",
       "    <tr style=\"text-align: right;\">\n",
       "      <th></th>\n",
       "      <th>count</th>\n",
       "    </tr>\n",
       "  </thead>\n",
       "  <tbody>\n",
       "    <tr>\n",
       "      <th>0</th>\n",
       "      <td>636</td>\n",
       "    </tr>\n",
       "  </tbody>\n",
       "</table>\n",
       "</div>"
      ],
      "text/plain": [
       "   count\n",
       "0    636"
      ]
     },
     "execution_count": 11,
     "metadata": {},
     "output_type": "execute_result"
    }
   ],
   "source": [
    "SQL(\"\"\"\n",
    "       SELECT COUNT(*) \n",
    "       FROM authors;\n",
    "    \"\"\")"
   ]
  },
  {
   "cell_type": "markdown",
   "id": "135915c1",
   "metadata": {},
   "source": [
    "#### Таблица publishers"
   ]
  },
  {
   "cell_type": "markdown",
   "id": "35e515ca",
   "metadata": {},
   "source": [
    "Изучим таблицу:"
   ]
  },
  {
   "cell_type": "code",
   "execution_count": 12,
   "id": "ed9018a8",
   "metadata": {},
   "outputs": [
    {
     "data": {
      "text/html": [
       "<div>\n",
       "<style scoped>\n",
       "    .dataframe tbody tr th:only-of-type {\n",
       "        vertical-align: middle;\n",
       "    }\n",
       "\n",
       "    .dataframe tbody tr th {\n",
       "        vertical-align: top;\n",
       "    }\n",
       "\n",
       "    .dataframe thead th {\n",
       "        text-align: right;\n",
       "    }\n",
       "</style>\n",
       "<table border=\"1\" class=\"dataframe\">\n",
       "  <thead>\n",
       "    <tr style=\"text-align: right;\">\n",
       "      <th></th>\n",
       "      <th>publisher_id</th>\n",
       "      <th>publisher</th>\n",
       "    </tr>\n",
       "  </thead>\n",
       "  <tbody>\n",
       "    <tr>\n",
       "      <th>0</th>\n",
       "      <td>1</td>\n",
       "      <td>Ace</td>\n",
       "    </tr>\n",
       "    <tr>\n",
       "      <th>1</th>\n",
       "      <td>2</td>\n",
       "      <td>Ace Book</td>\n",
       "    </tr>\n",
       "    <tr>\n",
       "      <th>2</th>\n",
       "      <td>3</td>\n",
       "      <td>Ace Books</td>\n",
       "    </tr>\n",
       "    <tr>\n",
       "      <th>3</th>\n",
       "      <td>4</td>\n",
       "      <td>Ace Hardcover</td>\n",
       "    </tr>\n",
       "    <tr>\n",
       "      <th>4</th>\n",
       "      <td>5</td>\n",
       "      <td>Addison Wesley Publishing Company</td>\n",
       "    </tr>\n",
       "  </tbody>\n",
       "</table>\n",
       "</div>"
      ],
      "text/plain": [
       "   publisher_id                          publisher\n",
       "0             1                                Ace\n",
       "1             2                           Ace Book\n",
       "2             3                          Ace Books\n",
       "3             4                      Ace Hardcover\n",
       "4             5  Addison Wesley Publishing Company"
      ]
     },
     "execution_count": 12,
     "metadata": {},
     "output_type": "execute_result"
    }
   ],
   "source": [
    "SQL(\"\"\"\n",
    "       SELECT *\n",
    "       FROM publishers\n",
    "       LIMIT 5;\n",
    "    \"\"\")"
   ]
  },
  {
   "cell_type": "markdown",
   "id": "59b50d94",
   "metadata": {},
   "source": [
    "Подсчитаем количество строк в таблице:"
   ]
  },
  {
   "cell_type": "code",
   "execution_count": 13,
   "id": "81c72ccd",
   "metadata": {},
   "outputs": [
    {
     "data": {
      "text/html": [
       "<div>\n",
       "<style scoped>\n",
       "    .dataframe tbody tr th:only-of-type {\n",
       "        vertical-align: middle;\n",
       "    }\n",
       "\n",
       "    .dataframe tbody tr th {\n",
       "        vertical-align: top;\n",
       "    }\n",
       "\n",
       "    .dataframe thead th {\n",
       "        text-align: right;\n",
       "    }\n",
       "</style>\n",
       "<table border=\"1\" class=\"dataframe\">\n",
       "  <thead>\n",
       "    <tr style=\"text-align: right;\">\n",
       "      <th></th>\n",
       "      <th>count</th>\n",
       "    </tr>\n",
       "  </thead>\n",
       "  <tbody>\n",
       "    <tr>\n",
       "      <th>0</th>\n",
       "      <td>340</td>\n",
       "    </tr>\n",
       "  </tbody>\n",
       "</table>\n",
       "</div>"
      ],
      "text/plain": [
       "   count\n",
       "0    340"
      ]
     },
     "execution_count": 13,
     "metadata": {},
     "output_type": "execute_result"
    }
   ],
   "source": [
    "SQL(\"\"\"\n",
    "       SELECT COUNT(*) \n",
    "       FROM publishers;\n",
    "    \"\"\")"
   ]
  },
  {
   "cell_type": "markdown",
   "id": "dd68f022",
   "metadata": {},
   "source": [
    "#### Таблица ratings"
   ]
  },
  {
   "cell_type": "markdown",
   "id": "cfb77358",
   "metadata": {},
   "source": [
    "Изучим таблицу:"
   ]
  },
  {
   "cell_type": "code",
   "execution_count": 14,
   "id": "fd999cbd",
   "metadata": {},
   "outputs": [
    {
     "data": {
      "text/html": [
       "<div>\n",
       "<style scoped>\n",
       "    .dataframe tbody tr th:only-of-type {\n",
       "        vertical-align: middle;\n",
       "    }\n",
       "\n",
       "    .dataframe tbody tr th {\n",
       "        vertical-align: top;\n",
       "    }\n",
       "\n",
       "    .dataframe thead th {\n",
       "        text-align: right;\n",
       "    }\n",
       "</style>\n",
       "<table border=\"1\" class=\"dataframe\">\n",
       "  <thead>\n",
       "    <tr style=\"text-align: right;\">\n",
       "      <th></th>\n",
       "      <th>rating_id</th>\n",
       "      <th>book_id</th>\n",
       "      <th>username</th>\n",
       "      <th>rating</th>\n",
       "    </tr>\n",
       "  </thead>\n",
       "  <tbody>\n",
       "    <tr>\n",
       "      <th>0</th>\n",
       "      <td>1</td>\n",
       "      <td>1</td>\n",
       "      <td>ryanfranco</td>\n",
       "      <td>4</td>\n",
       "    </tr>\n",
       "    <tr>\n",
       "      <th>1</th>\n",
       "      <td>2</td>\n",
       "      <td>1</td>\n",
       "      <td>grantpatricia</td>\n",
       "      <td>2</td>\n",
       "    </tr>\n",
       "    <tr>\n",
       "      <th>2</th>\n",
       "      <td>3</td>\n",
       "      <td>1</td>\n",
       "      <td>brandtandrea</td>\n",
       "      <td>5</td>\n",
       "    </tr>\n",
       "    <tr>\n",
       "      <th>3</th>\n",
       "      <td>4</td>\n",
       "      <td>2</td>\n",
       "      <td>lorichen</td>\n",
       "      <td>3</td>\n",
       "    </tr>\n",
       "    <tr>\n",
       "      <th>4</th>\n",
       "      <td>5</td>\n",
       "      <td>2</td>\n",
       "      <td>mariokeller</td>\n",
       "      <td>2</td>\n",
       "    </tr>\n",
       "  </tbody>\n",
       "</table>\n",
       "</div>"
      ],
      "text/plain": [
       "   rating_id  book_id       username  rating\n",
       "0          1        1     ryanfranco       4\n",
       "1          2        1  grantpatricia       2\n",
       "2          3        1   brandtandrea       5\n",
       "3          4        2       lorichen       3\n",
       "4          5        2    mariokeller       2"
      ]
     },
     "execution_count": 14,
     "metadata": {},
     "output_type": "execute_result"
    }
   ],
   "source": [
    "SQL(\"\"\"\n",
    "       SELECT *\n",
    "       FROM ratings\n",
    "       LIMIT 5;\n",
    "    \"\"\")"
   ]
  },
  {
   "cell_type": "markdown",
   "id": "4ed2c916",
   "metadata": {},
   "source": [
    "Подсчитаем количество строк в таблице:"
   ]
  },
  {
   "cell_type": "code",
   "execution_count": 15,
   "id": "d60c117a",
   "metadata": {},
   "outputs": [
    {
     "data": {
      "text/html": [
       "<div>\n",
       "<style scoped>\n",
       "    .dataframe tbody tr th:only-of-type {\n",
       "        vertical-align: middle;\n",
       "    }\n",
       "\n",
       "    .dataframe tbody tr th {\n",
       "        vertical-align: top;\n",
       "    }\n",
       "\n",
       "    .dataframe thead th {\n",
       "        text-align: right;\n",
       "    }\n",
       "</style>\n",
       "<table border=\"1\" class=\"dataframe\">\n",
       "  <thead>\n",
       "    <tr style=\"text-align: right;\">\n",
       "      <th></th>\n",
       "      <th>count</th>\n",
       "    </tr>\n",
       "  </thead>\n",
       "  <tbody>\n",
       "    <tr>\n",
       "      <th>0</th>\n",
       "      <td>6456</td>\n",
       "    </tr>\n",
       "  </tbody>\n",
       "</table>\n",
       "</div>"
      ],
      "text/plain": [
       "   count\n",
       "0   6456"
      ]
     },
     "execution_count": 15,
     "metadata": {},
     "output_type": "execute_result"
    }
   ],
   "source": [
    "SQL(\"\"\"\n",
    "       SELECT COUNT(*) \n",
    "       FROM ratings;\n",
    "    \"\"\")"
   ]
  },
  {
   "cell_type": "markdown",
   "id": "90b2276e",
   "metadata": {},
   "source": [
    "#### Таблица reviews\n",
    "\n"
   ]
  },
  {
   "cell_type": "markdown",
   "id": "799783c4",
   "metadata": {},
   "source": [
    "Изучим таблицу:"
   ]
  },
  {
   "cell_type": "code",
   "execution_count": 16,
   "id": "479f7c4f",
   "metadata": {},
   "outputs": [
    {
     "data": {
      "text/html": [
       "<div>\n",
       "<style scoped>\n",
       "    .dataframe tbody tr th:only-of-type {\n",
       "        vertical-align: middle;\n",
       "    }\n",
       "\n",
       "    .dataframe tbody tr th {\n",
       "        vertical-align: top;\n",
       "    }\n",
       "\n",
       "    .dataframe thead th {\n",
       "        text-align: right;\n",
       "    }\n",
       "</style>\n",
       "<table border=\"1\" class=\"dataframe\">\n",
       "  <thead>\n",
       "    <tr style=\"text-align: right;\">\n",
       "      <th></th>\n",
       "      <th>review_id</th>\n",
       "      <th>book_id</th>\n",
       "      <th>username</th>\n",
       "      <th>text</th>\n",
       "    </tr>\n",
       "  </thead>\n",
       "  <tbody>\n",
       "    <tr>\n",
       "      <th>0</th>\n",
       "      <td>1</td>\n",
       "      <td>1</td>\n",
       "      <td>brandtandrea</td>\n",
       "      <td>Mention society tell send professor analysis. ...</td>\n",
       "    </tr>\n",
       "    <tr>\n",
       "      <th>1</th>\n",
       "      <td>2</td>\n",
       "      <td>1</td>\n",
       "      <td>ryanfranco</td>\n",
       "      <td>Foot glass pretty audience hit themselves. Amo...</td>\n",
       "    </tr>\n",
       "    <tr>\n",
       "      <th>2</th>\n",
       "      <td>3</td>\n",
       "      <td>2</td>\n",
       "      <td>lorichen</td>\n",
       "      <td>Listen treat keep worry. Miss husband tax but ...</td>\n",
       "    </tr>\n",
       "    <tr>\n",
       "      <th>3</th>\n",
       "      <td>4</td>\n",
       "      <td>3</td>\n",
       "      <td>johnsonamanda</td>\n",
       "      <td>Finally month interesting blue could nature cu...</td>\n",
       "    </tr>\n",
       "    <tr>\n",
       "      <th>4</th>\n",
       "      <td>5</td>\n",
       "      <td>3</td>\n",
       "      <td>scotttamara</td>\n",
       "      <td>Nation purpose heavy give wait song will. List...</td>\n",
       "    </tr>\n",
       "  </tbody>\n",
       "</table>\n",
       "</div>"
      ],
      "text/plain": [
       "   review_id  book_id       username  \\\n",
       "0          1        1   brandtandrea   \n",
       "1          2        1     ryanfranco   \n",
       "2          3        2       lorichen   \n",
       "3          4        3  johnsonamanda   \n",
       "4          5        3    scotttamara   \n",
       "\n",
       "                                                text  \n",
       "0  Mention society tell send professor analysis. ...  \n",
       "1  Foot glass pretty audience hit themselves. Amo...  \n",
       "2  Listen treat keep worry. Miss husband tax but ...  \n",
       "3  Finally month interesting blue could nature cu...  \n",
       "4  Nation purpose heavy give wait song will. List...  "
      ]
     },
     "execution_count": 16,
     "metadata": {},
     "output_type": "execute_result"
    }
   ],
   "source": [
    "SQL(\"\"\"\n",
    "       SELECT *\n",
    "       FROM reviews\n",
    "       LIMIT 5;\n",
    "    \"\"\")"
   ]
  },
  {
   "cell_type": "markdown",
   "id": "7816ea0a",
   "metadata": {},
   "source": [
    "Подсчитаем количество строк в таблице:"
   ]
  },
  {
   "cell_type": "code",
   "execution_count": 17,
   "id": "a2106a69",
   "metadata": {},
   "outputs": [
    {
     "data": {
      "text/html": [
       "<div>\n",
       "<style scoped>\n",
       "    .dataframe tbody tr th:only-of-type {\n",
       "        vertical-align: middle;\n",
       "    }\n",
       "\n",
       "    .dataframe tbody tr th {\n",
       "        vertical-align: top;\n",
       "    }\n",
       "\n",
       "    .dataframe thead th {\n",
       "        text-align: right;\n",
       "    }\n",
       "</style>\n",
       "<table border=\"1\" class=\"dataframe\">\n",
       "  <thead>\n",
       "    <tr style=\"text-align: right;\">\n",
       "      <th></th>\n",
       "      <th>count</th>\n",
       "    </tr>\n",
       "  </thead>\n",
       "  <tbody>\n",
       "    <tr>\n",
       "      <th>0</th>\n",
       "      <td>2793</td>\n",
       "    </tr>\n",
       "  </tbody>\n",
       "</table>\n",
       "</div>"
      ],
      "text/plain": [
       "   count\n",
       "0   2793"
      ]
     },
     "execution_count": 17,
     "metadata": {},
     "output_type": "execute_result"
    }
   ],
   "source": [
    "SQL(\"\"\"\n",
    "       SELECT COUNT(*) \n",
    "       FROM reviews;\n",
    "    \"\"\")"
   ]
  },
  {
   "cell_type": "markdown",
   "id": "5b86cb6f",
   "metadata": {},
   "source": [
    "Были загружены и изучены таблицы из базы данных, содержащей информацию о книгах, издательствах, авторах, а также пользовательские обзоры книг. \n",
    "\n",
    "**Таблицы:**\n",
    "1. **books** содержит данные о книгах и состоит из 1000 записей;\n",
    "2. **authors** содержит данные об авторах и состоит из 636 записей;\n",
    "3. **publishers** содержит данные об издательствах и состоит из 340 записей;\n",
    "4. **ratings** содержит данные о пользовательских оценках книг и состоит из 6456 записей;\n",
    "5. **reviews** содержит данные о пользовательских обзорах на книги и состоит из 2793 записей."
   ]
  },
  {
   "cell_type": "markdown",
   "id": "3975ef25",
   "metadata": {},
   "source": [
    "### Расчет количества книг, которые вышли после 1 января 2000 года"
   ]
  },
  {
   "cell_type": "markdown",
   "id": "2e8d8325",
   "metadata": {},
   "source": [
    "Рассчитаем количество книг, которые были опубликованы после 1 января 2000 года:"
   ]
  },
  {
   "cell_type": "code",
   "execution_count": 18,
   "id": "19d4e326",
   "metadata": {},
   "outputs": [
    {
     "data": {
      "text/html": [
       "<div>\n",
       "<style scoped>\n",
       "    .dataframe tbody tr th:only-of-type {\n",
       "        vertical-align: middle;\n",
       "    }\n",
       "\n",
       "    .dataframe tbody tr th {\n",
       "        vertical-align: top;\n",
       "    }\n",
       "\n",
       "    .dataframe thead th {\n",
       "        text-align: right;\n",
       "    }\n",
       "</style>\n",
       "<table border=\"1\" class=\"dataframe\">\n",
       "  <thead>\n",
       "    <tr style=\"text-align: right;\">\n",
       "      <th></th>\n",
       "      <th>cnt_books</th>\n",
       "    </tr>\n",
       "  </thead>\n",
       "  <tbody>\n",
       "    <tr>\n",
       "      <th>0</th>\n",
       "      <td>819</td>\n",
       "    </tr>\n",
       "  </tbody>\n",
       "</table>\n",
       "</div>"
      ],
      "text/plain": [
       "   cnt_books\n",
       "0        819"
      ]
     },
     "execution_count": 18,
     "metadata": {},
     "output_type": "execute_result"
    }
   ],
   "source": [
    "SQL(\"\"\"\n",
    "       SELECT COUNT(book_id) AS cnt_books\n",
    "       FROM books\n",
    "       WHERE publication_date > '2000-01-01';\n",
    "    \"\"\")"
   ]
  },
  {
   "cell_type": "markdown",
   "id": "69b437df",
   "metadata": {},
   "source": [
    "В базе найдена 819 книг с датой публикации после 1 января 2000 года.  \n",
    "\n",
    "Определим есть ли а базе книги, которые были выпущены после 1 января 2000 года в разных вариантах:"
   ]
  },
  {
   "cell_type": "code",
   "execution_count": 19,
   "id": "8a16917a",
   "metadata": {},
   "outputs": [
    {
     "data": {
      "text/html": [
       "<div>\n",
       "<style scoped>\n",
       "    .dataframe tbody tr th:only-of-type {\n",
       "        vertical-align: middle;\n",
       "    }\n",
       "\n",
       "    .dataframe tbody tr th {\n",
       "        vertical-align: top;\n",
       "    }\n",
       "\n",
       "    .dataframe thead th {\n",
       "        text-align: right;\n",
       "    }\n",
       "</style>\n",
       "<table border=\"1\" class=\"dataframe\">\n",
       "  <thead>\n",
       "    <tr style=\"text-align: right;\">\n",
       "      <th></th>\n",
       "      <th>book_id</th>\n",
       "      <th>publication_date</th>\n",
       "      <th>author</th>\n",
       "      <th>title</th>\n",
       "      <th>num_pages</th>\n",
       "      <th>publisher</th>\n",
       "    </tr>\n",
       "  </thead>\n",
       "  <tbody>\n",
       "    <tr>\n",
       "      <th>0</th>\n",
       "      <td>426</td>\n",
       "      <td>2005-11-15</td>\n",
       "      <td>Arthur Golden</td>\n",
       "      <td>Memoirs of a Geisha</td>\n",
       "      <td>434</td>\n",
       "      <td>Random House Large Print Publishing</td>\n",
       "    </tr>\n",
       "    <tr>\n",
       "      <th>1</th>\n",
       "      <td>427</td>\n",
       "      <td>2005-11-22</td>\n",
       "      <td>Arthur Golden</td>\n",
       "      <td>Memoirs of a Geisha</td>\n",
       "      <td>503</td>\n",
       "      <td>Vintage Books USA</td>\n",
       "    </tr>\n",
       "  </tbody>\n",
       "</table>\n",
       "</div>"
      ],
      "text/plain": [
       "   book_id publication_date         author                title  num_pages  \\\n",
       "0      426       2005-11-15  Arthur Golden  Memoirs of a Geisha        434   \n",
       "1      427       2005-11-22  Arthur Golden  Memoirs of a Geisha        503   \n",
       "\n",
       "                             publisher  \n",
       "0  Random House Large Print Publishing  \n",
       "1                    Vintage Books USA  "
      ]
     },
     "execution_count": 19,
     "metadata": {},
     "output_type": "execute_result"
    }
   ],
   "source": [
    "SQL(\"\"\"\n",
    "       SELECT book_id, publication_date, author, title, num_pages, publisher \n",
    "       FROM books \n",
    "            INNER JOIN authors ON books.author_id = authors.author_id\n",
    "            INNER JOIN publishers ON books.publisher_id = publishers.publisher_id\n",
    "       WHERE title IN (SELECT title \n",
    "                       FROM books \n",
    "                       GROUP BY title \n",
    "                       HAVING COUNT(*) > 1) AND \n",
    "                       publication_date >= '2000-01-01';\n",
    "    \"\"\")"
   ]
  },
  {
   "cell_type": "markdown",
   "id": "be0fdbee",
   "metadata": {},
   "source": [
    "В базе данных 2 книги \"Memoirs of a Geisha\", изданные после 2000 года встречаются в 2 вариантах издания."
   ]
  },
  {
   "cell_type": "markdown",
   "id": "2670e75c",
   "metadata": {},
   "source": [
    "### Расчет количества обзоров и средней оценки для каждой книги"
   ]
  },
  {
   "cell_type": "markdown",
   "id": "f14d2304",
   "metadata": {},
   "source": [
    "Рассчитаем количество уникальных обзоров и рейтинг для каждой книги:"
   ]
  },
  {
   "cell_type": "code",
   "execution_count": 20,
   "id": "42a8d817",
   "metadata": {
    "code_folding": []
   },
   "outputs": [
    {
     "data": {
      "text/html": [
       "<div>\n",
       "<style scoped>\n",
       "    .dataframe tbody tr th:only-of-type {\n",
       "        vertical-align: middle;\n",
       "    }\n",
       "\n",
       "    .dataframe tbody tr th {\n",
       "        vertical-align: top;\n",
       "    }\n",
       "\n",
       "    .dataframe thead th {\n",
       "        text-align: right;\n",
       "    }\n",
       "</style>\n",
       "<table border=\"1\" class=\"dataframe\">\n",
       "  <thead>\n",
       "    <tr style=\"text-align: right;\">\n",
       "      <th></th>\n",
       "      <th>book_id</th>\n",
       "      <th>author</th>\n",
       "      <th>title</th>\n",
       "      <th>cnt_review</th>\n",
       "      <th>avg_rating</th>\n",
       "    </tr>\n",
       "  </thead>\n",
       "  <tbody>\n",
       "    <tr>\n",
       "      <th>0</th>\n",
       "      <td>948</td>\n",
       "      <td>Stephenie Meyer</td>\n",
       "      <td>Twilight (Twilight  #1)</td>\n",
       "      <td>7</td>\n",
       "      <td>3.662500</td>\n",
       "    </tr>\n",
       "    <tr>\n",
       "      <th>1</th>\n",
       "      <td>497</td>\n",
       "      <td>Diana Gabaldon</td>\n",
       "      <td>Outlander (Outlander  #1)</td>\n",
       "      <td>6</td>\n",
       "      <td>4.125000</td>\n",
       "    </tr>\n",
       "    <tr>\n",
       "      <th>2</th>\n",
       "      <td>207</td>\n",
       "      <td>Elizabeth Gilbert</td>\n",
       "      <td>Eat  Pray  Love</td>\n",
       "      <td>6</td>\n",
       "      <td>3.395833</td>\n",
       "    </tr>\n",
       "    <tr>\n",
       "      <th>3</th>\n",
       "      <td>299</td>\n",
       "      <td>J.K. Rowling/Mary GrandPré</td>\n",
       "      <td>Harry Potter and the Chamber of Secrets (Harry...</td>\n",
       "      <td>6</td>\n",
       "      <td>4.287500</td>\n",
       "    </tr>\n",
       "    <tr>\n",
       "      <th>4</th>\n",
       "      <td>302</td>\n",
       "      <td>J.K. Rowling/Mary GrandPré</td>\n",
       "      <td>Harry Potter and the Prisoner of Azkaban (Harr...</td>\n",
       "      <td>6</td>\n",
       "      <td>4.414634</td>\n",
       "    </tr>\n",
       "  </tbody>\n",
       "</table>\n",
       "</div>"
      ],
      "text/plain": [
       "   book_id                      author  \\\n",
       "0      948             Stephenie Meyer   \n",
       "1      497              Diana Gabaldon   \n",
       "2      207           Elizabeth Gilbert   \n",
       "3      299  J.K. Rowling/Mary GrandPré   \n",
       "4      302  J.K. Rowling/Mary GrandPré   \n",
       "\n",
       "                                               title  cnt_review  avg_rating  \n",
       "0                            Twilight (Twilight  #1)           7    3.662500  \n",
       "1                          Outlander (Outlander  #1)           6    4.125000  \n",
       "2                                    Eat  Pray  Love           6    3.395833  \n",
       "3  Harry Potter and the Chamber of Secrets (Harry...           6    4.287500  \n",
       "4  Harry Potter and the Prisoner of Azkaban (Harr...           6    4.414634  "
      ]
     },
     "execution_count": 20,
     "metadata": {},
     "output_type": "execute_result"
    }
   ],
   "source": [
    "SQL(\"\"\"\n",
    "       SELECT books.book_id,\n",
    "              authors.author,\n",
    "              books.title,\n",
    "              COUNT(DISTINCT reviews.review_id) AS cnt_review,\n",
    "              AVG(ratings.rating) AS avg_rating\n",
    "       FROM books \n",
    "            LEFT JOIN authors ON books.author_id = authors.author_id\n",
    "            LEFT JOIN reviews ON books.book_id = reviews.book_id\n",
    "            LEFT JOIN ratings ON books.book_id = ratings.book_id\n",
    "        GROUP BY books.book_id, authors.author, books.title\n",
    "        ORDER BY cnt_review DESC\n",
    "        LIMIT 5;\n",
    "    \"\"\")     "
   ]
  },
  {
   "cell_type": "markdown",
   "id": "10914b18",
   "metadata": {},
   "source": [
    "В базе присутствуют книги, которые не имеют оценок. Максимальное количество оценок 7 для Twilight #1 Stephenie Meyer. \t"
   ]
  },
  {
   "cell_type": "markdown",
   "id": "de19caab",
   "metadata": {},
   "source": [
    "### Определение издательства, которое выпустило наибольшее число книг толще 50 страниц"
   ]
  },
  {
   "cell_type": "markdown",
   "id": "869a3039",
   "metadata": {},
   "source": [
    "Определим издательство, которое выпустило наибольшее число книг толще 50 страниц, чтобы исключить из анализа брошюры:"
   ]
  },
  {
   "cell_type": "code",
   "execution_count": 21,
   "id": "7a2aef21",
   "metadata": {},
   "outputs": [
    {
     "data": {
      "text/html": [
       "<div>\n",
       "<style scoped>\n",
       "    .dataframe tbody tr th:only-of-type {\n",
       "        vertical-align: middle;\n",
       "    }\n",
       "\n",
       "    .dataframe tbody tr th {\n",
       "        vertical-align: top;\n",
       "    }\n",
       "\n",
       "    .dataframe thead th {\n",
       "        text-align: right;\n",
       "    }\n",
       "</style>\n",
       "<table border=\"1\" class=\"dataframe\">\n",
       "  <thead>\n",
       "    <tr style=\"text-align: right;\">\n",
       "      <th></th>\n",
       "      <th>publisher</th>\n",
       "      <th>cnt_book</th>\n",
       "    </tr>\n",
       "  </thead>\n",
       "  <tbody>\n",
       "    <tr>\n",
       "      <th>0</th>\n",
       "      <td>Penguin Books</td>\n",
       "      <td>42</td>\n",
       "    </tr>\n",
       "  </tbody>\n",
       "</table>\n",
       "</div>"
      ],
      "text/plain": [
       "       publisher  cnt_book\n",
       "0  Penguin Books        42"
      ]
     },
     "execution_count": 21,
     "metadata": {},
     "output_type": "execute_result"
    }
   ],
   "source": [
    "SQL(\"\"\"\n",
    "       SELECT publisher,\n",
    "              COUNT(book_id) AS cnt_book\n",
    "       FROM publishers\n",
    "            INNER JOIN books ON books.publisher_id = publishers.publisher_id\n",
    "       WHERE num_pages > 50\n",
    "       GROUP BY publisher\n",
    "       ORDER BY cnt_book DESC\n",
    "       LIMIT 1;\n",
    "    \"\"\")"
   ]
  },
  {
   "cell_type": "markdown",
   "id": "9ef43c59",
   "metadata": {},
   "source": [
    "Издательство, которое выпустило больше всего книг - Penguin Books. "
   ]
  },
  {
   "cell_type": "markdown",
   "id": "e093fdf1",
   "metadata": {},
   "source": [
    "### Определение автора с самой высокой средней оценкой книг"
   ]
  },
  {
   "cell_type": "markdown",
   "id": "89513d9e",
   "metadata": {},
   "source": [
    "Определим автора с самой высокой средней оценкой книг. Учитывать будем только книги с 50 и более оценками:"
   ]
  },
  {
   "cell_type": "code",
   "execution_count": 22,
   "id": "e149feaf",
   "metadata": {},
   "outputs": [
    {
     "data": {
      "text/html": [
       "<div>\n",
       "<style scoped>\n",
       "    .dataframe tbody tr th:only-of-type {\n",
       "        vertical-align: middle;\n",
       "    }\n",
       "\n",
       "    .dataframe tbody tr th {\n",
       "        vertical-align: top;\n",
       "    }\n",
       "\n",
       "    .dataframe thead th {\n",
       "        text-align: right;\n",
       "    }\n",
       "</style>\n",
       "<table border=\"1\" class=\"dataframe\">\n",
       "  <thead>\n",
       "    <tr style=\"text-align: right;\">\n",
       "      <th></th>\n",
       "      <th>author</th>\n",
       "      <th>avg_rating</th>\n",
       "    </tr>\n",
       "  </thead>\n",
       "  <tbody>\n",
       "    <tr>\n",
       "      <th>0</th>\n",
       "      <td>J.K. Rowling/Mary GrandPré</td>\n",
       "      <td>4.28</td>\n",
       "    </tr>\n",
       "  </tbody>\n",
       "</table>\n",
       "</div>"
      ],
      "text/plain": [
       "                       author  avg_rating\n",
       "0  J.K. Rowling/Mary GrandPré        4.28"
      ]
     },
     "execution_count": 22,
     "metadata": {},
     "output_type": "execute_result"
    }
   ],
   "source": [
    "SQL(\"\"\"\n",
    "       SELECT SUBQ.author, ROUND(AVG(SUBQ.avg_rating), 2) AS avg_rating\n",
    "       FROM (SELECT authors.author,\n",
    "             AVG(ratings.rating) AS avg_rating\n",
    "       FROM books \n",
    "            LEFT JOIN authors ON books.author_id = authors.author_id\n",
    "            LEFT JOIN ratings ON books.book_id = ratings.book_id\n",
    "       GROUP BY books.book_id, authors.author\n",
    "       HAVING COUNT(DISTINCT ratings.rating_id) > 50) AS SUBQ\n",
    "       GROUP BY SUBQ.author\n",
    "       ORDER BY avg_rating DESC\n",
    "       LIMIT 1;\n",
    "    \"\"\")     "
   ]
  },
  {
   "cell_type": "markdown",
   "id": "d2967a92",
   "metadata": {},
   "source": [
    "Автор с самой высокой средней оценкой книг, среди книг с 50 и более оценками - Джоан Роулинг, со средним рейтингом 4,28."
   ]
  },
  {
   "cell_type": "markdown",
   "id": "b161986c",
   "metadata": {},
   "source": [
    "### Расчет среднего количество обзоров от пользователей, которые поставили больше 50 оценок"
   ]
  },
  {
   "cell_type": "markdown",
   "id": "52cab6a3",
   "metadata": {},
   "source": [
    "Рассчитаем среднее количество обзоров от пользователей, которые поставили больше 50 оценок"
   ]
  },
  {
   "cell_type": "code",
   "execution_count": 23,
   "id": "a411efbd",
   "metadata": {
    "code_folding": []
   },
   "outputs": [
    {
     "data": {
      "text/html": [
       "<div>\n",
       "<style scoped>\n",
       "    .dataframe tbody tr th:only-of-type {\n",
       "        vertical-align: middle;\n",
       "    }\n",
       "\n",
       "    .dataframe tbody tr th {\n",
       "        vertical-align: top;\n",
       "    }\n",
       "\n",
       "    .dataframe thead th {\n",
       "        text-align: right;\n",
       "    }\n",
       "</style>\n",
       "<table border=\"1\" class=\"dataframe\">\n",
       "  <thead>\n",
       "    <tr style=\"text-align: right;\">\n",
       "      <th></th>\n",
       "      <th>avg_cnt_reviews</th>\n",
       "    </tr>\n",
       "  </thead>\n",
       "  <tbody>\n",
       "    <tr>\n",
       "      <th>0</th>\n",
       "      <td>24.33</td>\n",
       "    </tr>\n",
       "  </tbody>\n",
       "</table>\n",
       "</div>"
      ],
      "text/plain": [
       "   avg_cnt_reviews\n",
       "0            24.33"
      ]
     },
     "execution_count": 23,
     "metadata": {},
     "output_type": "execute_result"
    }
   ],
   "source": [
    "SQL(\"\"\"\n",
    "       SELECT ROUND(AVG(SUBQ.count), 2) AS avg_cnt_reviews\n",
    "       FROM (SELECT COUNT(*)\n",
    "             FROM reviews\n",
    "             WHERE username IN (SELECT username\n",
    "                                FROM ratings\n",
    "                                GROUP BY username\n",
    "                                HAVING COUNT(rating) > 50)\n",
    "            GROUP BY username) AS SUBQ;\n",
    "    \"\"\")"
   ]
  },
  {
   "cell_type": "markdown",
   "id": "3ed61a6b",
   "metadata": {},
   "source": [
    "## Вывод"
   ]
  },
  {
   "cell_type": "markdown",
   "id": "1cdc7f73",
   "metadata": {},
   "source": [
    "1. Количество книг в базе данных с датой публикации после 1 января 2000 года - 819.  \n",
    "2. В базе присутствуют книги, которые не имеют оценок. Максимальное количество оценок 7 для Twilight #1 Stephenie Meyer. \n",
    "3. Издательство, которое выпустило наибольшее количество книг - Penguin Books.\n",
    "4. Автор с самой высокой средней оценкой книг, среди книг с 50 и более оценками - Джоан Роулинг, средний рейтинг 4,28\n",
    "5. Пользователи, которые поставили больше 50 оценок, оставляют в среднем 24 рецензии."
   ]
  }
 ],
 "metadata": {
  "ExecuteTimeLog": [
   {
    "duration": 812,
    "start_time": "2022-02-13T17:45:42.104Z"
   },
   {
    "duration": 1243,
    "start_time": "2022-02-13T17:45:42.919Z"
   },
   {
    "duration": 43,
    "start_time": "2022-02-13T17:45:44.166Z"
   },
   {
    "duration": 4,
    "start_time": "2022-02-13T17:45:44.212Z"
   },
   {
    "duration": 262,
    "start_time": "2022-02-13T17:45:44.219Z"
   },
   {
    "duration": 71,
    "start_time": "2022-02-13T17:45:44.484Z"
   },
   {
    "duration": 71,
    "start_time": "2022-02-13T17:45:44.558Z"
   },
   {
    "duration": 75,
    "start_time": "2022-02-13T17:45:44.631Z"
   },
   {
    "duration": 74,
    "start_time": "2022-02-13T17:45:44.709Z"
   },
   {
    "duration": 72,
    "start_time": "2022-02-13T17:45:44.786Z"
   },
   {
    "duration": 74,
    "start_time": "2022-02-13T17:45:44.861Z"
   },
   {
    "duration": 71,
    "start_time": "2022-02-13T17:45:44.938Z"
   },
   {
    "duration": 74,
    "start_time": "2022-02-13T17:45:45.012Z"
   },
   {
    "duration": 74,
    "start_time": "2022-02-13T17:45:45.089Z"
   },
   {
    "duration": 72,
    "start_time": "2022-02-13T17:45:45.165Z"
   },
   {
    "duration": 77,
    "start_time": "2022-02-13T17:45:45.239Z"
   },
   {
    "duration": 95,
    "start_time": "2022-02-13T17:45:45.319Z"
   },
   {
    "duration": 79,
    "start_time": "2022-02-13T17:45:45.417Z"
   },
   {
    "duration": 90,
    "start_time": "2022-02-13T17:45:45.499Z"
   },
   {
    "duration": 74,
    "start_time": "2022-02-13T17:45:45.592Z"
   },
   {
    "duration": 960,
    "start_time": "2022-02-13T18:19:38.143Z"
   },
   {
    "duration": 1020,
    "start_time": "2022-02-13T18:19:39.106Z"
   },
   {
    "duration": 43,
    "start_time": "2022-02-13T18:19:40.129Z"
   },
   {
    "duration": 4,
    "start_time": "2022-02-13T18:19:40.175Z"
   },
   {
    "duration": 240,
    "start_time": "2022-02-13T18:19:40.182Z"
   },
   {
    "duration": 66,
    "start_time": "2022-02-13T18:19:40.424Z"
   },
   {
    "duration": 68,
    "start_time": "2022-02-13T18:19:40.492Z"
   },
   {
    "duration": 66,
    "start_time": "2022-02-13T18:19:40.564Z"
   },
   {
    "duration": 70,
    "start_time": "2022-02-13T18:19:40.632Z"
   },
   {
    "duration": 68,
    "start_time": "2022-02-13T18:19:40.705Z"
   },
   {
    "duration": 71,
    "start_time": "2022-02-13T18:19:40.776Z"
   },
   {
    "duration": 66,
    "start_time": "2022-02-13T18:19:40.850Z"
   },
   {
    "duration": 68,
    "start_time": "2022-02-13T18:19:40.919Z"
   },
   {
    "duration": 65,
    "start_time": "2022-02-13T18:19:40.990Z"
   },
   {
    "duration": 64,
    "start_time": "2022-02-13T18:19:41.058Z"
   },
   {
    "duration": 70,
    "start_time": "2022-02-13T18:19:41.125Z"
   },
   {
    "duration": 82,
    "start_time": "2022-02-13T18:19:41.198Z"
   },
   {
    "duration": 67,
    "start_time": "2022-02-13T18:19:41.282Z"
   },
   {
    "duration": 85,
    "start_time": "2022-02-13T18:19:41.352Z"
   },
   {
    "duration": 75,
    "start_time": "2022-02-13T18:19:41.440Z"
   },
   {
    "duration": 119,
    "start_time": "2022-02-13T18:35:04.934Z"
   },
   {
    "duration": 82,
    "start_time": "2022-02-13T18:35:07.597Z"
   },
   {
    "duration": 120,
    "start_time": "2022-02-13T18:36:04.058Z"
   },
   {
    "duration": 81,
    "start_time": "2022-02-13T18:36:09.864Z"
   },
   {
    "duration": 91,
    "start_time": "2022-02-13T18:36:25.064Z"
   },
   {
    "duration": 85,
    "start_time": "2022-02-13T18:36:33.003Z"
   },
   {
    "duration": 1108,
    "start_time": "2022-02-13T18:41:05.036Z"
   },
   {
    "duration": 1111,
    "start_time": "2022-02-13T18:41:06.149Z"
   },
   {
    "duration": 45,
    "start_time": "2022-02-13T18:41:07.263Z"
   },
   {
    "duration": 4,
    "start_time": "2022-02-13T18:41:07.312Z"
   },
   {
    "duration": 248,
    "start_time": "2022-02-13T18:41:07.319Z"
   },
   {
    "duration": 68,
    "start_time": "2022-02-13T18:41:07.569Z"
   },
   {
    "duration": 70,
    "start_time": "2022-02-13T18:41:07.640Z"
   },
   {
    "duration": 66,
    "start_time": "2022-02-13T18:41:07.715Z"
   },
   {
    "duration": 67,
    "start_time": "2022-02-13T18:41:07.784Z"
   },
   {
    "duration": 67,
    "start_time": "2022-02-13T18:41:07.853Z"
   },
   {
    "duration": 68,
    "start_time": "2022-02-13T18:41:07.923Z"
   },
   {
    "duration": 68,
    "start_time": "2022-02-13T18:41:07.994Z"
   },
   {
    "duration": 69,
    "start_time": "2022-02-13T18:41:08.065Z"
   },
   {
    "duration": 69,
    "start_time": "2022-02-13T18:41:08.137Z"
   },
   {
    "duration": 66,
    "start_time": "2022-02-13T18:41:08.208Z"
   },
   {
    "duration": 74,
    "start_time": "2022-02-13T18:41:08.277Z"
   },
   {
    "duration": 85,
    "start_time": "2022-02-13T18:41:08.354Z"
   },
   {
    "duration": 70,
    "start_time": "2022-02-13T18:41:08.441Z"
   },
   {
    "duration": 86,
    "start_time": "2022-02-13T18:41:08.513Z"
   },
   {
    "duration": 69,
    "start_time": "2022-02-13T18:41:08.602Z"
   },
   {
    "duration": 652,
    "start_time": "2022-02-13T21:04:08.737Z"
   },
   {
    "duration": 980,
    "start_time": "2022-02-13T21:04:09.391Z"
   },
   {
    "duration": 158,
    "start_time": "2022-02-13T21:04:10.372Z"
   },
   {
    "duration": 2,
    "start_time": "2022-02-13T21:04:10.532Z"
   },
   {
    "duration": 259,
    "start_time": "2022-02-13T21:04:10.536Z"
   },
   {
    "duration": 62,
    "start_time": "2022-02-13T21:04:10.797Z"
   },
   {
    "duration": 66,
    "start_time": "2022-02-13T21:04:10.861Z"
   },
   {
    "duration": 63,
    "start_time": "2022-02-13T21:04:10.930Z"
   },
   {
    "duration": 63,
    "start_time": "2022-02-13T21:04:10.995Z"
   },
   {
    "duration": 61,
    "start_time": "2022-02-13T21:04:11.059Z"
   },
   {
    "duration": 63,
    "start_time": "2022-02-13T21:04:11.122Z"
   },
   {
    "duration": 62,
    "start_time": "2022-02-13T21:04:11.186Z"
   },
   {
    "duration": 63,
    "start_time": "2022-02-13T21:04:11.250Z"
   },
   {
    "duration": 65,
    "start_time": "2022-02-13T21:04:11.315Z"
   },
   {
    "duration": 63,
    "start_time": "2022-02-13T21:04:11.382Z"
   },
   {
    "duration": 66,
    "start_time": "2022-02-13T21:04:11.447Z"
   },
   {
    "duration": 82,
    "start_time": "2022-02-13T21:04:11.514Z"
   },
   {
    "duration": 64,
    "start_time": "2022-02-13T21:04:11.597Z"
   },
   {
    "duration": 68,
    "start_time": "2022-02-13T21:04:11.663Z"
   },
   {
    "duration": 66,
    "start_time": "2022-02-13T21:04:11.733Z"
   },
   {
    "duration": 111,
    "start_time": "2022-02-13T21:07:34.910Z"
   },
   {
    "duration": 80,
    "start_time": "2022-02-13T21:07:38.612Z"
   },
   {
    "duration": 67,
    "start_time": "2022-02-13T21:10:49.706Z"
   },
   {
    "duration": 69,
    "start_time": "2022-02-13T21:10:52.673Z"
   }
  ],
  "hide_input": false,
  "kernelspec": {
   "display_name": "Python 3 (ipykernel)",
   "language": "python",
   "name": "python3"
  },
  "language_info": {
   "codemirror_mode": {
    "name": "ipython",
    "version": 3
   },
   "file_extension": ".py",
   "mimetype": "text/x-python",
   "name": "python",
   "nbconvert_exporter": "python",
   "pygments_lexer": "ipython3",
   "version": "3.9.7"
  },
  "toc": {
   "base_numbering": 1,
   "nav_menu": {},
   "number_sections": true,
   "sideBar": true,
   "skip_h1_title": true,
   "title_cell": "Содержание",
   "title_sidebar": "Содержание",
   "toc_cell": true,
   "toc_position": {
    "height": "calc(100% - 180px)",
    "left": "10px",
    "top": "150px",
    "width": "260.633px"
   },
   "toc_section_display": true,
   "toc_window_display": true
  },
  "varInspector": {
   "cols": {
    "lenName": 16,
    "lenType": 16,
    "lenVar": 40
   },
   "kernels_config": {
    "python": {
     "delete_cmd_postfix": "",
     "delete_cmd_prefix": "del ",
     "library": "var_list.py",
     "varRefreshCmd": "print(var_dic_list())"
    },
    "r": {
     "delete_cmd_postfix": ") ",
     "delete_cmd_prefix": "rm(",
     "library": "var_list.r",
     "varRefreshCmd": "cat(var_dic_list()) "
    }
   },
   "types_to_exclude": [
    "module",
    "function",
    "builtin_function_or_method",
    "instance",
    "_Feature"
   ],
   "window_display": false
  }
 },
 "nbformat": 4,
 "nbformat_minor": 5
}
