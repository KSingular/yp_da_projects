{
 "cells": [
  {
   "cell_type": "markdown",
   "metadata": {},
   "source": [
    "<div class=\"title_project\">Анализ данных для подготовки плана действий по удержанию клиентов сети <br>\n",
    "    фитнес-центров \"Культурист-датасаентист\"</div>"
   ]
  },
  {
   "cell_type": "markdown",
   "metadata": {
    "toc": true
   },
   "source": [
    "<h1>Содержание<span class=\"tocSkip\"></span></h1>\n",
    "<div class=\"toc\"><ul class=\"toc-item\"><li><span><a href=\"#Введение\" data-toc-modified-id=\"Введение-1\"><span class=\"toc-item-num\">1&nbsp;&nbsp;</span>Введение</a></span></li><li><span><a href=\"#Импорт-библиотек-Python\" data-toc-modified-id=\"Импорт-библиотек-Python-2\"><span class=\"toc-item-num\">2&nbsp;&nbsp;</span>Импорт библиотек Python</a></span></li><li><span><a href=\"#Оформление-и-стили\" data-toc-modified-id=\"Оформление-и-стили-3\"><span class=\"toc-item-num\">3&nbsp;&nbsp;</span>Оформление и стили</a></span></li><li><span><a href=\"#Импорт-файлов\" data-toc-modified-id=\"Импорт-файлов-4\"><span class=\"toc-item-num\">4&nbsp;&nbsp;</span>Импорт файлов</a></span></li><li><span><a href=\"#Изучение-и-преобразование-данных\" data-toc-modified-id=\"Изучение-и-преобразование-данных-5\"><span class=\"toc-item-num\">5&nbsp;&nbsp;</span>Изучение и преобразование данных</a></span><ul class=\"toc-item\"><li><span><a href=\"#Вывод\" data-toc-modified-id=\"Вывод-5.1\"><span class=\"toc-item-num\">5.1&nbsp;&nbsp;</span>Вывод</a></span></li></ul></li><li><span><a href=\"#Анализ-клиентов-в-группах-тех,-кто-ушел-в-отток-и-тех,-кто-остался\" data-toc-modified-id=\"Анализ-клиентов-в-группах-тех,-кто-ушел-в-отток-и-тех,-кто-остался-6\"><span class=\"toc-item-num\">6&nbsp;&nbsp;</span>Анализ клиентов в группах тех, кто ушел в отток и тех, кто остался</a></span><ul class=\"toc-item\"><li><span><a href=\"#Вывод\" data-toc-modified-id=\"Вывод-6.1\"><span class=\"toc-item-num\">6.1&nbsp;&nbsp;</span>Вывод</a></span></li></ul></li><li><span><a href=\"#Анализ-корреляционных-связей-между-признаками\" data-toc-modified-id=\"Анализ-корреляционных-связей-между-признаками-7\"><span class=\"toc-item-num\">7&nbsp;&nbsp;</span>Анализ корреляционных связей между признаками</a></span><ul class=\"toc-item\"><li><span><a href=\"#Вывод\" data-toc-modified-id=\"Вывод-7.1\"><span class=\"toc-item-num\">7.1&nbsp;&nbsp;</span>Вывод</a></span></li></ul></li><li><span><a href=\"#Построение-моделей-прогнозирования-оттока-клиентов\" data-toc-modified-id=\"Построение-моделей-прогнозирования-оттока-клиентов-8\"><span class=\"toc-item-num\">8&nbsp;&nbsp;</span>Построение моделей прогнозирования оттока клиентов</a></span><ul class=\"toc-item\"><li><span><a href=\"#Вывод\" data-toc-modified-id=\"Вывод-8.1\"><span class=\"toc-item-num\">8.1&nbsp;&nbsp;</span>Вывод</a></span></li></ul></li><li><span><a href=\"#Кластеризация-клиентов-сети-фитнес-центра\" data-toc-modified-id=\"Кластеризация-клиентов-сети-фитнес-центра-9\"><span class=\"toc-item-num\">9&nbsp;&nbsp;</span>Кластеризация клиентов сети фитнес-центра</a></span><ul class=\"toc-item\"><li><span><a href=\"#Вывод\" data-toc-modified-id=\"Вывод-9.1\"><span class=\"toc-item-num\">9.1&nbsp;&nbsp;</span>Вывод</a></span></li></ul></li><li><span><a href=\"#Выводы\" data-toc-modified-id=\"Выводы-10\"><span class=\"toc-item-num\">10&nbsp;&nbsp;</span>Выводы</a></span></li></ul></div>"
   ]
  },
  {
   "cell_type": "markdown",
   "metadata": {},
   "source": [
    "## Введение"
   ]
  },
  {
   "cell_type": "markdown",
   "metadata": {},
   "source": [
    "**Цель:** провести анализ и подготовить план действий по удержанию клиентов cети фитнес-центров \"Культурист-датасаентист\".  \n",
    "\n",
    "---\n",
    "**Задачи:**  \n",
    "1. Научиться прогнозировать вероятность оттока (на уровне следующего месяца) для каждого клиента.\n",
    "2. Сформировать типичные портреты клиентов: выделить несколько наиболее ярких групп и охарактеризовать их основные свойства.\n",
    "3. Проанализировать основные признаки, наиболее сильно влияющие на отток.\n",
    "4. Сформулировать основные выводы и разработать рекомендации по повышению качества работы с клиентами:  \n",
    "    1) выделить целевые группы клиентов;  \n",
    "    2) предложить меры по снижению оттока;  \n",
    "    3) определить другие особенности взаимодействия с клиентами. \n",
    "    \n",
    "---    \n",
    "**План исследования:**  \n",
    "1. Загрузить данные.  \n",
    "2. Провести исследовательский анализ данных (EDA):\n",
    "    - определить наличие отсутствующих признаков, изучить средние значения и стандартные отклонения (метод `describe()`);\n",
    "    - посмотреть на средние значения признаков в двух группах - тех, кто ушел в отток и тех, кто остался (метод `groupby()`);\n",
    "    - построить столбчатые гистограммы и распределения признаков для тех, кто ушёл (отток) и тех, кто остался (не попали в отток);\n",
    "    - построить матрицу корреляций и отобразить её.  \n",
    "3. Построить модель прогнозирования оттока клиентов:\n",
    "    - Построить модель бинарной классификации клиентов, где целевой признак - факт оттока клиента в следующем месяце:\n",
    "    - Разбить данные на обучающую и валидационную выборку функцией `train_test_split()`.\n",
    "    - Обучить модель на train-выборке двумя способами:\n",
    "        - логистической регрессией,\n",
    "        - случайным лесом.\n",
    "    - Оценить метрики **accuracy**, **precision** и **recall** для обеих моделей на валидационной выборке. Сравнить по ним модели. Определить какая модель показала себя лучше на основании метрик? Указать параметр `random_state` при разделении выборки и задании алгоритма.  \n",
    "4. Сделать кластеризацию клиентов:\n",
    "    - Отложить в сторону столбец с оттоком и провести кластеризацию объектов (клиентов):\n",
    "        - Стандартизировать данные.\n",
    "        - Построить матрицу расстояний функцией `linkage()` на стандартизованной матрице признаков и нарисовать дендрограмму. На основании полученного графика предположить, какое количество кластеров можно выделить.\n",
    "        - Обучить модель кластеризации на основании алгоритма K-Means и спрогнозировать кластеры клиентов. (Число кластеров принять n=5).\n",
    "        - Посмотреть на средние значения признаков для кластеров. Определить можно ли сразу что-то заметить?\n",
    "        - Построить распределения признаков для кластеров. Определить можно ли что-то заметить по ним?\n",
    "        - Для каждого полученного кластера посчитать долю оттока (методом `groupby()`). Определить отличаются ли они по доле оттока? Какие кластеры склонны к оттоку, а какие — надёжны?  \n",
    "5. Сформулировать выводы и сделать базовые рекомендации по работе с клиентами.  \n",
    "\n",
    "---\n",
    "**Данные** предоставлены отделом по работе с клиентами «Культуриста-датасаентиста» в виде клиентских анкет, переведенных в электронный формат. Данные содержат сведения на месяц до оттока и факт оттока на определённый месяц.  \n",
    "- `Churn` - факт оттока в текущем месяце  \n",
    "\n",
    "**Данные клиента за предыдущий до проверки факта оттока месяц:**  \n",
    "- `gender` - пол\n",
    "- `Near_Location` - проживание или работа в районе, где находится фитнес-центр\n",
    "- `Partner` - сотрудник компании-партнера клуба (сотрудничество с компаниями, чьи сотрудники могут получать скидки на абонемент - в таком случае фитнес-центр хранит информацию о работодателе клиента)\n",
    "- `Promo_friends` - факт первоначальной записи в рамках акции «приведи друга» (использовал промо-код от знакомого при оплате первого абонемента)  \n",
    "- `Phone` - наличие контактного телефона \n",
    "- `Age` - возраст\n",
    "- `Lifetime` - время с момента первого обращения в фитнес-центр (в месяцах)\n",
    "\n",
    "**Информация на основе журнала посещений, покупок и информация о текущем статусе абонемента клиента:**    \n",
    "- `Contract_period` - длительность текущего действующего абонемента (месяц, 3 месяца, 6 месяцев, год)\n",
    "- `Month_to_end_contract` - срок до окончания текущего действующего абонемента (в месяцах) \n",
    "- `Group_visits` - факт посещения групповых занятий\n",
    "- `Avg_class_frequency_total` - средняя частота посещений в неделю за все время с начала действия абонемента\n",
    "- `Avg_class_frequency_current_month` - средняя частота посещений в неделю за предыдущий месяц \n",
    "- `Avg_additional_charges_total` - суммарная выручка от других услуг фитнес-центра: кафе, спорт-товары, косметический и массажный салон"
   ]
  },
  {
   "cell_type": "markdown",
   "metadata": {},
   "source": [
    "## Импорт библиотек Python"
   ]
  },
  {
   "cell_type": "code",
   "execution_count": null,
   "metadata": {},
   "outputs": [],
   "source": [
    "# Импорт библиотек\n",
    "import pandas as pd\n",
    "import numpy as np\n",
    "import os\n",
    "import matplotlib.pyplot as plt\n",
    "import seaborn as sns\n",
    "from sklearn.model_selection import train_test_split\n",
    "from sklearn.preprocessing import StandardScaler\n",
    "from sklearn.linear_model import LogisticRegression\n",
    "from sklearn.ensemble import RandomForestClassifier\n",
    "from sklearn.metrics import confusion_matrix\n",
    "from sklearn.metrics import classification_report\n",
    "from sklearn.metrics import accuracy_score, precision_score, recall_score, f1_score, roc_auc_score \n",
    "import sklearn.metrics as metrics\n",
    "from scipy.cluster.hierarchy import dendrogram, linkage\n",
    "from sklearn.cluster import KMeans\n",
    "from sklearn.metrics import silhouette_score"
   ]
  },
  {
   "cell_type": "code",
   "execution_count": null,
   "metadata": {},
   "outputs": [],
   "source": [
    "# Отключение сообщений об ошибках\n",
    "import warnings\n",
    "warnings.filterwarnings('ignore')"
   ]
  },
  {
   "cell_type": "markdown",
   "metadata": {},
   "source": [
    "## Оформление и стили"
   ]
  },
  {
   "cell_type": "code",
   "execution_count": null,
   "metadata": {},
   "outputs": [],
   "source": [
    "# Подключение css\n",
    "from IPython.core.display import HTML\n",
    "styles = open('style.css', 'r', encoding='utf-8').read()\n",
    "display(HTML('<style>%s</style>' % styles))"
   ]
  },
  {
   "cell_type": "code",
   "execution_count": null,
   "metadata": {},
   "outputs": [],
   "source": [
    "# Повышение качества отрисовки графиков\n",
    "%config InlineBackend.figure_format = 'retina'"
   ]
  },
  {
   "cell_type": "code",
   "execution_count": null,
   "metadata": {},
   "outputs": [],
   "source": [
    "# Удалить ограничение количества отображаемых в таблице столбцов\n",
    "pd.set_option('display.max_columns', None)"
   ]
  },
  {
   "cell_type": "code",
   "execution_count": null,
   "metadata": {},
   "outputs": [],
   "source": [
    "# Форматирование чисел\n",
    "pd.set_option('display.float_format', lambda x: '%.2f' % x)"
   ]
  },
  {
   "cell_type": "markdown",
   "metadata": {},
   "source": [
    "## Импорт файлов"
   ]
  },
  {
   "cell_type": "code",
   "execution_count": null,
   "metadata": {},
   "outputs": [],
   "source": [
    "paths = ['gym_churn.csv']\n",
    "for file in paths:\n",
    "    if os.path.isfile(file):\n",
    "        gym_churn = pd.read_csv(file)\n",
    "    else:\n",
    "        pass"
   ]
  },
  {
   "cell_type": "markdown",
   "metadata": {},
   "source": [
    "## Изучение и преобразование данных"
   ]
  },
  {
   "cell_type": "markdown",
   "metadata": {},
   "source": [
    "Загрузим таблицу с данными `gym_churn` и изучим ее:"
   ]
  },
  {
   "cell_type": "code",
   "execution_count": null,
   "metadata": {},
   "outputs": [],
   "source": [
    "display(gym_churn.head())\n",
    "gym_churn.info()"
   ]
  },
  {
   "cell_type": "markdown",
   "metadata": {},
   "source": [
    "Таблица `gym_churn` содержит 14 столбцов и 4000 строк. Пропущенных значений набор данных не содержит.  \n",
    "\n",
    "Для удобства наименования столбцов таблицы переименуем и переведем в нижний регистр:"
   ]
  },
  {
   "cell_type": "code",
   "execution_count": null,
   "metadata": {},
   "outputs": [],
   "source": [
    "# Переименование столбцов\n",
    "gym_churn = gym_churn.rename(columns={\n",
    "    'Near_Location': 'location',\n",
    "    'Promo_friends': 'promo',\n",
    "    'Contract_period': 'period',\n",
    "    'Group_visits': 'groups',\n",
    "    'Month_to_end_contract': 'end_month',\n",
    "    'Avg_class_frequency_total': 'avg_freq_total',\n",
    "    'Avg_class_frequency_current_month': 'avg_freq_month',\n",
    "    'Avg_additional_charges_total': 'avg_revenue'\n",
    "})"
   ]
  },
  {
   "cell_type": "code",
   "execution_count": null,
   "metadata": {},
   "outputs": [],
   "source": [
    "# Приведение наименований столбцов к нижнему регистру\n",
    "gym_churn.columns = gym_churn.columns.str.lower()"
   ]
  },
  {
   "cell_type": "markdown",
   "metadata": {},
   "source": [
    "Изучем основные статистические характеристики таблицы `gym_churn`:"
   ]
  },
  {
   "cell_type": "code",
   "execution_count": null,
   "metadata": {},
   "outputs": [],
   "source": [
    "gym_churn.describe().round(3).T"
   ]
  },
  {
   "cell_type": "markdown",
   "metadata": {},
   "source": [
    "Следующие переменные относятся к номинальным (дихотомическим): \n",
    "* `gender` (пол) - 0/1, \n",
    "* `location` (проживание или работа в районе, где находится фитнес-центр) - 0/1, \n",
    "* `partner` (сотрудник компании-партнёра клуба) - 0/1, \n",
    "* `promo` (использовал промо-код) - 0/1, \n",
    "* `phone` (наличие контактного телефона) - 0/1,\n",
    "* `groups` (факт посещения групповых занятий) - 0/1,\n",
    "* `churn` (факт оттока в текущем месяце) - 0/1.\n",
    "\n",
    "К категориальной переменной относится `period` (длительность текущего действующего абонемента) - 3/6/12. Изучим количественное распределение переменной:"
   ]
  },
  {
   "cell_type": "code",
   "execution_count": null,
   "metadata": {},
   "outputs": [],
   "source": [
    "period_count = gym_churn['period'].value_counts().sort_index()\n",
    "print('Количество клиентов, которые приобрели абонемент на \\n1 месяц:', \n",
    "      period_count[1], '- {:.1%}'.format(period_count[1] / len(gym_churn['period'])), \n",
    "     '\\n6 месяцев:', period_count[6], '- {:.1%}'.format(period_count[6] / len(gym_churn['period'])),\n",
    "     '\\n12 месяев:', period_count[12], '- {:.1%}'.format(period_count[12] / len(gym_churn['period'])))"
   ]
  },
  {
   "cell_type": "markdown",
   "metadata": {},
   "source": [
    "Кроме того, переменная `lifetime` (время с момента первого обращения в фитнес-центр (в месяцах)) может быть отнесена к категориальным. Посмотрим на ее значения:"
   ]
  },
  {
   "cell_type": "code",
   "execution_count": null,
   "metadata": {},
   "outputs": [],
   "source": [
    "print('Значения переменной lifetime:', ', '.join(map(str, set(gym_churn['lifetime'])))) "
   ]
  },
  {
   "cell_type": "markdown",
   "metadata": {},
   "source": [
    "Следующие переменные относятся к количественным переменным: \n",
    "* `age` (возраст),\n",
    "* `avg_revenue` (суммарная выручка от других услуг фитнес-центра),\n",
    "* `avg_freq_total` (средняя частота посещений в неделю за все время с начала действия абонемента),\n",
    "* `avg_freq_month` (средняя частота посещений в неделю за предыдущий месяц).  \n",
    "\n",
    "Средние значение, стандартное отклонение, медиана и квартили для каждого показателя (непрерывных переменных) отражены в таблице со статистическими характеристиками.  \n",
    "\n",
    "Переменная `end_month` (срок до окончания текущего действующего абонемента (в месяцах)) имеет тип данных float. Посмотрим на ее значения:"
   ]
  },
  {
   "cell_type": "code",
   "execution_count": null,
   "metadata": {},
   "outputs": [],
   "source": [
    "print('Значения переменной end_month:', ', '.join(map(str, set(gym_churn['end_month'])))) "
   ]
  },
  {
   "cell_type": "markdown",
   "metadata": {},
   "source": [
    "Изменим тип данных переменной `end_month` на цельночисленный:"
   ]
  },
  {
   "cell_type": "code",
   "execution_count": null,
   "metadata": {},
   "outputs": [],
   "source": [
    "gym_churn['end_month'] = gym_churn['end_month'].astype('int')\n",
    "print('Тип данных переменной end_month после преобразования:', gym_churn['end_month'].dtype)"
   ]
  },
  {
   "cell_type": "code",
   "execution_count": null,
   "metadata": {},
   "outputs": [],
   "source": [
    "print('Значения переменной end_month после преобразования:', ', '.join(map(str, set(gym_churn['end_month'])))) "
   ]
  },
  {
   "cell_type": "markdown",
   "metadata": {},
   "source": [
    "Переменная `end_month` после преобразования также может быть отнесена к категориальным.  \n",
    "\n",
    "Иследуем набор данных на дубликаты:"
   ]
  },
  {
   "cell_type": "code",
   "execution_count": null,
   "metadata": {},
   "outputs": [],
   "source": [
    "print('Количество дубликатов:', gym_churn.duplicated().sum())"
   ]
  },
  {
   "cell_type": "markdown",
   "metadata": {},
   "source": [
    "### Вывод"
   ]
  },
  {
   "cell_type": "markdown",
   "metadata": {},
   "source": [
    "Данные, получены в результате анкетирования клиентов сети фитнес-центров «Культурист-датасаентист», были изучены и преобразованы для дальнейшего анализа. Можно сделать следующие выводы:\n",
    "- Фитнес-центры посещает примерно одинаковое количество мужчин и женщин.\n",
    "- 84,5% клиентов живут или работают в районе расположения фитнес-центра.\n",
    "- 48,7% клиентов являются сотрудниками компаний-партнеров.\n",
    "- Среди клиентов 30,8% составляют те, которые пришли в фитнес-центр по рекомендации друзей.\n",
    "- 90,4% клиентов оставляют контактный номер телефона.\n",
    "- 55,2% клиентов приобретают абонемент на 1 месяц, 20,8% - на 6 месяцев, 24% - на 1 год.\n",
    "- 41,2% клиентов посещают групповые занятия.\n",
    "- Средний возраст клиентов 29 лет (от 18 до 41 года).\n",
    "- В среднем каждый клиент тратит на дополнительные услуги фитнес-центра 136,2[68,9 - 211] у.е. \n",
    "- В среднем каждый клиент посещает фитнес-центр 2 раза в неделю.\n",
    "- 26,5% клиентов покидают фитнес-центр (уходят в отток)."
   ]
  },
  {
   "cell_type": "markdown",
   "metadata": {},
   "source": [
    "## Анализ клиентов в группах тех, кто ушел в отток и тех, кто остался"
   ]
  },
  {
   "cell_type": "markdown",
   "metadata": {},
   "source": [
    "Построим график и определим количество клиентов фитнес-центров \"Культурист-датасаентист\" для двух групп - тех, кто ушел в отток и тех, кто остался:"
   ]
  },
  {
   "cell_type": "code",
   "execution_count": null,
   "metadata": {},
   "outputs": [],
   "source": [
    "plt.figure(figsize=(4, 4))\n",
    "ax_churn = sns.countplot(x='churn', data=gym_churn)\n",
    "ax_churn.margins(0.03, 0.15)\n",
    "ax_churn.set_title('Распределение клиентов по оттоку', fontweight='bold', pad=18)\n",
    "ax_churn.set_xlabel('')\n",
    "ax_churn.set_xticklabels(['Остались','Ушли в отток'])\n",
    "ax_churn.set_ylabel('Частота')\n",
    "for c in ax_churn.containers:\n",
    "    labels = [f'{v.get_height()/gym_churn.churn.count():0.1%}\\n{v.get_height():.0f}' for v in c]\n",
    "    ax_churn.bar_label(c, labels=labels, label_type='edge')"
   ]
  },
  {
   "cell_type": "markdown",
   "metadata": {},
   "source": [
    "1061 (26,5%) клиентов фитнес-центров \"Культурист-датасаентист\" отказались от услуг фитнес-центра.  \n",
    "\n",
    "Для удобства составим два списка - один с качественными (номинальными и категориальными) переменными, другой с количественными переменными:"
   ]
  },
  {
   "cell_type": "code",
   "execution_count": null,
   "metadata": {
    "code_folding": []
   },
   "outputs": [],
   "source": [
    "# Качественные переменные\n",
    "qualitative_variables = ['gender', 'location', 'partner', 'promo', 'phone', 'groups', \n",
    "                         'period', 'lifetime', 'end_month']\n",
    "# Количественные переменные\n",
    "quantitative_variables = ['age', 'avg_revenue', 'avg_freq_total', 'avg_freq_month']"
   ]
  },
  {
   "cell_type": "markdown",
   "metadata": {},
   "source": [
    "Построим графики (столбчатые диаграммы) для качественных переменных:"
   ]
  },
  {
   "cell_type": "code",
   "execution_count": null,
   "metadata": {
    "code_folding": [],
    "scrolled": false
   },
   "outputs": [],
   "source": [
    "columns = qualitative_variables\n",
    "fig=plt.figure(figsize=(16,17))\n",
    "for i, column in enumerate(columns):\n",
    "    ax_qual=fig.add_subplot(5,2,i+1)\n",
    "    totals = gym_churn[column].value_counts().sort_index()\n",
    "    n_hues = gym_churn['churn'].unique().size   \n",
    "    sns.countplot(x=column, hue='churn', data=gym_churn)\n",
    "    ax_qual.margins(0.03, 0.25)\n",
    "    ax_qual.legend(labels=['Остались', 'Ушли'], loc='upper right')\n",
    "    plt.title('Распределение переменной ' + column, fontweight='bold') \n",
    "    plt.xlabel('')\n",
    "    plt.ylabel('Частота')\n",
    "    plt.subplots_adjust(hspace=0.3)\n",
    "    temp_totals = totals.values.tolist()*n_hues\n",
    "    for p, t in zip(ax_qual.patches, temp_totals[-6:6]):\n",
    "        height = p.get_height()\n",
    "        ax_qual.text(p.get_x() + p.get_width()/2, height,\n",
    "        f'{height/t:.1%}\\n{height:.0f}', ha=\"center\", va=\"bottom\")\n",
    "plt.show()"
   ]
  },
  {
   "cell_type": "markdown",
   "metadata": {},
   "source": [
    "Изучив графики можно сказать следующее:\n",
    "- Мужчины и женщины в равной степени остаются лояльными или уходят из фитнес-центра.\n",
    "- 84,5% клиентов проживают или работают в районе расположения фитнес-центра. При этом из тех кто проживает или работает в районе ушли 24,1%, тогда как клиенты из других локаций уходили несколько чаще - 39,7%. Затраты времени на дорогу важный, но не единственный критерий при выборе фитнес-клуба.\n",
    "- Клиенты, являющиеся сотрудниками компании-партнёра клуба реже покидают фитнес-клуб - 19,4% против 33,3%.\n",
    "- Клиенты, которые пришли по рекомендации друга также отказывались от услуг фитнесс-центра реже - 15,8% против 31,3%.\n",
    "- Не оставили телефон для обратной связи примерно одинаковое количество клиентов из обеих групп. \n",
    "- Клиенты, посещающие групповые занятия реже уходят - 17,3%, чем те, кто занимается индивидуально - 33%.\n",
    "- Среди клиентов, которые прибрели абонемент на месяц уходят 42,3%, на 6 месяцев 12,5% и на год - 2,4%.\n",
    "- На графике видно, что большая часть клиентов уходит в первый, реже второй месяц. \n",
    "- До конца абонемента, как правило, остается при этом 1 месяц или 6 месяцев.  \n",
    "\n",
    "Три последних графика сообщают нам важную информацию о необходимости удержания клиентов в самом начале посещения фитнес-центра. Хорошее понимание мотивации к занятию спортом и потребностей клиентов является ключевым аспектом в решении данной задачи.  \n",
    "\n",
    "Построим гистограммы для количественных переменных:"
   ]
  },
  {
   "cell_type": "code",
   "execution_count": null,
   "metadata": {
    "scrolled": false
   },
   "outputs": [],
   "source": [
    "fig=plt.figure(figsize=(16,7))\n",
    "for i, column in enumerate(quantitative_variables):\n",
    "    ax_quan=fig.add_subplot(2,2,i+1)\n",
    "    sns.histplot(x=column, hue='churn', data=gym_churn, kde=True)\n",
    "    ax_quan.legend(labels=['Остались', 'Ушли'])\n",
    "    plt.title('Распределение переменной ' + column, fontweight='bold') \n",
    "    plt.xlabel('')\n",
    "    plt.ylabel('Частота')\n",
    "    plt.subplots_adjust(hspace=0.3)\n",
    "plt.show()"
   ]
  },
  {
   "cell_type": "markdown",
   "metadata": {},
   "source": [
    "На гистограмме `age` видно, что переменная распределена нормально для обеих групп клиентов - для тех кто остался и для тех кто ушел. На гистограмме `avg_revenue` (суммарная выручка от других услуг фитнес-центра) распределение отличается от нормального. Распределение на гистограммах `avg_freq_total` (средняя частота посещений в неделю за все время с начала действия абонемента) и `avg_freq_month` (средняя частота посещений в неделю за предыдущий месяц) распределение близко к нормальному.  \n",
    "\n",
    "Получим статистические характеристики для количественных переменных обеих групп:"
   ]
  },
  {
   "cell_type": "code",
   "execution_count": null,
   "metadata": {},
   "outputs": [],
   "source": [
    "quantitative_variables.append('churn')"
   ]
  },
  {
   "cell_type": "code",
   "execution_count": null,
   "metadata": {},
   "outputs": [],
   "source": [
    "gym_churn[quantitative_variables].groupby('churn').describe().round(1).reset_index(drop=True)"
   ]
  },
  {
   "cell_type": "markdown",
   "metadata": {},
   "source": [
    "Средний возраст лояльных клиентов сети фитнес-центров составляет 30,0±3,0 лет, средний возраст клиентов отказавшихся от услуг фитнес-центра - 27,0±2,9 лет.  \n",
    "\n",
    "Медиана затрат на дополнительные услуги в группе оставшихся клиентов составила 149,9[76.9-224.4] у.е., в группе ушедших - 103,8[50,6-165,6] у.е.  \n",
    "\n",
    "Лояльные клиенты в среднем посещают занятия 2,0±1,0 раза в неделю, тогда как клиенты, которые ушли посещали занятия реже - 1,5±0,7 раза в неделю. За предыдущий месяц эта цифра составляла 2,0±1,0 и 1,0±0,8 соответственно."
   ]
  },
  {
   "cell_type": "markdown",
   "metadata": {},
   "source": [
    "### Вывод"
   ]
  },
  {
   "cell_type": "markdown",
   "metadata": {},
   "source": [
    "26,5% клиентов фитнес-центров \"Культурист-датасаентист\" отказались от услуг фитнес-центра (ушли в отток).  \n",
    "\n",
    "Было определено следующее:\n",
    "- Пол клиента не влияет на его лояльность.\n",
    "- Те проживает или работает в районе фитнес-центра уходят реже - 24,1% против 39,7%. \n",
    "- Клиенты, являющиеся сотрудниками компаний-партнеров клуба уходят реже - 19,4% против 33,3%.\n",
    "- Клиенты, которые пришли по рекомендации друга реже отказываются от услуг фитнесс-центра - 15,8% против 31,3%.\n",
    "- Не оставили телефон для обратной связи пропорциональное количество клиентов из обеих групп.\n",
    "- Клиенты, посещающие групповые занятия уходят реже - 17,3% против 33%.\n",
    "- Среди клиентов, которые прибрели абонемент на месяц уходят 42,3%, на 6 месяцев 12,5% и на год - 2,4%.\n",
    "- Большая часть клиентов уходит в первый, реже второй месяц.\n",
    "- Клиенты лояльные фитнес-центру немного старше (в среднем 30 лет), чем те кто ушел из фитнес-центра (средний возраст 27 лет).\n",
    "- Лояльные клиенты тратят больше на дополнительные услуги (медианное значение 149,9 у.е.), чем те кто уходит (103,8 у.е.).\n",
    "- Клиенты, которые продолжают посещать фитнес-центр, приходят на занятия в среднем 2 раза в неделю, против 1 раза в неделю для тех кто ушел."
   ]
  },
  {
   "cell_type": "markdown",
   "metadata": {},
   "source": [
    "## Анализ корреляционных связей между признаками"
   ]
  },
  {
   "cell_type": "markdown",
   "metadata": {},
   "source": [
    "Исследуем набор данных на корреляционные связи между признаками. Выбор метода оценки корреляционной связи зависит от типа переменной. Учитывая методики математических расчетов и требования к переменным, с некоторыми допущениями может быть применен критерий корреляции Спирмена. Рассчитаем корреляционные связи и отобразим их на тепловой карте:"
   ]
  },
  {
   "cell_type": "code",
   "execution_count": null,
   "metadata": {
    "scrolled": false
   },
   "outputs": [],
   "source": [
    "plt.figure(figsize=(12, 6)) \n",
    "matrix = np.triu(gym_churn.corr('spearman'))\n",
    "sns.heatmap(gym_churn.corr('spearman').iloc[1:, :-1], mask=matrix[1:, :-1], annot=True,  cmap='coolwarm',\n",
    "            square=False, linewidths=1, linecolor='white', vmin=-1, vmax=1, fmt='.3f')\n",
    "plt.title('Корреляционная матрица\\n', fontweight='bold')\n",
    "plt.show()"
   ]
  },
  {
   "cell_type": "markdown",
   "metadata": {},
   "source": [
    "Большинство признаков слабо коррелирует между собой. \n",
    "- Отрицательная корреляция средней силы (-0,583) отмечена между оттоком клиентов и временем с момента первого обращения в фитнес-центр - чем больше времени прошло с обращения клиента в фитнес-центр, тем реже он уходит.\n",
    "- Сильная прямая корреляция отмечена между средней частотой посещений в неделю за все время с начала действия абонемента и средней частотой посещений в неделю за предыдущий месяц, что ожидаемо, так как эти признаки напрямую связаны и представляют один и тот же параметр (0,947).\n",
    "- Сильная корреляция также отмечена между длительностью текущего действующего абонемента и сроком до окончания текущего действующего абонемента (0,986).  \n",
    "\n",
    "Для исключения частичной мультиколлинеарности один из пары сильно коррелирующих признаков необходимо удалить или применить регуляризацию."
   ]
  },
  {
   "cell_type": "markdown",
   "metadata": {},
   "source": [
    "### Вывод"
   ]
  },
  {
   "cell_type": "markdown",
   "metadata": {},
   "source": [
    "Были исследованы корреляционные связи между признаками.  \n",
    "\n",
    "Влияние частичной мультиколлинеарности будет устранено с помощью регуляризации, как одного из параметров функции `LogisticRegression()` из библиотеки `sklearn`.  \n",
    "\n",
    "💬 <a href=\"https://chel-center.ru/python-yfc/2020/12/20/logisticheskaya-regressiya-v-python/\">Ссылка на статью</a>"
   ]
  },
  {
   "cell_type": "markdown",
   "metadata": {},
   "source": [
    "## Построение моделей прогнозирования оттока клиентов"
   ]
  },
  {
   "cell_type": "markdown",
   "metadata": {},
   "source": [
    "Построим и проанализируем модели бинарной классификации клиентов, где целевой признак - факт оттока клиента в следующем месяце:\n",
    "- модель логистической регрессии - Logistic Regression\n",
    "- модель случайного леса - Random Forest Classifier  \n",
    "\n",
    "Предварительная стандартизая данных при построении настоящих моделей не является обязательной.  \n",
    "\n",
    "Разделим данные на признаки и целевую переменную. Разделим модель на обучающую и валидационную выборку:"
   ]
  },
  {
   "cell_type": "code",
   "execution_count": null,
   "metadata": {},
   "outputs": [],
   "source": [
    "# Разделение данных на признаки (матрица X) и целевую переменную (y)\n",
    "X = gym_churn.drop('churn', axis =1)\n",
    "y = gym_churn['churn']\n",
    "\n",
    "# Разделение модели на обучающую и валидационную выборку (20/80)\n",
    "X_train, X_test, y_train, y_test = train_test_split(X, y, test_size=0.2, stratify=y, random_state=0)"
   ]
  },
  {
   "cell_type": "markdown",
   "metadata": {},
   "source": [
    "Построим модель логистической регрессии:"
   ]
  },
  {
   "cell_type": "code",
   "execution_count": null,
   "metadata": {},
   "outputs": [],
   "source": [
    "# Создание алгоритма для модели логистической регрессии, регуляризация L1, С=1.0\n",
    "model_LR = LogisticRegression(solver='liblinear', random_state=0, penalty='l1', C=1.0)\n",
    "\n",
    "# Обучение модели\n",
    "model_LR.fit(X_train, y_train)\n",
    "\n",
    "# Воспользуемся обученной моделью, чтобы сделать прогнозы\n",
    "predictions_LR = model_LR.predict(X_test)\n",
    "probabilities_LR = model_LR.predict_proba(X_test)[:,1]"
   ]
  },
  {
   "cell_type": "markdown",
   "metadata": {},
   "source": [
    "Построим модель случайного леса:"
   ]
  },
  {
   "cell_type": "code",
   "execution_count": null,
   "metadata": {
    "scrolled": false
   },
   "outputs": [],
   "source": [
    "# Создание алгоритма для модели случайного леса\n",
    "model_RF = RandomForestClassifier(n_estimators = 100, random_state = 0)\n",
    "\n",
    "# Обучение модели\n",
    "model_RF.fit(X_train, y_train)\n",
    "\n",
    "# Воспользуемся обученной моделью, чтобы сделать прогнозы\n",
    "predictions_RF = model_RF.predict(X_test)\n",
    "probabilities_RF = model_RF.predict_proba(X_test)[:,1]"
   ]
  },
  {
   "cell_type": "markdown",
   "metadata": {},
   "source": [
    "Оценим метрики для обеих моделей на валидационной выборке для чего построим функцию расчета:\n",
    "- Accuracy: доля правильных ответов\n",
    "- Precision: точность\n",
    "- Recall: полнота\n",
    "- F1_score: баланс между Precision and Recall\n",
    "- ROC_AUC: доля оценки качества классификатора\n",
    "- Матрица ошибок:\n",
    "    - Прогноз модели = 1, реальное значение = 1.  \n",
    "    Такие прогнозы называют True Positive (\"истинно положительные\") - сокращённо TP.  \n",
    "    - Прогноз модели = 1, реальное значение = 0.  \n",
    "        Такие прогнозы называют False Positive (\"ложно положительные\") - сокращённо FP.  \n",
    "    - Прогноз модели = 0, реальное значение = 1.   \n",
    "        Такие прогнозы называют False Negative (\"ложно отрицательные\") - сокращённо FN.  \n",
    "    - Прогноз модели = 0, реальное значение = 0.   \n",
    "        Такие прогнозы называют True Negative (\"истинно отрицательные\") - сокращённо TN.  \n",
    "        - У хорошей модели бóльшая часть прогнозов должна попадать в группы TP и TN.  "
   ]
  },
  {
   "cell_type": "code",
   "execution_count": null,
   "metadata": {},
   "outputs": [],
   "source": [
    "def print_all_metrics(y_true, y_pred, y_proba, title):\n",
    "    print('\\033[1m' + title + '\\033[0m')\n",
    "    print('\\tAccuracy: {:.2f}'.format(accuracy_score(y_true, y_pred)))\n",
    "    print('\\tPrecision: {:.2f}'.format(precision_score(y_true, y_pred)))\n",
    "    print('\\tRecall: {:.2f}'.format(recall_score(y_true, y_pred)))\n",
    "    print('\\tF1: {:.2f}'.format(f1_score(y_true, y_pred)))\n",
    "    print('\\tROC_AUC: {:.2f}'.format(roc_auc_score(y_true, y_proba)))\n",
    "    confusion_matrix(y_true, y_pred)\n",
    "    cm = confusion_matrix(y_true, y_pred)\n",
    "    fig, ax = plt.subplots(figsize=(4, 4))\n",
    "    ax.imshow(cm)\n",
    "    ax.grid(False)\n",
    "    ax.set_title('Матрица ошибок', fontweight='bold')\n",
    "    ax.xaxis.set(ticks=(0, 1), ticklabels=('Прогноз модели=0', 'Прогноз модели=1'))\n",
    "    ax.yaxis.set(ticks=(0, 1), ticklabels=('Реальное значение=0', 'Реальное значение=1'))\n",
    "    ax.set_ylim(1.5, -0.5)\n",
    "    for i in range(2):\n",
    "        for j in range(2):\n",
    "            ax.text(j, i, cm[i, j], ha='center', va='center', color='red')\n",
    "    plt.show()"
   ]
  },
  {
   "cell_type": "code",
   "execution_count": null,
   "metadata": {},
   "outputs": [],
   "source": [
    "print_all_metrics(y_test, predictions_LR, probabilities_LR, 'Метрики модели логистической регрессии:')\n",
    "print_all_metrics(y_test, predictions_RF, probabilities_RF, 'Метрики модели случайного леса:')"
   ]
  },
  {
   "cell_type": "code",
   "execution_count": null,
   "metadata": {},
   "outputs": [],
   "source": [
    "plt.figure(0).clf()\n",
    "fpr, tpr, thresh = metrics.roc_curve(y_test, probabilities_LR)\n",
    "plt.plot(fpr,tpr,label=\"LogisticRegression\")\n",
    "fpr, tpr, thresh = metrics.roc_curve(y_test, probabilities_RF)\n",
    "plt.plot(fpr,tpr,label=\"RandomForestClassifier\")\n",
    "plt.xlabel('False Positive Rate')\n",
    "plt.ylabel('True Positive Rate')\n",
    "plt.title('ROC_AUC', fontweight='bold')\n",
    "plt.legend(loc=0)\n",
    "plt.show()"
   ]
  },
  {
   "cell_type": "markdown",
   "metadata": {},
   "source": [
    "Обе модели - логистической регрессии и случайного леса хорошо справляются с задачей прогнозирования оттока клиентов в следующем месяце. Модель логистической регрессии показала себя немного лучше модели случайного леса:\n",
    "- доля правильных ответов 0,94\n",
    "- точность 0,89\n",
    "- полнота 0,86\n",
    "- баланс между точностью и полнотой 0,88\n",
    "- доля оценки качества классификатора 0,98, что видно и на графике площади под кривой ошибок (кривая логистической регрессии ближе к верхнему левому углу)\n",
    "- матрица ошибок содержит большее количество \"истинно положительных\" (566) и \"истинно отрицательных\" (182) прогнозов.  \n",
    "\n",
    "Произведем оценку важности признаков для модели логистической регрессии:"
   ]
  },
  {
   "cell_type": "code",
   "execution_count": null,
   "metadata": {},
   "outputs": [],
   "source": [
    "feature_LR = pd.DataFrame({'Признак': X.columns, 'Важность': abs(model_LR.coef_[0])})\n",
    "feature_LR.sort_values(by='Важность', ascending=False).reset_index(drop=True)"
   ]
  },
  {
   "cell_type": "markdown",
   "metadata": {},
   "source": [
    "На прогноз оттока клиентов из фитнес-центра наибольшее влияние оказывают следующие признаки:\n",
    "- средняя частота посещений в неделю за предыдущий месяц\n",
    "- средняя частота посещений в неделю за все время с начала действия абонемента\n",
    "- время с момента первого обращения в фитнес-центр (в месяцах)"
   ]
  },
  {
   "cell_type": "markdown",
   "metadata": {},
   "source": [
    "### Вывод"
   ]
  },
  {
   "cell_type": "markdown",
   "metadata": {},
   "source": [
    "Анализ моделей бинарной классификации клиентов - логистической модели и модели случайного леса, где целевой признак - факт оттока клиента в следующем месяце показал лучшую точность логистической модели для составления прогноза.  \n",
    "\n",
    "На прогноз оттока клиентов из фитнес-центра наибольшее влияние оказывают следующие признаки:\n",
    "- средняя частота посещений в неделю за предыдущий месяц\n",
    "- средняя частота посещений в неделю за все время с начала действия абонемента\n",
    "- время с момента первого обращения в фитнес-центр (в месяцах)"
   ]
  },
  {
   "cell_type": "markdown",
   "metadata": {},
   "source": [
    "## Кластеризация клиентов сети фитнес-центра"
   ]
  },
  {
   "cell_type": "markdown",
   "metadata": {},
   "source": [
    "Перед кластеризацией отберем все столбцы таблицы `gym_churn`, кроме оттока клиентов:"
   ]
  },
  {
   "cell_type": "code",
   "execution_count": null,
   "metadata": {},
   "outputs": [],
   "source": [
    "profiles = ['gender', 'age', 'location', 'phone', 'partner', 'promo', 'groups', 'period', \n",
    "            'end_month', 'lifetime', 'avg_revenue', 'avg_freq_total', 'avg_freq_month']"
   ]
  },
  {
   "cell_type": "markdown",
   "metadata": {},
   "source": [
    "Стандартизируем данные:"
   ]
  },
  {
   "cell_type": "code",
   "execution_count": null,
   "metadata": {},
   "outputs": [],
   "source": [
    "# Стандартизация данных\n",
    "sc = StandardScaler() \n",
    "# Обучение нормализатора и преобразование набора данных\n",
    "X_sc = sc.fit_transform(gym_churn[profiles])\n",
    "linked = linkage(X_sc, method = 'ward')"
   ]
  },
  {
   "cell_type": "markdown",
   "metadata": {},
   "source": [
    "Построим матрицу расстояний функцией linkage() на стандартизованной матрице признаков и нарисуем дендрограмму:"
   ]
  },
  {
   "cell_type": "code",
   "execution_count": null,
   "metadata": {},
   "outputs": [],
   "source": [
    "# Построение матрицы расстояний\n",
    "linked = linkage(X_sc, method = 'ward')\n",
    "\n",
    "# Построение дендрограмы\n",
    "plt.figure(figsize=(8, 4))  \n",
    "dendrogram(linked, truncate_mode='lastp')\n",
    "plt.title('Дендрограмма иерархической кластеризации клиентов сети фитнес-центров', fontweight='bold')\n",
    "plt.xlabel(\"Размер кластера\")\n",
    "plt.ylabel(\"Расстояние\")\n",
    "plt.show() "
   ]
  },
  {
   "cell_type": "markdown",
   "metadata": {},
   "source": [
    "В соответствии с распределением цветов на дендрограмме определено 4 кластера. В то же время структура дендрограммы сообщает нам о возможности выделения 5 кластеров. По заданию оговорено условие построения модели кластеризации с 5 кластерами.   \n",
    "\n",
    "Обучим модель кластеризации на основании алгоритма K-Means и спрогнозируем кластеры клиентов: "
   ]
  },
  {
   "cell_type": "code",
   "execution_count": null,
   "metadata": {},
   "outputs": [],
   "source": [
    "# Число кластеров, равное 5\n",
    "km = KMeans(random_state=0, n_clusters = 5)  \n",
    "\n",
    "# Применение алгоритма к данным и формирование вектора кластеров\n",
    "labels = km.fit_predict(X_sc) \n",
    "\n",
    "# Сохранение меток кластера в поле датасета\n",
    "gym_churn['cluster_km'] = labels"
   ]
  },
  {
   "cell_type": "markdown",
   "metadata": {},
   "source": [
    "Посчитаем метрику силуэта для кластеризации, чтобы оценить качество модели:"
   ]
  },
  {
   "cell_type": "code",
   "execution_count": null,
   "metadata": {},
   "outputs": [],
   "source": [
    "print('Метрика силуэта: {:.3f}'.format(silhouette_score(X_sc, labels)))"
   ]
  },
  {
   "cell_type": "markdown",
   "metadata": {},
   "source": [
    "Качество модели нельзя назвать высоким, что характерно для моделей кластеризации.  \n",
    "\n",
    "Проанализируем средние значения для каждого кластера и опишем их:"
   ]
  },
  {
   "cell_type": "code",
   "execution_count": null,
   "metadata": {},
   "outputs": [],
   "source": [
    "profiles.append('cluster_km')"
   ]
  },
  {
   "cell_type": "code",
   "execution_count": null,
   "metadata": {
    "scrolled": false
   },
   "outputs": [],
   "source": [
    "gym_churn[profiles].groupby(['cluster_km']).mean().round(3)\\\n",
    ".T.rename(columns={0: 'кластер 1', 1: 'кластер 2', 2: 'кластер 3', 3: 'кластер 4', 4: 'кластер 5'})"
   ]
  },
  {
   "cell_type": "code",
   "execution_count": null,
   "metadata": {
    "code_folding": []
   },
   "outputs": [],
   "source": [
    "for i, cluster in enumerate(gym_churn.groupby('cluster_km').size()):\n",
    "     print(f'Доля кластера {i+1}:', '{:.1%}'.format(cluster / len(gym_churn)))"
   ]
  },
  {
   "cell_type": "markdown",
   "metadata": {},
   "source": [
    "Для всех кластеров характерно примерно равное распределение по числу мужчин и женщин. В среднем 90% клиентов проживают или работают поблизости от фитнес центра, за исключением **кластера 3**. Большиство клиентов оставили номер телефона для обратной связи, за исключением клиентов **кластера 2**. Средний возраст клиентов распределен по кластерам от 28,2 до 30,1 года, что не является существенной разницей.\n",
    "\n",
    "---\n",
    "**Кластер 1** содержит 31,6% клиентов и имеет следующие особенности:  \n",
    "- 78,3% пришли по партнерским программам и 57,5% по рекомендации друзей, что является самым высоким процентом относительно других кластеров,\n",
    "- клиенты приобретают абонементы с большим сроком действия (среднее значение - 10,9 месяцев) и давно посещают центр - в среднем 4,7 месяцев,\n",
    "- чаще, чем клиенты других кластеров посещают групповые занятия - 54,3%, \n",
    "- тратят значительное количество средств на дополнительные услуги центра - 160,7 у.е.,\n",
    "- посещают занятия 2 раза в неделю.\n",
    "\n",
    "---\n",
    "**Кластер 2** содержит 25,3% клиентов и имеет следующие особенности:\n",
    "- 86,2% клиентов кластера живут или работают в локации фитнес-центра, что немного ниже прочих кластеров (за исключением **кластера 3**)\n",
    "- 47% клиентов пришли по партнерским программам и 30,6% по рекомендации друзей, что ниже, чем в **кластере 1**, однако является высоким показателем,\n",
    "- клиенты приобретают абонементы со средним сроком действия (среднее значение - 4,8 месяцев) и посещают центр длительное время - в среднем 3,9 месяцев,\n",
    "- основной характеристикой, выделяющей данный кластер на фоне прочих, является *отсутствие контактного телефона*,\n",
    "- 42,6% посещают групповые занятия,\n",
    "- умеренно тратят на дополнительные услуги 143,9 у.е.,\n",
    "- посещают занятия 1-2 раза в неделю.\n",
    "\n",
    "---\n",
    "**Кластер 3** содержит 20,9% клиентов и имеет следующие особенности:  \n",
    "- 100% клиентов кластера проживают или работают далеко от локации фитнес-центра,\n",
    "- 46,3% приходят по партнерским программам и только 7,9% по рекомендации друзей,\n",
    "- приобретают абонементы с коротким сроком действия (среднее значение - 2,3 месяца) и посещают центр непродолжительное время - в среднем 2,8 месяцев,\n",
    "- реже, чем клиенты других кластеров посещают групповые занятия - 21,6%,\n",
    "- немного тратят на дополнительные услуги - 135,4 у.е.,\n",
    "- посещают занятия 1-2 раза в неделю.\n",
    "\n",
    "---\n",
    "**Кластер 4** содержит 12,6% клиентов и имеет следующие особенности:  \n",
    "- 35% приходят по партнерским программам, 24% по рекомендациям друзей,\n",
    "- приобретают абонементы с самым коротким сроком действия - среднее значение 1,9 месяцев и начали посещать центр недавно - среднее значение 2,4 месяца назад,\n",
    "- нечасто посещают групповые занятия - 34,2%,\n",
    "- немного тратят на дополнительные услуги - 131,6 у.е.\n",
    "- посещают занятия 1 раз в неделю.\n",
    "\n",
    "--- \n",
    "**Кластер 5** содержит 9,6% клиентов и имеет следующие особенности:  \n",
    "- как и клиенты из **4 кластера** 35,6% пришли по партнерской программе и 22,9% по рекомендации друзей,\n",
    "- приобретают абонементы с коротким сроком действия (среднее значение 2,7 месяцев), при этом посещают зал давно - среднее значение 5 месяцев,\n",
    "- часто посещают групповые занятия - 47,3%,\n",
    "- тратят больше, чем клиенты других кластеров на дополнительные услуги - 161,7 у.е.,\n",
    "- посещают занятия 2-3 раза в неделю.\n",
    "\n",
    "---\n",
    "Построим графики распределения качественных признаков для каждого кластера. Предварительно вернем столбец с оттоком клиентов, чтобы изучить его распределение:"
   ]
  },
  {
   "cell_type": "code",
   "execution_count": null,
   "metadata": {},
   "outputs": [],
   "source": [
    "qualitative_variables.append('churn')"
   ]
  },
  {
   "cell_type": "code",
   "execution_count": null,
   "metadata": {
    "scrolled": false
   },
   "outputs": [],
   "source": [
    "columns_cl = qualitative_variables\n",
    "fig=plt.figure(figsize=(16,17))\n",
    "for i, column_cl in enumerate(columns_cl):\n",
    "    ax_qual_cl = fig.add_subplot(5,2,i+1)\n",
    "    sns.countplot(x=column_cl, hue='cluster_km', data=gym_churn, palette='Dark2')\n",
    "    ax_qual_cl.margins(0.03, 0.2)\n",
    "    ax_qual_cl.legend(title='Кластеры:', labels=[1, 2, 3, 4, 5], loc='upper right')\n",
    "    plt.title('Распределение переменной ' + column_cl, fontweight='bold') \n",
    "    plt.xlabel('')\n",
    "    plt.ylabel('Частота')\n",
    "    plt.subplots_adjust(hspace=0.3)\n",
    "plt.show()"
   ]
  },
  {
   "cell_type": "markdown",
   "metadata": {},
   "source": [
    "Графики визуализируют ранее описанные профили клиентов сети фитнес-центров \"Культурист-датасаентист\":\n",
    "- количество женщин и мужчин в каждом из кластеров распределено равномерно и пропорционально размеру кластера,\n",
    "- большая часть клиентов проживает или работает в районе фитнес-центра, кроме **кластера 3**, 100% клиентов которого живут и работают далеко от расположения фитнес-центра,\n",
    "- по партнерской программе приходят преимущественно клиенты **кластера 1**,\n",
    "- по рекомендации друзей приходят чаще клиенты **кластера 1**,\n",
    "- большинство клиентов оставляют свой номер телефона для обратной связи, кроме клиентов **кластера 2**, 100% которых не оставили номер для контактной связи,\n",
    "- групповые занятия чаще посещают клиенты **кластеров 1**, **2** и **5**,\n",
    "- приобретают абонементы:\n",
    "    - короткие на 1 месяц чаще клиенты **кластеров 2**, **3**, **4** и **5**,\n",
    "    - на 6 месяцев некоторое количество пользователей всех пяти кластеров,\n",
    "    - на 12 месяцев клиенты **кластера 1**, реже **кластера 2** и крайне редко клиенты других кластеров,\n",
    "- дольше других фитнес-центр посещают клиенты  **кластера 1**, **2** и **5**,\n",
    "- действие большинства абонементов закончится пропорционально сроку, который действует абонемент, что было ранее подверждено наличием сильной корреляции между этими двумя пременными. \n",
    "\n",
    "Высокий отток клиентов отмечается в **кластерах 3** и **4**, низкий в **кластерах 1** и **5**. \n",
    "\n",
    "Построим графики распределения количественных признаков (ящики с усами) для каждого кластера:"
   ]
  },
  {
   "cell_type": "code",
   "execution_count": null,
   "metadata": {},
   "outputs": [],
   "source": [
    "sns.set_style('whitegrid')"
   ]
  },
  {
   "cell_type": "code",
   "execution_count": null,
   "metadata": {
    "code_folding": [],
    "scrolled": false
   },
   "outputs": [],
   "source": [
    "fig=plt.figure(figsize=(16,7))\n",
    "for i, column_cl in enumerate(quantitative_variables[:-1]):\n",
    "    ax_quan_cl=fig.add_subplot(2,2,i+1)\n",
    "    sns.boxplot(x=gym_churn['cluster_km'], y=gym_churn[column_cl], palette='Dark2', showfliers=False)\n",
    "    plt.title('Диаграммы размаха переменной ' + column_cl, fontweight='bold') \n",
    "    plt.xlabel('Кластеры')\n",
    "    plt.ylabel('Частота')\n",
    "    plt.xticks([0, 1, 2, 3, 4], [1, 2, 3, 4, 5])\n",
    "    plt.subplots_adjust(hspace=0.4)\n",
    "plt.show()"
   ]
  },
  {
   "cell_type": "markdown",
   "metadata": {},
   "source": [
    "Количественные признаки распределены по кластерам следующим образом:\n",
    "- клиенты распределены по кластерам относительно возраста пропорционально, с минимальным средним значением в **кластере 4** и максимальным - **кластере 5**,\n",
    "- клиенты **кластера 1** и **5** тратят на дополнительные услуги больше, чем клиенты **кластера 3** и **4**,\n",
    "- частота посещения фитнес-центра составляет для **кластера 1** - 2 раза в неделю, **кластера 2** и **3** - 1-2 раза в неделю, **кластера 4** - 1 раз в неделю и для **кластера 5** - 2-3 раза в неделю.\n",
    "\n",
    "Рассчитаем для каждого кластера долю оттока:"
   ]
  },
  {
   "cell_type": "code",
   "execution_count": null,
   "metadata": {},
   "outputs": [],
   "source": [
    "gch = gym_churn.groupby('cluster_km').mean().reset_index()[['cluster_km', 'churn']]\n",
    "gch['cluster_km'] = gch['cluster_km'] + 1\n",
    "gch['churn'] = gch['churn'].map(lambda x: '{:.1%}'.format(x))\n",
    "gch.rename(columns={'cluster_km': 'Кластеры', 'churn': 'Доля оттока'})"
   ]
  },
  {
   "cell_type": "markdown",
   "metadata": {},
   "source": [
    "Высокий отток клиентов отмечается в **кластерах 3** и **4**, умеренный в **кластере 2** и низкий в **кластерах 1** и **5**, которых можно назвать надежными."
   ]
  },
  {
   "cell_type": "markdown",
   "metadata": {},
   "source": [
    "### Вывод"
   ]
  },
  {
   "cell_type": "markdown",
   "metadata": {},
   "source": [
    "С помощью модели кластеризации данных нам удалось определить 5 профилей клиентов сети фитнес-центров \"Культурист-датасаентист\":\n",
    "1. Клиенты **кластера 1** (31,6%) являются надежными клиентами (доля оттока 2,8%), которые пришли по партнерской программе или рекомендации друзей. Их высокая лояльность обусловлена удобством локации, вероятно стоимостью абонемента (партнерские скидки), социальными связями с  друзьями, коллегами и одногруппниками. Клиенты данного кластера обладают высокой мотивацией о которой свидетельствует приобретение абонементов с длительным сроком действия (6 и 12 месяцев) и посещаемость занятий - 2 раза в неделю. Кроме того, клиенты кластера активно пользуются дополнительными услугами фитнес-центра.\n",
    "2. Клиенты **кластера 2** (25,3%) соответствуют среднестатистическому профилю:   \n",
    "    1) 86,2% клиентов кластера живут или работают в локации фитнес-центра, что немного ниже прочих кластеров,  \n",
    "    2) 47% клиентов пришли по партнерским программам и 31,6% по рекомендации друзей,  \n",
    "    3) клиенты приобретают абонементы сроком действия на 1 месяц, реже на 6 и 12 месяцев,  \n",
    "    4) часто выбирают групповые тренировки - 42,6%,  \n",
    "    5) умеренно тратят на дополнительные услуги 143,9 у.е.,  \n",
    "    6) посещают занятия 1-2 раза в неделю,  \n",
    "    7) основной характеристикой, выделяющей данный кластер на фоне прочих, является *отсутствие контактного телефона*. Возможно предпочитают получать информацию по другим каналам - электронная почта, социальные сети.  \n",
    "    8) Доля оттока клиентов данного кластера находится на среднестатистическом значении - 26,8%.  \n",
    "3. Клиенты **кластера 3** (20,9%) проживают или работают далеко от локации фитнес-центра. Клиенты часто приходят по партнерским  программам - 46,3% и предпочитают абонементы сроком на 1, 6 месяцев. Фактор локации играет ключевую роль для клиентов данного кластера и негативно сказывается на посещаемости занятий - 1-2 раза в неделю. Предпочтение клиенты отдают индивидуальным тренировкам, что может свидетельствовать о выборе определенного тренера или уникальной программы. Дополнительными услугами пользуются редко. Доля оттока клиентов данного кластера высока - 44,4%.\n",
    "4. Клиенты **4 кластера** (12,6%) относятся к самым ненадежным - доля оттока составляет 51,4%. Проживают или работают рядом с фитнес-центром. В 35% случаев приходят по партнерским программам и в 24% случаев по рекомендации друзей. Приобретают абонементы на 1, реже на 6 месяцев, посещают занятия не чаще 1 раза в неделю и быстро прекращают их посещать. Клиенты вероятно имеют низкую мотивацию к занятиям спортом. Дополнительными услугами пользуются редко.\n",
    "5. Клиенты **кластера 5** (9,6%) также относятся к надежным и постоянным клиентам - доля оттока 6,8%. Как и клиенты из **4 кластера** 35,6% пришли по партнерской программе и 22,9% по рекомендации друзей. Предпочитают абонементы со сроком действия 1, реже 6 месяцев. Крайне редко приобретают абонементы на 1 год. Предпочитают групповые занятия (47,3%). На тренировки приходят регулярно 2-3 раза в неделю, что свидетельствует о высокой мотивации к занятию спортом. Тратят больше, чем клиенты других кластеров на дополнительные услуги - 161,7 у.е."
   ]
  },
  {
   "cell_type": "markdown",
   "metadata": {},
   "source": [
    "## Выводы"
   ]
  },
  {
   "cell_type": "markdown",
   "metadata": {},
   "source": [
    "Анализ данных, полученных в результате анкетирования клиентов сети фитнес-центров «Культурист-датасаентист» показал, что в отток 26,5% клиентов. Были построены прогностические две прогностические модели оттока клиентов в следующем месяце - логистическая и случайный лес. Логистическая модель по результатам оценки показала лучшую точность при этом в качетве ключевых признаков были определены:\n",
    "- средняя частота посещений в неделю за предыдущий месяц,\n",
    "- средняя частота посещений в неделю за все время с начала действия абонемента,\n",
    "- время с момента первого обращения в фитнес-центр (в месяцах).  \n",
    "\n",
    "**Методом кластерного анализа были определены 5 профилей типичных клиентов:**\n",
    "С помощью модели кластеризации данных нам удалось определить 5 профилей клиентов сети фитнес-центров \"Культурист-датасаентист\":\n",
    "1. Клиенты **кластера 1** (31,6%) являются надежными клиентами (доля оттока 2,8%), которые пришли по партнерской программе или рекомендации друзей. Их высокая лояльность обусловлена удобством локации, вероятно стоимостью абонемента (партнерские скидки), социальными связями с  друзьями, коллегами и одногруппниками. Клиенты данного кластера обладают высокой мотивацией о которой свидетельствует приобретение абонементов с длительным сроком действия (6 и 12 месяцев) и посещаемость занятий - 2 раза в неделю. Кроме того, клиенты кластера активно пользуются дополнительными услугами фитнес-центра.\n",
    "2. Клиенты **кластера 2** (25,3%) соответствуют среднестатистическому профилю:  \n",
    "    1) 86,2% клиентов кластера живут или работают в локации фитнес-центра, что немного ниже прочих кластеров,  \n",
    "    2) 47% клиентов пришли по партнерским программам и 31,6% по рекомендации друзей,  \n",
    "    3) клиенты приобретают абонементы сроком действия на 1 месяц, реже на 6 и 12 месяцев,  \n",
    "    4) часто выбирают групповые тренировки - 42,6%,  \n",
    "    5) умеренно тратят на дополнительные услуги 143,9 у.е.,  \n",
    "    6) посещают занятия 1-2 раза в неделю,  \n",
    "    7) основной характеристикой, выделяющей данный кластер на фоне прочих, является *отсутствие контактного телефона*. Возможно предпочитают получать информацию по другим каналам - электронная почта, социальные сети.    \n",
    "    8) Доля оттока клиентов данного кластера находится на среднестатистическом значении - 26,8%.\n",
    "3. Клиенты **кластера 3** (20,9%) проживают или работают далеко от локации фитнес-центра. Клиенты часто приходят по партнерским  программам - 46,3% и предпочитают абонементы сроком на 1, 6 месяцев. Фактор локации играет ключевую роль для клиентов данного кластера и негативно сказывается на посещаемости занятий - 1-2 раза в неделю. Предпочтение клиенты отдают индивидуальным тренировкам, что может свидетельствовать о выборе определенного тренера или уникальной программы. Дополнительными услугами пользуются редко. Партнерская программа позволяет привлечь клиента, но его приверженность обеспечивает только сильная мотивация к занятию спортом или высокой качество и уникальность услуг фитнес-центра. Доля оттока клиентов данного кластера высока - 44,4%.\n",
    "4. Клиенты **4 кластера** (12,6%) относятся к самым ненадежным - доля оттока составляет 51,4%. Проживают или работают рядом с фитнес-центром. В 35% случаев приходят по партнерским программам и в 24% случаев по рекомендации друзей. Приобретают абонементы на 1, реже на 6 месяцев, посещают занятия не чаще 1 раза в неделю и быстро прекращают их посещать. Клиенты вероятно имеют низкую мотивацию к занятиям спортом. Дополнительными услугами пользуются редко.\n",
    "5. Клиенты **кластера 5** (9,6%) также относятся к надежным и постоянным клиентам - доля оттока 6,8%. Как и клиенты из **4 кластера** 35,6% пришли по партнерской программе и 22,9% по рекомендации друзей. Предпочитают абонементы со сроком действия 1, реже 6 месяцев. Крайне редко приобретают абонементы на 1 год. Предпочитают групповые занятия (47,3%). На тренировки приходят регулярно 2-3 раза в неделю, что свидетельствует о высокой мотивации к занятию спортом. Активно пользуются дополнительными услугами фитнес-центра.\n",
    "\n",
    "Таким образом, **1** и **5** профили соответствуют надежным клиентам, тогда как для **3** и **4** профилей характерен высокий отток.\n",
    "\n",
    "**На основании профилей можно предложить следующие меры по удержанию клиентов cети фитнес-центров «Культурист-датасаентист»:**\n",
    "1. Для новичков перед началом тренировок выяснять мотивацию для тренировок - похудеть, привести тело к определенной форме, весело и активно провести время и т.д. - и на основании их ответов предлагать групповые занятия или индивидуальные тренировки, а также их комбинацию. Хорошим решением будут абонементы с возможностью посещения различных тренировок и выбором удобного времени без жестких привязок, что позволит клиенту выбрать наиболее подходящие занятия с удобным режимом посещения. Для тех кто впервые пришел в зал отличным решением будет одно или несколько индивидуальных занятий с тренером, который расскажет об оборудовании в зале и правильном выполнении упражнений. \n",
    "2. Составлять графики тренировок, особенно групповых, с учетом интересов клиентов. Обращать внимание на наиболее востребованые направления и предпочтения клиентов по времени. Для этого можно проводить регулярное анкетирование. Анкеты должны содержать не более 5 вопросов, лучше 3. Возможно проведения таких опросов на страницах соцсетей или лентах мессенджеров.\n",
    "3. Стимулировать мотивацию клиентов к регулярному посещению зала можно с помощью соревнований-вызовов, квестов и спорт-викторин. В качестве призов могут быть брендированые товары, спорт-добавки, дополнительные услуги центра, что в свою очередь создаст дополнительную рекламу.\n",
    "4. Введение в штат специалиста по спортивному питанию. Часто эффект от тренировок остается незамеченным из-за неправильного питания. Консультации такого специалиста помогут повысить шансы на достижение клиентом цели и будет выгодно выделять фитнес-центр на фоне многих спортзалов.\n",
    "5. Обязательное ведение страничек в соцсетях и месседжерах, на которых можно размещать информацию о новостях зала, акциях и, конечно, успехах клиентов."
   ]
  }
 ],
 "metadata": {
  "ExecuteTimeLog": [
   {
    "duration": 649,
    "start_time": "2022-01-03T06:27:33.086Z"
   },
   {
    "duration": 94,
    "start_time": "2022-01-03T06:27:33.871Z"
   },
   {
    "duration": 21,
    "start_time": "2022-01-03T06:27:45.060Z"
   },
   {
    "duration": 6,
    "start_time": "2022-01-03T06:27:59.030Z"
   },
   {
    "duration": 10,
    "start_time": "2022-01-03T06:28:01.236Z"
   },
   {
    "duration": 6,
    "start_time": "2022-01-03T06:28:10.388Z"
   },
   {
    "duration": 3,
    "start_time": "2022-01-03T06:34:31.616Z"
   },
   {
    "duration": 15,
    "start_time": "2022-01-03T06:34:36.197Z"
   },
   {
    "duration": 65,
    "start_time": "2022-01-03T06:39:01.323Z"
   },
   {
    "duration": 400,
    "start_time": "2022-01-03T06:42:00.129Z"
   },
   {
    "duration": 324,
    "start_time": "2022-01-03T06:42:43.996Z"
   },
   {
    "duration": 35,
    "start_time": "2022-01-03T06:42:54.826Z"
   },
   {
    "duration": 309,
    "start_time": "2022-01-03T06:44:58.956Z"
   },
   {
    "duration": 314,
    "start_time": "2022-01-03T06:45:22.992Z"
   },
   {
    "duration": 2,
    "start_time": "2022-01-03T06:45:55.665Z"
   },
   {
    "duration": 4,
    "start_time": "2022-01-03T06:46:01.152Z"
   },
   {
    "duration": 16,
    "start_time": "2022-01-03T06:47:38.338Z"
   },
   {
    "duration": 6,
    "start_time": "2022-01-03T07:34:15.218Z"
   },
   {
    "duration": 14,
    "start_time": "2022-01-03T07:34:20.817Z"
   },
   {
    "duration": 4,
    "start_time": "2022-01-03T08:10:59.535Z"
   },
   {
    "duration": 845,
    "start_time": "2022-01-03T08:18:18.573Z"
   },
   {
    "duration": 34,
    "start_time": "2022-01-03T08:18:27.853Z"
   },
   {
    "duration": 118,
    "start_time": "2022-01-03T08:18:52.557Z"
   },
   {
    "duration": 30,
    "start_time": "2022-01-03T08:18:57.296Z"
   },
   {
    "duration": 167,
    "start_time": "2022-01-03T08:18:59.872Z"
   },
   {
    "duration": 35,
    "start_time": "2022-01-03T08:19:03.280Z"
   },
   {
    "duration": 34,
    "start_time": "2022-01-03T08:19:12.272Z"
   },
   {
    "duration": 36,
    "start_time": "2022-01-03T08:19:34.832Z"
   },
   {
    "duration": 34,
    "start_time": "2022-01-03T08:19:38.690Z"
   },
   {
    "duration": 39,
    "start_time": "2022-01-03T08:19:44.879Z"
   },
   {
    "duration": 35,
    "start_time": "2022-01-03T08:19:50.478Z"
   },
   {
    "duration": 39,
    "start_time": "2022-01-03T08:19:52.818Z"
   },
   {
    "duration": 395,
    "start_time": "2022-01-03T08:22:08.050Z"
   },
   {
    "duration": 212,
    "start_time": "2022-01-03T08:22:11.827Z"
   },
   {
    "duration": 392,
    "start_time": "2022-01-03T08:22:30.467Z"
   },
   {
    "duration": 2,
    "start_time": "2022-01-03T08:22:42.355Z"
   },
   {
    "duration": 6,
    "start_time": "2022-01-03T08:22:44.257Z"
   },
   {
    "duration": 17,
    "start_time": "2022-01-03T08:22:46.258Z"
   },
   {
    "duration": 7,
    "start_time": "2022-01-03T08:22:50.659Z"
   },
   {
    "duration": 38,
    "start_time": "2022-01-03T08:22:58.567Z"
   },
   {
    "duration": 103,
    "start_time": "2022-01-03T08:31:17.608Z"
   },
   {
    "duration": 3,
    "start_time": "2022-01-03T08:31:35.034Z"
   },
   {
    "duration": 5,
    "start_time": "2022-01-03T08:31:37.293Z"
   },
   {
    "duration": 6,
    "start_time": "2022-01-03T08:31:37.653Z"
   },
   {
    "duration": 38,
    "start_time": "2022-01-03T08:31:39.958Z"
   },
   {
    "duration": 2,
    "start_time": "2022-01-03T08:32:21.001Z"
   },
   {
    "duration": 5,
    "start_time": "2022-01-03T08:32:22.393Z"
   },
   {
    "duration": 8,
    "start_time": "2022-01-03T08:32:24.241Z"
   },
   {
    "duration": 37,
    "start_time": "2022-01-03T08:32:24.838Z"
   },
   {
    "duration": 3,
    "start_time": "2022-01-03T08:33:29.386Z"
   },
   {
    "duration": 5,
    "start_time": "2022-01-03T08:33:31.690Z"
   },
   {
    "duration": 8,
    "start_time": "2022-01-03T08:33:33.001Z"
   },
   {
    "duration": 39,
    "start_time": "2022-01-03T08:33:35.258Z"
   },
   {
    "duration": 14,
    "start_time": "2022-01-03T08:33:58.842Z"
   },
   {
    "duration": 22,
    "start_time": "2022-01-03T08:34:04.811Z"
   },
   {
    "duration": 3,
    "start_time": "2022-01-03T08:36:15.869Z"
   },
   {
    "duration": 5,
    "start_time": "2022-01-03T08:36:18.753Z"
   },
   {
    "duration": 7,
    "start_time": "2022-01-03T08:36:19.168Z"
   },
   {
    "duration": 46,
    "start_time": "2022-01-03T08:36:21.601Z"
   },
   {
    "duration": 47,
    "start_time": "2022-01-03T08:36:39.417Z"
   },
   {
    "duration": 7,
    "start_time": "2022-01-03T08:36:46.345Z"
   },
   {
    "duration": 3,
    "start_time": "2022-01-03T08:37:07.948Z"
   },
   {
    "duration": 3,
    "start_time": "2022-01-03T08:37:51.213Z"
   },
   {
    "duration": 6,
    "start_time": "2022-01-03T08:37:53.057Z"
   },
   {
    "duration": 8,
    "start_time": "2022-01-03T08:37:53.466Z"
   },
   {
    "duration": 49,
    "start_time": "2022-01-03T08:37:55.820Z"
   },
   {
    "duration": 1469,
    "start_time": "2022-01-03T08:38:56.943Z"
   },
   {
    "duration": 21,
    "start_time": "2022-01-03T08:38:58.413Z"
   },
   {
    "duration": 13,
    "start_time": "2022-01-03T08:38:58.435Z"
   },
   {
    "duration": 8,
    "start_time": "2022-01-03T08:38:58.449Z"
   },
   {
    "duration": 7,
    "start_time": "2022-01-03T08:38:58.458Z"
   },
   {
    "duration": 6,
    "start_time": "2022-01-03T08:38:58.466Z"
   },
   {
    "duration": 8,
    "start_time": "2022-01-03T08:38:58.473Z"
   },
   {
    "duration": 12,
    "start_time": "2022-01-03T08:38:58.484Z"
   },
   {
    "duration": 36,
    "start_time": "2022-01-03T08:38:58.498Z"
   },
   {
    "duration": 79,
    "start_time": "2022-01-03T08:38:58.536Z"
   },
   {
    "duration": 20,
    "start_time": "2022-01-03T08:38:58.628Z"
   },
   {
    "duration": 34,
    "start_time": "2022-01-03T08:38:58.650Z"
   },
   {
    "duration": 437,
    "start_time": "2022-01-03T08:41:16.023Z"
   },
   {
    "duration": 12,
    "start_time": "2022-01-03T08:44:10.923Z"
   },
   {
    "duration": 4,
    "start_time": "2022-01-03T08:44:18.874Z"
   },
   {
    "duration": 6,
    "start_time": "2022-01-03T08:44:37.769Z"
   },
   {
    "duration": 337,
    "start_time": "2022-01-03T08:45:12.315Z"
   },
   {
    "duration": 329,
    "start_time": "2022-01-03T08:45:57.627Z"
   },
   {
    "duration": 3282,
    "start_time": "2022-01-03T08:46:16.651Z"
   },
   {
    "duration": 4,
    "start_time": "2022-01-03T08:46:23.530Z"
   },
   {
    "duration": 687,
    "start_time": "2022-01-03T08:46:29.786Z"
   },
   {
    "duration": 2296,
    "start_time": "2022-01-03T08:47:36.499Z"
   },
   {
    "duration": 1477,
    "start_time": "2022-01-03T08:47:38.797Z"
   },
   {
    "duration": 21,
    "start_time": "2022-01-03T08:47:40.275Z"
   },
   {
    "duration": 12,
    "start_time": "2022-01-03T08:47:40.297Z"
   },
   {
    "duration": 7,
    "start_time": "2022-01-03T08:47:40.311Z"
   },
   {
    "duration": 3,
    "start_time": "2022-01-03T08:47:40.319Z"
   },
   {
    "duration": 5,
    "start_time": "2022-01-03T08:47:40.323Z"
   },
   {
    "duration": 5,
    "start_time": "2022-01-03T08:47:40.330Z"
   },
   {
    "duration": 7,
    "start_time": "2022-01-03T08:47:40.337Z"
   },
   {
    "duration": 6,
    "start_time": "2022-01-03T08:47:40.346Z"
   },
   {
    "duration": 38,
    "start_time": "2022-01-03T08:47:40.353Z"
   },
   {
    "duration": 35,
    "start_time": "2022-01-03T08:47:40.393Z"
   },
   {
    "duration": 5,
    "start_time": "2022-01-03T08:47:40.429Z"
   },
   {
    "duration": 244,
    "start_time": "2022-01-03T08:47:40.435Z"
   },
   {
    "duration": 194,
    "start_time": "2022-01-03T08:48:24.379Z"
   },
   {
    "duration": 243,
    "start_time": "2022-01-03T08:48:28.240Z"
   },
   {
    "duration": 488,
    "start_time": "2022-01-03T08:49:17.228Z"
   },
   {
    "duration": 2487,
    "start_time": "2022-01-03T08:51:17.688Z"
   },
   {
    "duration": 1379,
    "start_time": "2022-01-03T08:51:20.177Z"
   },
   {
    "duration": 20,
    "start_time": "2022-01-03T08:51:21.560Z"
   },
   {
    "duration": 12,
    "start_time": "2022-01-03T08:51:21.581Z"
   },
   {
    "duration": 5,
    "start_time": "2022-01-03T08:51:21.595Z"
   },
   {
    "duration": 11,
    "start_time": "2022-01-03T08:51:21.601Z"
   },
   {
    "duration": 13,
    "start_time": "2022-01-03T08:51:21.614Z"
   },
   {
    "duration": 15,
    "start_time": "2022-01-03T08:51:21.631Z"
   },
   {
    "duration": 464,
    "start_time": "2022-01-03T08:51:21.647Z"
   },
   {
    "duration": -63,
    "start_time": "2022-01-03T08:51:22.176Z"
   },
   {
    "duration": -66,
    "start_time": "2022-01-03T08:51:22.180Z"
   },
   {
    "duration": -68,
    "start_time": "2022-01-03T08:51:22.183Z"
   },
   {
    "duration": -69,
    "start_time": "2022-01-03T08:51:22.185Z"
   },
   {
    "duration": -70,
    "start_time": "2022-01-03T08:51:22.187Z"
   },
   {
    "duration": -72,
    "start_time": "2022-01-03T08:51:22.189Z"
   },
   {
    "duration": 2,
    "start_time": "2022-01-03T08:51:27.887Z"
   },
   {
    "duration": 7,
    "start_time": "2022-01-03T08:51:29.662Z"
   },
   {
    "duration": 39,
    "start_time": "2022-01-03T08:51:31.648Z"
   },
   {
    "duration": 13,
    "start_time": "2022-01-03T08:51:33.454Z"
   },
   {
    "duration": 5,
    "start_time": "2022-01-03T08:51:36.799Z"
   },
   {
    "duration": 353,
    "start_time": "2022-01-03T08:51:40.286Z"
   },
   {
    "duration": 229,
    "start_time": "2022-01-03T08:51:41.406Z"
   },
   {
    "duration": 16,
    "start_time": "2022-01-03T08:55:53.027Z"
   },
   {
    "duration": 327,
    "start_time": "2022-01-03T08:56:47.141Z"
   },
   {
    "duration": 326,
    "start_time": "2022-01-03T08:57:19.876Z"
   },
   {
    "duration": 542,
    "start_time": "2022-01-03T08:57:47.973Z"
   },
   {
    "duration": 905,
    "start_time": "2022-01-03T11:45:36.082Z"
   },
   {
    "duration": 925,
    "start_time": "2022-01-03T11:46:00.316Z"
   },
   {
    "duration": 918,
    "start_time": "2022-01-03T11:46:31.352Z"
   },
   {
    "duration": 926,
    "start_time": "2022-01-03T11:46:55.336Z"
   },
   {
    "duration": 976,
    "start_time": "2022-01-03T11:47:52.656Z"
   },
   {
    "duration": 2423,
    "start_time": "2022-01-03T11:49:14.426Z"
   },
   {
    "duration": 1348,
    "start_time": "2022-01-03T11:49:26.025Z"
   },
   {
    "duration": 322,
    "start_time": "2022-01-03T12:41:54.349Z"
   },
   {
    "duration": 780,
    "start_time": "2022-01-03T12:42:08.126Z"
   },
   {
    "duration": 812,
    "start_time": "2022-01-03T12:42:22.591Z"
   },
   {
    "duration": 1291,
    "start_time": "2022-01-03T12:44:15.728Z"
   },
   {
    "duration": 1223,
    "start_time": "2022-01-03T12:44:47.407Z"
   },
   {
    "duration": 995,
    "start_time": "2022-01-03T12:44:54.286Z"
   },
   {
    "duration": 1232,
    "start_time": "2022-01-03T12:45:00.735Z"
   },
   {
    "duration": 1063,
    "start_time": "2022-01-03T12:48:12.209Z"
   },
   {
    "duration": 1083,
    "start_time": "2022-01-03T12:48:24.098Z"
   },
   {
    "duration": 1167,
    "start_time": "2022-01-03T12:48:41.201Z"
   },
   {
    "duration": 370,
    "start_time": "2022-01-03T13:02:31.611Z"
   },
   {
    "duration": 455,
    "start_time": "2022-01-03T13:02:57.931Z"
   },
   {
    "duration": 184,
    "start_time": "2022-01-03T13:03:05.340Z"
   },
   {
    "duration": 13,
    "start_time": "2022-01-03T13:06:46.556Z"
   },
   {
    "duration": 119,
    "start_time": "2022-01-03T13:07:13.616Z"
   },
   {
    "duration": 1006,
    "start_time": "2022-01-03T13:07:28.031Z"
   },
   {
    "duration": 1223,
    "start_time": "2022-01-03T13:08:01.343Z"
   },
   {
    "duration": 816,
    "start_time": "2022-01-03T13:08:10.559Z"
   },
   {
    "duration": 5,
    "start_time": "2022-01-03T13:09:38.769Z"
   },
   {
    "duration": 5,
    "start_time": "2022-01-03T13:09:48.785Z"
   },
   {
    "duration": 3,
    "start_time": "2022-01-03T13:09:54.848Z"
   },
   {
    "duration": 5,
    "start_time": "2022-01-03T13:10:00.016Z"
   },
   {
    "duration": 8445,
    "start_time": "2022-01-03T13:10:23.489Z"
   },
   {
    "duration": 4,
    "start_time": "2022-01-03T13:10:47.921Z"
   },
   {
    "duration": 310,
    "start_time": "2022-01-03T13:10:58.417Z"
   },
   {
    "duration": 4,
    "start_time": "2022-01-03T13:11:07.729Z"
   },
   {
    "duration": 348,
    "start_time": "2022-01-03T13:11:33.090Z"
   },
   {
    "duration": 418,
    "start_time": "2022-01-03T13:11:48.098Z"
   },
   {
    "duration": 560,
    "start_time": "2022-01-03T13:11:55.731Z"
   },
   {
    "duration": 372,
    "start_time": "2022-01-03T13:12:04.401Z"
   },
   {
    "duration": 416,
    "start_time": "2022-01-03T13:12:08.673Z"
   },
   {
    "duration": 344,
    "start_time": "2022-01-03T13:12:11.922Z"
   },
   {
    "duration": 2682,
    "start_time": "2022-01-03T13:12:16.419Z"
   },
   {
    "duration": 3014,
    "start_time": "2022-01-03T13:12:24.674Z"
   },
   {
    "duration": 308,
    "start_time": "2022-01-03T13:17:16.406Z"
   },
   {
    "duration": 398,
    "start_time": "2022-01-03T13:17:21.125Z"
   },
   {
    "duration": 412,
    "start_time": "2022-01-03T13:18:26.774Z"
   },
   {
    "duration": 178,
    "start_time": "2022-01-03T13:18:37.351Z"
   },
   {
    "duration": 192,
    "start_time": "2022-01-03T13:18:49.110Z"
   },
   {
    "duration": 112,
    "start_time": "2022-01-03T13:19:38.279Z"
   },
   {
    "duration": 8092,
    "start_time": "2022-01-03T13:19:52.620Z"
   },
   {
    "duration": 1494,
    "start_time": "2022-01-03T13:20:16.311Z"
   },
   {
    "duration": 4207,
    "start_time": "2022-01-03T13:20:52.824Z"
   },
   {
    "duration": 1679,
    "start_time": "2022-01-03T13:21:06.472Z"
   },
   {
    "duration": 1527,
    "start_time": "2022-01-03T13:21:37.737Z"
   },
   {
    "duration": -99,
    "start_time": "2022-01-03T13:22:09.163Z"
   },
   {
    "duration": 8068,
    "start_time": "2022-01-03T13:22:14.305Z"
   },
   {
    "duration": 8461,
    "start_time": "2022-01-03T13:22:36.409Z"
   },
   {
    "duration": 7685,
    "start_time": "2022-01-03T13:23:07.818Z"
   },
   {
    "duration": 3,
    "start_time": "2022-01-10T06:32:27.215Z"
   },
   {
    "duration": 1141,
    "start_time": "2022-01-10T06:32:27.219Z"
   },
   {
    "duration": 914,
    "start_time": "2022-01-10T06:32:28.361Z"
   },
   {
    "duration": 9,
    "start_time": "2022-01-10T06:32:29.278Z"
   },
   {
    "duration": 328,
    "start_time": "2022-01-10T06:32:29.288Z"
   },
   {
    "duration": 15,
    "start_time": "2022-01-10T06:32:29.618Z"
   },
   {
    "duration": 3,
    "start_time": "2022-01-10T06:32:29.635Z"
   },
   {
    "duration": 4,
    "start_time": "2022-01-10T06:32:29.639Z"
   },
   {
    "duration": 6,
    "start_time": "2022-01-10T06:32:29.645Z"
   },
   {
    "duration": 3,
    "start_time": "2022-01-10T06:32:29.653Z"
   },
   {
    "duration": 16,
    "start_time": "2022-01-10T06:32:29.658Z"
   },
   {
    "duration": 18,
    "start_time": "2022-01-10T06:32:29.675Z"
   },
   {
    "duration": 12,
    "start_time": "2022-01-10T06:32:29.694Z"
   },
   {
    "duration": 28,
    "start_time": "2022-01-10T06:32:29.727Z"
   },
   {
    "duration": 24,
    "start_time": "2022-01-10T06:32:29.756Z"
   },
   {
    "duration": 13,
    "start_time": "2022-01-10T06:32:29.781Z"
   },
   {
    "duration": 754,
    "start_time": "2022-01-10T06:32:29.795Z"
   },
   {
    "duration": -1,
    "start_time": "2022-01-10T06:32:30.551Z"
   },
   {
    "duration": -5,
    "start_time": "2022-01-10T06:32:30.556Z"
   },
   {
    "duration": -8,
    "start_time": "2022-01-10T06:32:30.560Z"
   },
   {
    "duration": -11,
    "start_time": "2022-01-10T06:32:30.564Z"
   },
   {
    "duration": -15,
    "start_time": "2022-01-10T06:32:30.569Z"
   },
   {
    "duration": -19,
    "start_time": "2022-01-10T06:32:30.573Z"
   },
   {
    "duration": -23,
    "start_time": "2022-01-10T06:32:30.578Z"
   },
   {
    "duration": -27,
    "start_time": "2022-01-10T06:32:30.583Z"
   },
   {
    "duration": -30,
    "start_time": "2022-01-10T06:32:30.587Z"
   },
   {
    "duration": -33,
    "start_time": "2022-01-10T06:32:30.591Z"
   },
   {
    "duration": 4106,
    "start_time": "2022-01-10T06:33:20.023Z"
   },
   {
    "duration": 2457,
    "start_time": "2022-01-10T06:33:29.297Z"
   },
   {
    "duration": 981,
    "start_time": "2022-01-10T06:33:31.756Z"
   },
   {
    "duration": 866,
    "start_time": "2022-01-10T06:33:32.739Z"
   },
   {
    "duration": 8,
    "start_time": "2022-01-10T06:33:33.607Z"
   },
   {
    "duration": 245,
    "start_time": "2022-01-10T06:33:33.617Z"
   },
   {
    "duration": 15,
    "start_time": "2022-01-10T06:33:33.864Z"
   },
   {
    "duration": 4,
    "start_time": "2022-01-10T06:33:33.880Z"
   },
   {
    "duration": 4,
    "start_time": "2022-01-10T06:33:33.886Z"
   },
   {
    "duration": 6,
    "start_time": "2022-01-10T06:33:33.892Z"
   },
   {
    "duration": 3,
    "start_time": "2022-01-10T06:33:33.900Z"
   },
   {
    "duration": 11,
    "start_time": "2022-01-10T06:33:33.905Z"
   },
   {
    "duration": 18,
    "start_time": "2022-01-10T06:33:33.917Z"
   },
   {
    "duration": 7,
    "start_time": "2022-01-10T06:33:33.937Z"
   },
   {
    "duration": 25,
    "start_time": "2022-01-10T06:33:33.945Z"
   },
   {
    "duration": 22,
    "start_time": "2022-01-10T06:33:33.972Z"
   },
   {
    "duration": 11,
    "start_time": "2022-01-10T06:33:33.995Z"
   },
   {
    "duration": 945,
    "start_time": "2022-01-10T06:33:34.007Z"
   },
   {
    "duration": -648,
    "start_time": "2022-01-10T06:33:35.602Z"
   },
   {
    "duration": -671,
    "start_time": "2022-01-10T06:33:35.626Z"
   },
   {
    "duration": -677,
    "start_time": "2022-01-10T06:33:35.633Z"
   },
   {
    "duration": -682,
    "start_time": "2022-01-10T06:33:35.639Z"
   },
   {
    "duration": -687,
    "start_time": "2022-01-10T06:33:35.645Z"
   },
   {
    "duration": -695,
    "start_time": "2022-01-10T06:33:35.654Z"
   },
   {
    "duration": -703,
    "start_time": "2022-01-10T06:33:35.663Z"
   },
   {
    "duration": -712,
    "start_time": "2022-01-10T06:33:35.672Z"
   },
   {
    "duration": -715,
    "start_time": "2022-01-10T06:33:35.676Z"
   },
   {
    "duration": -718,
    "start_time": "2022-01-10T06:33:35.680Z"
   },
   {
    "duration": 9395,
    "start_time": "2022-01-10T06:39:36.633Z"
   },
   {
    "duration": 1772,
    "start_time": "2022-01-10T06:39:46.030Z"
   },
   {
    "duration": 902,
    "start_time": "2022-01-10T06:39:47.804Z"
   },
   {
    "duration": 10,
    "start_time": "2022-01-10T06:39:48.708Z"
   },
   {
    "duration": 139,
    "start_time": "2022-01-10T06:39:48.719Z"
   },
   {
    "duration": 15,
    "start_time": "2022-01-10T06:39:48.860Z"
   },
   {
    "duration": 4,
    "start_time": "2022-01-10T06:39:48.877Z"
   },
   {
    "duration": 6,
    "start_time": "2022-01-10T06:39:48.883Z"
   },
   {
    "duration": 6,
    "start_time": "2022-01-10T06:39:48.891Z"
   },
   {
    "duration": 6,
    "start_time": "2022-01-10T06:39:48.899Z"
   },
   {
    "duration": 10,
    "start_time": "2022-01-10T06:39:48.906Z"
   },
   {
    "duration": 17,
    "start_time": "2022-01-10T06:39:48.917Z"
   },
   {
    "duration": 6,
    "start_time": "2022-01-10T06:39:48.936Z"
   },
   {
    "duration": 26,
    "start_time": "2022-01-10T06:39:48.944Z"
   },
   {
    "duration": 22,
    "start_time": "2022-01-10T06:39:48.972Z"
   },
   {
    "duration": 39,
    "start_time": "2022-01-10T06:39:48.995Z"
   },
   {
    "duration": 349,
    "start_time": "2022-01-10T06:39:49.036Z"
   },
   {
    "duration": 2884,
    "start_time": "2022-01-10T06:39:49.387Z"
   },
   {
    "duration": 3084,
    "start_time": "2022-01-10T06:39:52.273Z"
   },
   {
    "duration": 9,
    "start_time": "2022-01-10T06:39:55.359Z"
   },
   {
    "duration": 681,
    "start_time": "2022-01-10T06:39:55.370Z"
   },
   {
    "duration": 423,
    "start_time": "2022-01-10T06:39:56.053Z"
   },
   {
    "duration": -42,
    "start_time": "2022-01-10T06:39:56.520Z"
   },
   {
    "duration": -44,
    "start_time": "2022-01-10T06:39:56.523Z"
   },
   {
    "duration": -48,
    "start_time": "2022-01-10T06:39:56.527Z"
   },
   {
    "duration": -50,
    "start_time": "2022-01-10T06:39:56.530Z"
   },
   {
    "duration": -51,
    "start_time": "2022-01-10T06:39:56.532Z"
   },
   {
    "duration": 532,
    "start_time": "2022-01-10T06:48:40.217Z"
   },
   {
    "duration": 404,
    "start_time": "2022-01-10T08:58:17.338Z"
   },
   {
    "duration": 8,
    "start_time": "2022-01-10T08:59:10.520Z"
   },
   {
    "duration": -79,
    "start_time": "2022-01-10T09:15:02.600Z"
   },
   {
    "duration": 9,
    "start_time": "2022-01-10T09:15:04.531Z"
   },
   {
    "duration": 13,
    "start_time": "2022-01-10T10:01:40.260Z"
   },
   {
    "duration": 149,
    "start_time": "2022-01-10T10:01:51.300Z"
   },
   {
    "duration": 9,
    "start_time": "2022-01-10T10:01:55.700Z"
   },
   {
    "duration": 10,
    "start_time": "2022-01-10T11:21:05.343Z"
   },
   {
    "duration": 605,
    "start_time": "2022-01-10T11:21:57.609Z"
   },
   {
    "duration": 601,
    "start_time": "2022-01-10T11:22:18.009Z"
   },
   {
    "duration": 597,
    "start_time": "2022-01-10T11:22:32.952Z"
   },
   {
    "duration": 637,
    "start_time": "2022-01-10T11:33:28.605Z"
   },
   {
    "duration": 982,
    "start_time": "2022-01-10T12:14:26.460Z"
   },
   {
    "duration": 984,
    "start_time": "2022-01-10T12:14:40.012Z"
   },
   {
    "duration": 968,
    "start_time": "2022-01-10T12:14:58.748Z"
   },
   {
    "duration": 5,
    "start_time": "2022-01-10T12:15:42.477Z"
   },
   {
    "duration": 1016,
    "start_time": "2022-01-10T12:15:57.853Z"
   },
   {
    "duration": 212465,
    "start_time": "2022-01-19T19:42:04.294Z"
   },
   {
    "duration": 1031,
    "start_time": "2022-01-19T19:45:36.761Z"
   },
   {
    "duration": 990,
    "start_time": "2022-01-19T19:45:37.794Z"
   },
   {
    "duration": 10,
    "start_time": "2022-01-19T19:45:38.786Z"
   },
   {
    "duration": 4,
    "start_time": "2022-01-19T19:45:38.798Z"
   },
   {
    "duration": 118,
    "start_time": "2022-01-19T19:45:38.804Z"
   },
   {
    "duration": 17,
    "start_time": "2022-01-19T19:45:38.924Z"
   },
   {
    "duration": 4,
    "start_time": "2022-01-19T19:45:38.943Z"
   },
   {
    "duration": 4,
    "start_time": "2022-01-19T19:45:38.949Z"
   },
   {
    "duration": 67,
    "start_time": "2022-01-19T19:45:38.955Z"
   },
   {
    "duration": 8,
    "start_time": "2022-01-19T19:45:39.025Z"
   },
   {
    "duration": 7,
    "start_time": "2022-01-19T19:45:39.035Z"
   },
   {
    "duration": 6,
    "start_time": "2022-01-19T19:45:39.043Z"
   },
   {
    "duration": 9,
    "start_time": "2022-01-19T19:45:39.051Z"
   },
   {
    "duration": 5,
    "start_time": "2022-01-19T19:45:39.062Z"
   },
   {
    "duration": 50,
    "start_time": "2022-01-19T19:45:39.069Z"
   },
   {
    "duration": 591,
    "start_time": "2022-01-19T19:45:39.121Z"
   },
   {
    "duration": 953,
    "start_time": "2022-01-19T19:45:38.762Z"
   },
   {
    "duration": 944,
    "start_time": "2022-01-19T19:45:38.771Z"
   },
   {
    "duration": 939,
    "start_time": "2022-01-19T19:45:38.778Z"
   },
   {
    "duration": 934,
    "start_time": "2022-01-19T19:45:38.784Z"
   },
   {
    "duration": 927,
    "start_time": "2022-01-19T19:45:38.792Z"
   },
   {
    "duration": 924,
    "start_time": "2022-01-19T19:45:38.796Z"
   },
   {
    "duration": 919,
    "start_time": "2022-01-19T19:45:38.802Z"
   },
   {
    "duration": 913,
    "start_time": "2022-01-19T19:45:38.809Z"
   },
   {
    "duration": 907,
    "start_time": "2022-01-19T19:45:38.815Z"
   },
   {
    "duration": 902,
    "start_time": "2022-01-19T19:45:38.821Z"
   },
   {
    "duration": 896,
    "start_time": "2022-01-19T19:45:38.828Z"
   },
   {
    "duration": 891,
    "start_time": "2022-01-19T19:45:38.834Z"
   },
   {
    "duration": 885,
    "start_time": "2022-01-19T19:45:38.840Z"
   },
   {
    "duration": 880,
    "start_time": "2022-01-19T19:45:38.846Z"
   },
   {
    "duration": 876,
    "start_time": "2022-01-19T19:45:38.852Z"
   },
   {
    "duration": 871,
    "start_time": "2022-01-19T19:45:38.858Z"
   },
   {
    "duration": 865,
    "start_time": "2022-01-19T19:45:38.865Z"
   },
   {
    "duration": 860,
    "start_time": "2022-01-19T19:45:38.871Z"
   },
   {
    "duration": 855,
    "start_time": "2022-01-19T19:45:38.877Z"
   },
   {
    "duration": 850,
    "start_time": "2022-01-19T19:45:38.883Z"
   },
   {
    "duration": 845,
    "start_time": "2022-01-19T19:45:38.889Z"
   },
   {
    "duration": 840,
    "start_time": "2022-01-19T19:45:38.895Z"
   },
   {
    "duration": 834,
    "start_time": "2022-01-19T19:45:38.902Z"
   },
   {
    "duration": 199077,
    "start_time": "2022-01-19T19:54:48.253Z"
   },
   {
    "duration": 1689,
    "start_time": "2022-01-19T19:58:07.332Z"
   },
   {
    "duration": 878,
    "start_time": "2022-01-19T19:58:09.025Z"
   },
   {
    "duration": 11,
    "start_time": "2022-01-19T19:58:09.905Z"
   },
   {
    "duration": 4,
    "start_time": "2022-01-19T19:58:09.918Z"
   },
   {
    "duration": 115,
    "start_time": "2022-01-19T19:58:09.924Z"
   },
   {
    "duration": 18,
    "start_time": "2022-01-19T19:58:10.041Z"
   },
   {
    "duration": 5,
    "start_time": "2022-01-19T19:58:10.061Z"
   },
   {
    "duration": 9,
    "start_time": "2022-01-19T19:58:10.068Z"
   },
   {
    "duration": 62,
    "start_time": "2022-01-19T19:58:10.079Z"
   },
   {
    "duration": 6,
    "start_time": "2022-01-19T19:58:10.143Z"
   },
   {
    "duration": 5,
    "start_time": "2022-01-19T19:58:10.151Z"
   },
   {
    "duration": 5,
    "start_time": "2022-01-19T19:58:10.157Z"
   },
   {
    "duration": 5,
    "start_time": "2022-01-19T19:58:10.163Z"
   },
   {
    "duration": 4,
    "start_time": "2022-01-19T19:58:10.170Z"
   },
   {
    "duration": 37,
    "start_time": "2022-01-19T19:58:10.176Z"
   },
   {
    "duration": 414,
    "start_time": "2022-01-19T19:58:10.214Z"
   },
   {
    "duration": 3,
    "start_time": "2022-01-19T19:58:10.629Z"
   },
   {
    "duration": 1959,
    "start_time": "2022-01-19T19:58:10.634Z"
   },
   {
    "duration": 1477,
    "start_time": "2022-01-19T19:58:12.595Z"
   },
   {
    "duration": 2,
    "start_time": "2022-01-19T19:58:14.074Z"
   },
   {
    "duration": 66,
    "start_time": "2022-01-19T19:58:14.078Z"
   },
   {
    "duration": 994,
    "start_time": "2022-01-19T19:58:14.147Z"
   },
   {
    "duration": 8,
    "start_time": "2022-01-19T19:58:15.143Z"
   },
   {
    "duration": 98,
    "start_time": "2022-01-19T19:58:15.152Z"
   },
   {
    "duration": 402,
    "start_time": "2022-01-19T19:58:15.312Z"
   },
   {
    "duration": 6,
    "start_time": "2022-01-19T19:58:15.715Z"
   },
   {
    "duration": 316,
    "start_time": "2022-01-19T19:58:15.722Z"
   },
   {
    "duration": 336,
    "start_time": "2022-01-19T19:58:16.039Z"
   },
   {
    "duration": 10,
    "start_time": "2022-01-19T19:58:16.377Z"
   },
   {
    "duration": 542,
    "start_time": "2022-01-19T19:58:16.389Z"
   },
   {
    "duration": 1003,
    "start_time": "2022-01-19T19:58:16.933Z"
   },
   {
    "duration": 1579,
    "start_time": "2022-01-19T19:58:17.938Z"
   },
   {
    "duration": 553,
    "start_time": "2022-01-19T19:58:19.519Z"
   },
   {
    "duration": 18,
    "start_time": "2022-01-19T19:58:20.074Z"
   },
   {
    "duration": 6,
    "start_time": "2022-01-19T19:58:20.094Z"
   },
   {
    "duration": 7,
    "start_time": "2022-01-19T19:58:20.112Z"
   },
   {
    "duration": 2365,
    "start_time": "2022-01-19T19:58:20.121Z"
   },
   {
    "duration": 697,
    "start_time": "2022-01-19T19:58:22.488Z"
   },
   {
    "duration": 12,
    "start_time": "2022-01-19T19:58:23.186Z"
   },
   {
    "duration": 10171,
    "start_time": "2022-01-19T20:51:36.733Z"
   },
   {
    "duration": 1669,
    "start_time": "2022-01-19T20:51:46.906Z"
   },
   {
    "duration": 979,
    "start_time": "2022-01-19T20:51:48.577Z"
   },
   {
    "duration": 8,
    "start_time": "2022-01-19T20:51:49.557Z"
   },
   {
    "duration": 5,
    "start_time": "2022-01-19T20:51:49.567Z"
   },
   {
    "duration": 135,
    "start_time": "2022-01-19T20:51:49.574Z"
   },
   {
    "duration": 19,
    "start_time": "2022-01-19T20:51:49.710Z"
   },
   {
    "duration": 4,
    "start_time": "2022-01-19T20:51:49.731Z"
   },
   {
    "duration": 6,
    "start_time": "2022-01-19T20:51:49.737Z"
   },
   {
    "duration": 45,
    "start_time": "2022-01-19T20:51:49.744Z"
   },
   {
    "duration": 6,
    "start_time": "2022-01-19T20:51:49.791Z"
   },
   {
    "duration": 6,
    "start_time": "2022-01-19T20:51:49.798Z"
   },
   {
    "duration": 28,
    "start_time": "2022-01-19T20:51:49.805Z"
   },
   {
    "duration": 5,
    "start_time": "2022-01-19T20:51:49.834Z"
   },
   {
    "duration": 4,
    "start_time": "2022-01-19T20:51:49.841Z"
   },
   {
    "duration": 8,
    "start_time": "2022-01-19T20:51:49.846Z"
   },
   {
    "duration": 384,
    "start_time": "2022-01-19T20:51:49.856Z"
   },
   {
    "duration": 3,
    "start_time": "2022-01-19T20:51:50.242Z"
   },
   {
    "duration": 1693,
    "start_time": "2022-01-19T20:51:50.247Z"
   },
   {
    "duration": 1420,
    "start_time": "2022-01-19T20:51:51.942Z"
   },
   {
    "duration": 2,
    "start_time": "2022-01-19T20:51:53.364Z"
   },
   {
    "duration": 65,
    "start_time": "2022-01-19T20:51:53.368Z"
   },
   {
    "duration": 973,
    "start_time": "2022-01-19T20:51:53.436Z"
   },
   {
    "duration": 20,
    "start_time": "2022-01-19T20:51:54.411Z"
   },
   {
    "duration": 100,
    "start_time": "2022-01-19T20:51:54.433Z"
   },
   {
    "duration": 485,
    "start_time": "2022-01-19T20:51:54.535Z"
   },
   {
    "duration": 6,
    "start_time": "2022-01-19T20:51:55.021Z"
   },
   {
    "duration": 321,
    "start_time": "2022-01-19T20:51:55.029Z"
   },
   {
    "duration": 325,
    "start_time": "2022-01-19T20:51:55.352Z"
   },
   {
    "duration": 10,
    "start_time": "2022-01-19T20:51:55.678Z"
   },
   {
    "duration": 526,
    "start_time": "2022-01-19T20:51:55.690Z"
   },
   {
    "duration": 934,
    "start_time": "2022-01-19T20:51:56.218Z"
   },
   {
    "duration": 1579,
    "start_time": "2022-01-19T20:51:57.154Z"
   },
   {
    "duration": 616,
    "start_time": "2022-01-19T20:51:58.738Z"
   },
   {
    "duration": 14,
    "start_time": "2022-01-19T20:51:59.356Z"
   },
   {
    "duration": 8,
    "start_time": "2022-01-19T20:51:59.372Z"
   },
   {
    "duration": 17,
    "start_time": "2022-01-19T20:51:59.381Z"
   },
   {
    "duration": 2156,
    "start_time": "2022-01-19T20:51:59.399Z"
   },
   {
    "duration": 645,
    "start_time": "2022-01-19T20:52:01.557Z"
   },
   {
    "duration": 23,
    "start_time": "2022-01-19T20:52:02.204Z"
   },
   {
    "duration": 4955,
    "start_time": "2022-01-19T20:57:20.012Z"
   },
   {
    "duration": 1501,
    "start_time": "2022-01-19T20:57:24.969Z"
   },
   {
    "duration": 842,
    "start_time": "2022-01-19T20:57:26.472Z"
   },
   {
    "duration": 9,
    "start_time": "2022-01-19T20:57:27.315Z"
   },
   {
    "duration": 12,
    "start_time": "2022-01-19T20:57:27.325Z"
   },
   {
    "duration": 124,
    "start_time": "2022-01-19T20:57:27.339Z"
   },
   {
    "duration": 17,
    "start_time": "2022-01-19T20:57:27.464Z"
   },
   {
    "duration": 4,
    "start_time": "2022-01-19T20:57:27.483Z"
   },
   {
    "duration": 6,
    "start_time": "2022-01-19T20:57:27.489Z"
   },
   {
    "duration": 42,
    "start_time": "2022-01-19T20:57:27.496Z"
   },
   {
    "duration": 6,
    "start_time": "2022-01-19T20:57:27.539Z"
   },
   {
    "duration": 4,
    "start_time": "2022-01-19T20:57:27.546Z"
   },
   {
    "duration": 4,
    "start_time": "2022-01-19T20:57:27.552Z"
   },
   {
    "duration": 4,
    "start_time": "2022-01-19T20:57:27.557Z"
   },
   {
    "duration": 4,
    "start_time": "2022-01-19T20:57:27.563Z"
   },
   {
    "duration": 8,
    "start_time": "2022-01-19T20:57:27.568Z"
   },
   {
    "duration": 276,
    "start_time": "2022-01-19T20:57:27.577Z"
   },
   {
    "duration": 2,
    "start_time": "2022-01-19T20:57:27.855Z"
   },
   {
    "duration": 1653,
    "start_time": "2022-01-19T20:57:27.859Z"
   },
   {
    "duration": 1394,
    "start_time": "2022-01-19T20:57:29.514Z"
   },
   {
    "duration": 2,
    "start_time": "2022-01-19T20:57:30.909Z"
   },
   {
    "duration": 62,
    "start_time": "2022-01-19T20:57:30.913Z"
   },
   {
    "duration": 914,
    "start_time": "2022-01-19T20:57:30.979Z"
   },
   {
    "duration": 9,
    "start_time": "2022-01-19T20:57:31.895Z"
   },
   {
    "duration": 125,
    "start_time": "2022-01-19T20:57:31.906Z"
   },
   {
    "duration": 574,
    "start_time": "2022-01-19T20:57:32.034Z"
   },
   {
    "duration": 5,
    "start_time": "2022-01-19T20:57:32.610Z"
   },
   {
    "duration": 331,
    "start_time": "2022-01-19T20:57:32.617Z"
   },
   {
    "duration": 329,
    "start_time": "2022-01-19T20:57:32.949Z"
   },
   {
    "duration": 8,
    "start_time": "2022-01-19T20:57:33.280Z"
   },
   {
    "duration": 4,
    "start_time": "2022-01-19T20:57:33.290Z"
   },
   {
    "duration": 436,
    "start_time": "2022-01-19T20:57:33.296Z"
   },
   {
    "duration": -2090,
    "start_time": "2022-01-19T20:57:35.824Z"
   },
   {
    "duration": -2100,
    "start_time": "2022-01-19T20:57:35.835Z"
   },
   {
    "duration": -2105,
    "start_time": "2022-01-19T20:57:35.841Z"
   },
   {
    "duration": -2116,
    "start_time": "2022-01-19T20:57:35.852Z"
   },
   {
    "duration": -2226,
    "start_time": "2022-01-19T20:57:35.963Z"
   },
   {
    "duration": -2232,
    "start_time": "2022-01-19T20:57:35.970Z"
   },
   {
    "duration": -2237,
    "start_time": "2022-01-19T20:57:35.976Z"
   },
   {
    "duration": -2245,
    "start_time": "2022-01-19T20:57:35.985Z"
   },
   {
    "duration": -2251,
    "start_time": "2022-01-19T20:57:35.992Z"
   },
   {
    "duration": -2259,
    "start_time": "2022-01-19T20:57:36.001Z"
   },
   {
    "duration": 14,
    "start_time": "2022-01-19T21:00:59.848Z"
   },
   {
    "duration": 594,
    "start_time": "2022-01-19T21:01:35.571Z"
   },
   {
    "duration": 930,
    "start_time": "2022-01-19T21:01:39.931Z"
   },
   {
    "duration": 1475,
    "start_time": "2022-01-19T21:04:59.956Z"
   },
   {
    "duration": 504,
    "start_time": "2022-01-19T21:05:03.365Z"
   },
   {
    "duration": 15,
    "start_time": "2022-01-19T21:05:10.561Z"
   },
   {
    "duration": 1279,
    "start_time": "2022-01-19T21:05:54.055Z"
   },
   {
    "duration": 477,
    "start_time": "2022-01-19T21:06:03.998Z"
   },
   {
    "duration": 15,
    "start_time": "2022-01-19T21:06:20.809Z"
   },
   {
    "duration": 5214,
    "start_time": "2022-01-19T21:06:35.157Z"
   },
   {
    "duration": 1539,
    "start_time": "2022-01-19T21:06:40.373Z"
   },
   {
    "duration": 891,
    "start_time": "2022-01-19T21:06:41.914Z"
   },
   {
    "duration": 9,
    "start_time": "2022-01-19T21:06:42.807Z"
   },
   {
    "duration": 14,
    "start_time": "2022-01-19T21:06:42.817Z"
   },
   {
    "duration": 138,
    "start_time": "2022-01-19T21:06:42.833Z"
   },
   {
    "duration": 16,
    "start_time": "2022-01-19T21:06:42.973Z"
   },
   {
    "duration": 3,
    "start_time": "2022-01-19T21:06:42.992Z"
   },
   {
    "duration": 16,
    "start_time": "2022-01-19T21:06:42.997Z"
   },
   {
    "duration": 51,
    "start_time": "2022-01-19T21:06:43.015Z"
   },
   {
    "duration": 6,
    "start_time": "2022-01-19T21:06:43.067Z"
   },
   {
    "duration": 19,
    "start_time": "2022-01-19T21:06:43.074Z"
   },
   {
    "duration": 17,
    "start_time": "2022-01-19T21:06:43.095Z"
   },
   {
    "duration": 15,
    "start_time": "2022-01-19T21:06:43.113Z"
   },
   {
    "duration": 20,
    "start_time": "2022-01-19T21:06:43.129Z"
   },
   {
    "duration": 8,
    "start_time": "2022-01-19T21:06:43.151Z"
   },
   {
    "duration": 283,
    "start_time": "2022-01-19T21:06:43.160Z"
   },
   {
    "duration": 3,
    "start_time": "2022-01-19T21:06:43.444Z"
   },
   {
    "duration": 1672,
    "start_time": "2022-01-19T21:06:43.448Z"
   },
   {
    "duration": 1391,
    "start_time": "2022-01-19T21:06:45.121Z"
   },
   {
    "duration": 3,
    "start_time": "2022-01-19T21:06:46.513Z"
   },
   {
    "duration": 59,
    "start_time": "2022-01-19T21:06:46.517Z"
   },
   {
    "duration": 904,
    "start_time": "2022-01-19T21:06:46.579Z"
   },
   {
    "duration": 7,
    "start_time": "2022-01-19T21:06:47.485Z"
   },
   {
    "duration": 135,
    "start_time": "2022-01-19T21:06:47.494Z"
   },
   {
    "duration": 502,
    "start_time": "2022-01-19T21:06:47.631Z"
   },
   {
    "duration": 6,
    "start_time": "2022-01-19T21:06:48.134Z"
   },
   {
    "duration": 388,
    "start_time": "2022-01-19T21:06:48.141Z"
   },
   {
    "duration": 250,
    "start_time": "2022-01-19T21:06:48.530Z"
   },
   {
    "duration": 8,
    "start_time": "2022-01-19T21:06:48.781Z"
   },
   {
    "duration": 5,
    "start_time": "2022-01-19T21:06:48.791Z"
   },
   {
    "duration": 544,
    "start_time": "2022-01-19T21:06:48.797Z"
   },
   {
    "duration": 1000,
    "start_time": "2022-01-19T21:06:49.343Z"
   },
   {
    "duration": 1387,
    "start_time": "2022-01-19T21:06:50.345Z"
   },
   {
    "duration": 546,
    "start_time": "2022-01-19T21:06:51.735Z"
   },
   {
    "duration": 16,
    "start_time": "2022-01-19T21:06:52.282Z"
   },
   {
    "duration": 8142,
    "start_time": "2022-01-19T21:06:52.299Z"
   },
   {
    "duration": -458,
    "start_time": "2022-01-19T21:07:00.901Z"
   },
   {
    "duration": -467,
    "start_time": "2022-01-19T21:07:00.911Z"
   },
   {
    "duration": -487,
    "start_time": "2022-01-19T21:07:00.932Z"
   },
   {
    "duration": -496,
    "start_time": "2022-01-19T21:07:00.942Z"
   },
   {
    "duration": 6,
    "start_time": "2022-01-19T21:08:27.486Z"
   },
   {
    "duration": 5054,
    "start_time": "2022-01-19T21:09:40.949Z"
   },
   {
    "duration": 1548,
    "start_time": "2022-01-19T21:09:46.005Z"
   },
   {
    "duration": 818,
    "start_time": "2022-01-19T21:09:47.556Z"
   },
   {
    "duration": 9,
    "start_time": "2022-01-19T21:09:48.376Z"
   },
   {
    "duration": 9,
    "start_time": "2022-01-19T21:09:48.386Z"
   },
   {
    "duration": 144,
    "start_time": "2022-01-19T21:09:48.397Z"
   },
   {
    "duration": 17,
    "start_time": "2022-01-19T21:09:48.543Z"
   },
   {
    "duration": 4,
    "start_time": "2022-01-19T21:09:48.561Z"
   },
   {
    "duration": 7,
    "start_time": "2022-01-19T21:09:48.567Z"
   },
   {
    "duration": 40,
    "start_time": "2022-01-19T21:09:48.576Z"
   },
   {
    "duration": 10,
    "start_time": "2022-01-19T21:09:48.618Z"
   },
   {
    "duration": 4,
    "start_time": "2022-01-19T21:09:48.630Z"
   },
   {
    "duration": 6,
    "start_time": "2022-01-19T21:09:48.635Z"
   },
   {
    "duration": 5,
    "start_time": "2022-01-19T21:09:48.643Z"
   },
   {
    "duration": 5,
    "start_time": "2022-01-19T21:09:48.650Z"
   },
   {
    "duration": 12,
    "start_time": "2022-01-19T21:09:48.656Z"
   },
   {
    "duration": 282,
    "start_time": "2022-01-19T21:09:48.669Z"
   },
   {
    "duration": 3,
    "start_time": "2022-01-19T21:09:48.953Z"
   },
   {
    "duration": 1796,
    "start_time": "2022-01-19T21:09:48.957Z"
   },
   {
    "duration": 1473,
    "start_time": "2022-01-19T21:09:50.754Z"
   },
   {
    "duration": 3,
    "start_time": "2022-01-19T21:09:52.228Z"
   },
   {
    "duration": 61,
    "start_time": "2022-01-19T21:09:52.232Z"
   },
   {
    "duration": 979,
    "start_time": "2022-01-19T21:09:52.295Z"
   },
   {
    "duration": 9,
    "start_time": "2022-01-19T21:09:53.276Z"
   },
   {
    "duration": 142,
    "start_time": "2022-01-19T21:09:53.287Z"
   },
   {
    "duration": 562,
    "start_time": "2022-01-19T21:09:53.431Z"
   },
   {
    "duration": 7,
    "start_time": "2022-01-19T21:09:53.998Z"
   },
   {
    "duration": 444,
    "start_time": "2022-01-19T21:09:54.007Z"
   },
   {
    "duration": 327,
    "start_time": "2022-01-19T21:09:54.452Z"
   },
   {
    "duration": 8,
    "start_time": "2022-01-19T21:09:54.781Z"
   },
   {
    "duration": 5,
    "start_time": "2022-01-19T21:09:54.791Z"
   },
   {
    "duration": 516,
    "start_time": "2022-01-19T21:09:54.798Z"
   },
   {
    "duration": 980,
    "start_time": "2022-01-19T21:09:55.315Z"
   },
   {
    "duration": 1231,
    "start_time": "2022-01-19T21:09:56.297Z"
   },
   {
    "duration": 544,
    "start_time": "2022-01-19T21:09:57.531Z"
   },
   {
    "duration": 15,
    "start_time": "2022-01-19T21:09:58.076Z"
   },
   {
    "duration": 5,
    "start_time": "2022-01-19T21:09:58.093Z"
   },
   {
    "duration": 7,
    "start_time": "2022-01-19T21:09:58.099Z"
   },
   {
    "duration": 750,
    "start_time": "2022-01-19T21:09:58.108Z"
   },
   {
    "duration": -310,
    "start_time": "2022-01-19T21:09:59.169Z"
   },
   {
    "duration": -319,
    "start_time": "2022-01-19T21:09:59.179Z"
   },
   {
    "duration": 543,
    "start_time": "2022-01-19T21:52:20.721Z"
   },
   {
    "duration": 3,
    "start_time": "2022-01-19T21:59:24.517Z"
   },
   {
    "duration": 5049,
    "start_time": "2022-01-19T21:59:55.616Z"
   },
   {
    "duration": 1575,
    "start_time": "2022-01-19T22:00:00.668Z"
   },
   {
    "duration": 861,
    "start_time": "2022-01-19T22:00:02.245Z"
   },
   {
    "duration": 9,
    "start_time": "2022-01-19T22:00:03.108Z"
   },
   {
    "duration": 3,
    "start_time": "2022-01-19T22:00:03.118Z"
   },
   {
    "duration": 129,
    "start_time": "2022-01-19T22:00:03.123Z"
   },
   {
    "duration": 16,
    "start_time": "2022-01-19T22:00:03.254Z"
   },
   {
    "duration": 17,
    "start_time": "2022-01-19T22:00:03.272Z"
   },
   {
    "duration": 10,
    "start_time": "2022-01-19T22:00:03.291Z"
   },
   {
    "duration": 54,
    "start_time": "2022-01-19T22:00:03.302Z"
   },
   {
    "duration": 6,
    "start_time": "2022-01-19T22:00:03.358Z"
   },
   {
    "duration": 17,
    "start_time": "2022-01-19T22:00:03.365Z"
   },
   {
    "duration": 15,
    "start_time": "2022-01-19T22:00:03.384Z"
   },
   {
    "duration": 9,
    "start_time": "2022-01-19T22:00:03.401Z"
   },
   {
    "duration": 4,
    "start_time": "2022-01-19T22:00:03.412Z"
   },
   {
    "duration": 10,
    "start_time": "2022-01-19T22:00:03.417Z"
   },
   {
    "duration": 230,
    "start_time": "2022-01-19T22:00:03.428Z"
   },
   {
    "duration": 2,
    "start_time": "2022-01-19T22:00:03.660Z"
   },
   {
    "duration": 2201,
    "start_time": "2022-01-19T22:00:03.663Z"
   },
   {
    "duration": 2120,
    "start_time": "2022-01-19T22:00:05.866Z"
   },
   {
    "duration": 2,
    "start_time": "2022-01-19T22:00:07.988Z"
   },
   {
    "duration": 85,
    "start_time": "2022-01-19T22:00:07.992Z"
   },
   {
    "duration": 946,
    "start_time": "2022-01-19T22:00:08.081Z"
   },
   {
    "duration": 7,
    "start_time": "2022-01-19T22:00:09.029Z"
   },
   {
    "duration": 190,
    "start_time": "2022-01-19T22:00:09.038Z"
   },
   {
    "duration": 502,
    "start_time": "2022-01-19T22:00:09.230Z"
   },
   {
    "duration": 6,
    "start_time": "2022-01-19T22:00:09.734Z"
   },
   {
    "duration": 389,
    "start_time": "2022-01-19T22:00:09.741Z"
   },
   {
    "duration": 342,
    "start_time": "2022-01-19T22:00:10.132Z"
   },
   {
    "duration": 9,
    "start_time": "2022-01-19T22:00:10.527Z"
   },
   {
    "duration": 7,
    "start_time": "2022-01-19T22:00:10.538Z"
   },
   {
    "duration": 698,
    "start_time": "2022-01-19T22:00:10.547Z"
   },
   {
    "duration": 989,
    "start_time": "2022-01-19T22:00:11.247Z"
   },
   {
    "duration": 1490,
    "start_time": "2022-01-19T22:00:12.238Z"
   },
   {
    "duration": 587,
    "start_time": "2022-01-19T22:00:13.729Z"
   },
   {
    "duration": 20,
    "start_time": "2022-01-19T22:00:14.317Z"
   },
   {
    "duration": 13,
    "start_time": "2022-01-19T22:00:14.338Z"
   },
   {
    "duration": 2096,
    "start_time": "2022-01-19T22:00:14.352Z"
   },
   {
    "duration": 8980,
    "start_time": "2022-01-19T22:00:16.450Z"
   },
   {
    "duration": -414,
    "start_time": "2022-01-19T22:00:25.846Z"
   },
   {
    "duration": 677,
    "start_time": "2022-01-19T22:20:57.835Z"
   },
   {
    "duration": 327,
    "start_time": "2022-01-19T22:26:54.835Z"
   },
   {
    "duration": 328,
    "start_time": "2022-01-19T22:32:57.307Z"
   },
   {
    "duration": 324,
    "start_time": "2022-01-19T22:33:09.430Z"
   },
   {
    "duration": 5597,
    "start_time": "2022-01-19T22:33:26.554Z"
   },
   {
    "duration": 1557,
    "start_time": "2022-01-19T22:33:32.153Z"
   },
   {
    "duration": 761,
    "start_time": "2022-01-19T22:33:33.712Z"
   },
   {
    "duration": 9,
    "start_time": "2022-01-19T22:33:34.476Z"
   },
   {
    "duration": 6,
    "start_time": "2022-01-19T22:33:34.487Z"
   },
   {
    "duration": 166,
    "start_time": "2022-01-19T22:33:34.494Z"
   },
   {
    "duration": 19,
    "start_time": "2022-01-19T22:33:34.661Z"
   },
   {
    "duration": 16,
    "start_time": "2022-01-19T22:33:34.683Z"
   },
   {
    "duration": 5,
    "start_time": "2022-01-19T22:33:34.701Z"
   },
   {
    "duration": 51,
    "start_time": "2022-01-19T22:33:34.707Z"
   },
   {
    "duration": 7,
    "start_time": "2022-01-19T22:33:34.760Z"
   },
   {
    "duration": 9,
    "start_time": "2022-01-19T22:33:34.769Z"
   },
   {
    "duration": 22,
    "start_time": "2022-01-19T22:33:34.779Z"
   },
   {
    "duration": 12,
    "start_time": "2022-01-19T22:33:34.803Z"
   },
   {
    "duration": 10,
    "start_time": "2022-01-19T22:33:34.816Z"
   },
   {
    "duration": 28,
    "start_time": "2022-01-19T22:33:34.828Z"
   },
   {
    "duration": 203,
    "start_time": "2022-01-19T22:33:34.858Z"
   },
   {
    "duration": 3,
    "start_time": "2022-01-19T22:33:35.062Z"
   },
   {
    "duration": 1703,
    "start_time": "2022-01-19T22:33:35.067Z"
   },
   {
    "duration": 1579,
    "start_time": "2022-01-19T22:33:36.772Z"
   },
   {
    "duration": 2,
    "start_time": "2022-01-19T22:33:38.353Z"
   },
   {
    "duration": 55,
    "start_time": "2022-01-19T22:33:38.357Z"
   },
   {
    "duration": 1171,
    "start_time": "2022-01-19T22:33:38.429Z"
   },
   {
    "duration": 8,
    "start_time": "2022-01-19T22:33:39.602Z"
   },
   {
    "duration": 117,
    "start_time": "2022-01-19T22:33:39.611Z"
   },
   {
    "duration": 572,
    "start_time": "2022-01-19T22:33:39.730Z"
   },
   {
    "duration": 5,
    "start_time": "2022-01-19T22:33:40.304Z"
   },
   {
    "duration": 336,
    "start_time": "2022-01-19T22:33:40.310Z"
   },
   {
    "duration": 331,
    "start_time": "2022-01-19T22:33:40.648Z"
   },
   {
    "duration": 9,
    "start_time": "2022-01-19T22:33:40.981Z"
   },
   {
    "duration": 412,
    "start_time": "2022-01-19T22:33:40.992Z"
   },
   {
    "duration": -522,
    "start_time": "2022-01-19T22:33:41.928Z"
   },
   {
    "duration": -530,
    "start_time": "2022-01-19T22:33:41.937Z"
   },
   {
    "duration": -535,
    "start_time": "2022-01-19T22:33:41.943Z"
   },
   {
    "duration": -546,
    "start_time": "2022-01-19T22:33:41.954Z"
   },
   {
    "duration": -550,
    "start_time": "2022-01-19T22:33:41.959Z"
   },
   {
    "duration": -560,
    "start_time": "2022-01-19T22:33:41.970Z"
   },
   {
    "duration": -566,
    "start_time": "2022-01-19T22:33:41.977Z"
   },
   {
    "duration": -574,
    "start_time": "2022-01-19T22:33:41.986Z"
   },
   {
    "duration": -581,
    "start_time": "2022-01-19T22:33:41.993Z"
   },
   {
    "duration": -588,
    "start_time": "2022-01-19T22:33:42.001Z"
   },
   {
    "duration": -581,
    "start_time": "2022-01-19T22:33:42.007Z"
   },
   {
    "duration": 320,
    "start_time": "2022-01-19T22:33:48.974Z"
   },
   {
    "duration": 4,
    "start_time": "2022-01-19T22:33:56.135Z"
   },
   {
    "duration": 3,
    "start_time": "2022-01-19T22:37:10.536Z"
   },
   {
    "duration": 330,
    "start_time": "2022-01-19T22:37:37.777Z"
   },
   {
    "duration": 523,
    "start_time": "2022-01-19T22:37:44.091Z"
   },
   {
    "duration": 978,
    "start_time": "2022-01-19T22:37:50.474Z"
   },
   {
    "duration": 1307,
    "start_time": "2022-01-19T22:38:27.625Z"
   },
   {
    "duration": 478,
    "start_time": "2022-01-19T22:38:33.598Z"
   },
   {
    "duration": 329,
    "start_time": "2022-01-19T22:38:42.653Z"
   },
   {
    "duration": 332,
    "start_time": "2022-01-19T22:38:57.008Z"
   },
   {
    "duration": 323,
    "start_time": "2022-01-19T22:40:15.888Z"
   },
   {
    "duration": 3,
    "start_time": "2022-01-19T22:40:28.365Z"
   },
   {
    "duration": 4,
    "start_time": "2022-01-19T22:40:31.112Z"
   },
   {
    "duration": 4983,
    "start_time": "2022-01-19T22:41:53.108Z"
   },
   {
    "duration": 1512,
    "start_time": "2022-01-19T22:41:58.093Z"
   },
   {
    "duration": 711,
    "start_time": "2022-01-19T22:41:59.607Z"
   },
   {
    "duration": 8,
    "start_time": "2022-01-19T22:42:00.320Z"
   },
   {
    "duration": 18,
    "start_time": "2022-01-19T22:42:00.330Z"
   },
   {
    "duration": 148,
    "start_time": "2022-01-19T22:42:00.350Z"
   },
   {
    "duration": 16,
    "start_time": "2022-01-19T22:42:00.500Z"
   },
   {
    "duration": 18,
    "start_time": "2022-01-19T22:42:00.518Z"
   },
   {
    "duration": 3,
    "start_time": "2022-01-19T22:42:00.539Z"
   },
   {
    "duration": 41,
    "start_time": "2022-01-19T22:42:00.544Z"
   },
   {
    "duration": 6,
    "start_time": "2022-01-19T22:42:00.587Z"
   },
   {
    "duration": 14,
    "start_time": "2022-01-19T22:42:00.594Z"
   },
   {
    "duration": 9,
    "start_time": "2022-01-19T22:42:00.609Z"
   },
   {
    "duration": 9,
    "start_time": "2022-01-19T22:42:00.619Z"
   },
   {
    "duration": 6,
    "start_time": "2022-01-19T22:42:00.629Z"
   },
   {
    "duration": 10,
    "start_time": "2022-01-19T22:42:00.637Z"
   },
   {
    "duration": 363,
    "start_time": "2022-01-19T22:42:00.648Z"
   },
   {
    "duration": 10,
    "start_time": "2022-01-19T22:42:01.013Z"
   },
   {
    "duration": 1918,
    "start_time": "2022-01-19T22:42:01.025Z"
   },
   {
    "duration": 1421,
    "start_time": "2022-01-19T22:42:02.945Z"
   },
   {
    "duration": 3,
    "start_time": "2022-01-19T22:42:04.367Z"
   },
   {
    "duration": 63,
    "start_time": "2022-01-19T22:42:04.371Z"
   },
   {
    "duration": 927,
    "start_time": "2022-01-19T22:42:04.435Z"
   },
   {
    "duration": 8,
    "start_time": "2022-01-19T22:42:05.364Z"
   },
   {
    "duration": 97,
    "start_time": "2022-01-19T22:42:05.373Z"
   },
   {
    "duration": 552,
    "start_time": "2022-01-19T22:42:05.472Z"
   },
   {
    "duration": 6,
    "start_time": "2022-01-19T22:42:06.029Z"
   },
   {
    "duration": 493,
    "start_time": "2022-01-19T22:42:06.037Z"
   },
   {
    "duration": 344,
    "start_time": "2022-01-19T22:42:06.532Z"
   },
   {
    "duration": 8,
    "start_time": "2022-01-19T22:42:06.877Z"
   },
   {
    "duration": 5,
    "start_time": "2022-01-19T22:42:06.887Z"
   },
   {
    "duration": 551,
    "start_time": "2022-01-19T22:42:06.894Z"
   },
   {
    "duration": 982,
    "start_time": "2022-01-19T22:42:07.447Z"
   },
   {
    "duration": 1604,
    "start_time": "2022-01-19T22:42:08.431Z"
   },
   {
    "duration": 728,
    "start_time": "2022-01-19T22:42:10.037Z"
   },
   {
    "duration": 2,
    "start_time": "2022-01-19T22:42:10.767Z"
   },
   {
    "duration": 18,
    "start_time": "2022-01-19T22:42:10.771Z"
   },
   {
    "duration": 395,
    "start_time": "2022-01-19T22:42:10.790Z"
   },
   {
    "duration": -475,
    "start_time": "2022-01-19T22:42:11.662Z"
   },
   {
    "duration": -477,
    "start_time": "2022-01-19T22:42:11.665Z"
   },
   {
    "duration": -483,
    "start_time": "2022-01-19T22:42:11.672Z"
   },
   {
    "duration": -492,
    "start_time": "2022-01-19T22:42:11.682Z"
   },
   {
    "duration": -497,
    "start_time": "2022-01-19T22:42:11.688Z"
   },
   {
    "duration": 7,
    "start_time": "2022-01-19T22:42:51.191Z"
   },
   {
    "duration": 12,
    "start_time": "2022-01-19T22:43:22.876Z"
   },
   {
    "duration": 4975,
    "start_time": "2022-01-19T22:44:32.748Z"
   },
   {
    "duration": 1488,
    "start_time": "2022-01-19T22:44:37.725Z"
   },
   {
    "duration": 687,
    "start_time": "2022-01-19T22:44:39.215Z"
   },
   {
    "duration": 8,
    "start_time": "2022-01-19T22:44:39.904Z"
   },
   {
    "duration": 5,
    "start_time": "2022-01-19T22:44:39.914Z"
   },
   {
    "duration": 121,
    "start_time": "2022-01-19T22:44:39.921Z"
   },
   {
    "duration": 16,
    "start_time": "2022-01-19T22:44:40.044Z"
   },
   {
    "duration": 3,
    "start_time": "2022-01-19T22:44:40.062Z"
   },
   {
    "duration": 3,
    "start_time": "2022-01-19T22:44:40.068Z"
   },
   {
    "duration": 42,
    "start_time": "2022-01-19T22:44:40.072Z"
   },
   {
    "duration": 11,
    "start_time": "2022-01-19T22:44:40.116Z"
   },
   {
    "duration": 6,
    "start_time": "2022-01-19T22:44:40.128Z"
   },
   {
    "duration": 5,
    "start_time": "2022-01-19T22:44:40.135Z"
   },
   {
    "duration": 5,
    "start_time": "2022-01-19T22:44:40.141Z"
   },
   {
    "duration": 4,
    "start_time": "2022-01-19T22:44:40.147Z"
   },
   {
    "duration": 8,
    "start_time": "2022-01-19T22:44:40.152Z"
   },
   {
    "duration": 309,
    "start_time": "2022-01-19T22:44:40.161Z"
   },
   {
    "duration": 2,
    "start_time": "2022-01-19T22:44:40.472Z"
   },
   {
    "duration": 1752,
    "start_time": "2022-01-19T22:44:40.476Z"
   },
   {
    "duration": 1444,
    "start_time": "2022-01-19T22:44:42.229Z"
   },
   {
    "duration": 2,
    "start_time": "2022-01-19T22:44:43.675Z"
   },
   {
    "duration": 65,
    "start_time": "2022-01-19T22:44:43.679Z"
   },
   {
    "duration": 912,
    "start_time": "2022-01-19T22:44:43.745Z"
   },
   {
    "duration": 8,
    "start_time": "2022-01-19T22:44:44.658Z"
   },
   {
    "duration": 162,
    "start_time": "2022-01-19T22:44:44.667Z"
   },
   {
    "duration": 499,
    "start_time": "2022-01-19T22:44:44.831Z"
   },
   {
    "duration": 6,
    "start_time": "2022-01-19T22:44:45.334Z"
   },
   {
    "duration": 396,
    "start_time": "2022-01-19T22:44:45.341Z"
   },
   {
    "duration": 273,
    "start_time": "2022-01-19T22:44:45.738Z"
   },
   {
    "duration": 15,
    "start_time": "2022-01-19T22:44:46.013Z"
   },
   {
    "duration": 2,
    "start_time": "2022-01-19T22:44:46.029Z"
   },
   {
    "duration": 541,
    "start_time": "2022-01-19T22:44:46.033Z"
   },
   {
    "duration": 1083,
    "start_time": "2022-01-19T22:44:46.576Z"
   },
   {
    "duration": 1366,
    "start_time": "2022-01-19T22:44:47.661Z"
   },
   {
    "duration": 516,
    "start_time": "2022-01-19T22:44:49.029Z"
   },
   {
    "duration": 3,
    "start_time": "2022-01-19T22:44:49.547Z"
   },
   {
    "duration": 24,
    "start_time": "2022-01-19T22:44:49.551Z"
   },
   {
    "duration": 6,
    "start_time": "2022-01-19T22:44:49.577Z"
   },
   {
    "duration": 11,
    "start_time": "2022-01-19T22:44:49.585Z"
   },
   {
    "duration": 660,
    "start_time": "2022-01-19T22:44:49.598Z"
   },
   {
    "duration": -477,
    "start_time": "2022-01-19T22:44:50.737Z"
   },
   {
    "duration": -481,
    "start_time": "2022-01-19T22:44:50.742Z"
   },
   {
    "duration": 2007,
    "start_time": "2022-01-19T22:50:38.493Z"
   },
   {
    "duration": 3,
    "start_time": "2022-01-19T22:53:19.019Z"
   },
   {
    "duration": 2030,
    "start_time": "2022-01-19T22:53:19.721Z"
   },
   {
    "duration": 539,
    "start_time": "2022-01-19T22:55:38.003Z"
   },
   {
    "duration": 560,
    "start_time": "2022-01-19T22:55:43.872Z"
   },
   {
    "duration": 818,
    "start_time": "2022-01-19T22:56:01.555Z"
   },
   {
    "duration": 114,
    "start_time": "2022-01-19T23:02:21.086Z"
   },
   {
    "duration": 3,
    "start_time": "2022-01-19T23:34:21.351Z"
   },
   {
    "duration": 2184,
    "start_time": "2022-01-19T23:34:22.490Z"
   },
   {
    "duration": 9013,
    "start_time": "2022-01-19T23:35:35.442Z"
   },
   {
    "duration": 1570,
    "start_time": "2022-01-19T23:35:44.457Z"
   },
   {
    "duration": 764,
    "start_time": "2022-01-19T23:35:46.030Z"
   },
   {
    "duration": 8,
    "start_time": "2022-01-19T23:35:46.796Z"
   },
   {
    "duration": 5,
    "start_time": "2022-01-19T23:35:46.806Z"
   },
   {
    "duration": 225,
    "start_time": "2022-01-19T23:35:46.812Z"
   },
   {
    "duration": 17,
    "start_time": "2022-01-19T23:35:47.038Z"
   },
   {
    "duration": 4,
    "start_time": "2022-01-19T23:35:47.056Z"
   },
   {
    "duration": 7,
    "start_time": "2022-01-19T23:35:47.062Z"
   },
   {
    "duration": 40,
    "start_time": "2022-01-19T23:35:47.071Z"
   },
   {
    "duration": 16,
    "start_time": "2022-01-19T23:35:47.113Z"
   },
   {
    "duration": 5,
    "start_time": "2022-01-19T23:35:47.130Z"
   },
   {
    "duration": 5,
    "start_time": "2022-01-19T23:35:47.137Z"
   },
   {
    "duration": 7,
    "start_time": "2022-01-19T23:35:47.143Z"
   },
   {
    "duration": 6,
    "start_time": "2022-01-19T23:35:47.151Z"
   },
   {
    "duration": 8,
    "start_time": "2022-01-19T23:35:47.158Z"
   },
   {
    "duration": 2,
    "start_time": "2022-01-19T23:35:47.168Z"
   },
   {
    "duration": 275,
    "start_time": "2022-01-19T23:35:47.171Z"
   },
   {
    "duration": 2,
    "start_time": "2022-01-19T23:35:47.448Z"
   },
   {
    "duration": 1976,
    "start_time": "2022-01-19T23:35:47.452Z"
   },
   {
    "duration": 1713,
    "start_time": "2022-01-19T23:35:49.430Z"
   },
   {
    "duration": 2,
    "start_time": "2022-01-19T23:35:51.145Z"
   },
   {
    "duration": 55,
    "start_time": "2022-01-19T23:35:51.148Z"
   },
   {
    "duration": 943,
    "start_time": "2022-01-19T23:35:51.204Z"
   },
   {
    "duration": 8,
    "start_time": "2022-01-19T23:35:52.149Z"
   },
   {
    "duration": 101,
    "start_time": "2022-01-19T23:35:52.158Z"
   },
   {
    "duration": 488,
    "start_time": "2022-01-19T23:35:52.331Z"
   },
   {
    "duration": 6,
    "start_time": "2022-01-19T23:35:52.821Z"
   },
   {
    "duration": 326,
    "start_time": "2022-01-19T23:35:52.829Z"
   },
   {
    "duration": 356,
    "start_time": "2022-01-19T23:35:53.157Z"
   },
   {
    "duration": 18,
    "start_time": "2022-01-19T23:35:53.515Z"
   },
   {
    "duration": 4,
    "start_time": "2022-01-19T23:35:53.535Z"
   },
   {
    "duration": 530,
    "start_time": "2022-01-19T23:35:53.540Z"
   },
   {
    "duration": 893,
    "start_time": "2022-01-19T23:35:54.072Z"
   },
   {
    "duration": 1461,
    "start_time": "2022-01-19T23:35:54.967Z"
   },
   {
    "duration": 545,
    "start_time": "2022-01-19T23:35:56.430Z"
   },
   {
    "duration": 2,
    "start_time": "2022-01-19T23:35:56.977Z"
   },
   {
    "duration": 18,
    "start_time": "2022-01-19T23:35:56.981Z"
   },
   {
    "duration": 5,
    "start_time": "2022-01-19T23:35:57.000Z"
   },
   {
    "duration": 3,
    "start_time": "2022-01-19T23:35:57.006Z"
   },
   {
    "duration": 2300,
    "start_time": "2022-01-19T23:35:57.027Z"
   },
   {
    "duration": 730,
    "start_time": "2022-01-19T23:35:59.329Z"
   },
   {
    "duration": 18,
    "start_time": "2022-01-19T23:36:00.062Z"
   },
   {
    "duration": 3,
    "start_time": "2022-01-19T23:36:23.283Z"
   },
   {
    "duration": 179,
    "start_time": "2022-01-19T23:36:24.769Z"
   },
   {
    "duration": 1050,
    "start_time": "2022-01-19T23:36:36.471Z"
   },
   {
    "duration": 4954,
    "start_time": "2022-01-19T23:36:44.610Z"
   },
   {
    "duration": 1458,
    "start_time": "2022-01-19T23:36:49.566Z"
   },
   {
    "duration": 675,
    "start_time": "2022-01-19T23:36:51.026Z"
   },
   {
    "duration": 8,
    "start_time": "2022-01-19T23:36:51.703Z"
   },
   {
    "duration": 4,
    "start_time": "2022-01-19T23:36:51.713Z"
   },
   {
    "duration": 130,
    "start_time": "2022-01-19T23:36:51.719Z"
   },
   {
    "duration": 17,
    "start_time": "2022-01-19T23:36:51.851Z"
   },
   {
    "duration": 4,
    "start_time": "2022-01-19T23:36:51.870Z"
   },
   {
    "duration": 3,
    "start_time": "2022-01-19T23:36:51.876Z"
   },
   {
    "duration": 40,
    "start_time": "2022-01-19T23:36:51.880Z"
   },
   {
    "duration": 7,
    "start_time": "2022-01-19T23:36:51.921Z"
   },
   {
    "duration": 5,
    "start_time": "2022-01-19T23:36:51.929Z"
   },
   {
    "duration": 6,
    "start_time": "2022-01-19T23:36:51.935Z"
   },
   {
    "duration": 6,
    "start_time": "2022-01-19T23:36:51.942Z"
   },
   {
    "duration": 6,
    "start_time": "2022-01-19T23:36:51.949Z"
   },
   {
    "duration": 8,
    "start_time": "2022-01-19T23:36:51.957Z"
   },
   {
    "duration": 3,
    "start_time": "2022-01-19T23:36:51.966Z"
   },
   {
    "duration": 302,
    "start_time": "2022-01-19T23:36:51.970Z"
   },
   {
    "duration": 3,
    "start_time": "2022-01-19T23:36:52.273Z"
   },
   {
    "duration": 1727,
    "start_time": "2022-01-19T23:36:52.277Z"
   },
   {
    "duration": 1595,
    "start_time": "2022-01-19T23:36:54.005Z"
   },
   {
    "duration": 2,
    "start_time": "2022-01-19T23:36:55.602Z"
   },
   {
    "duration": 65,
    "start_time": "2022-01-19T23:36:55.608Z"
   },
   {
    "duration": 921,
    "start_time": "2022-01-19T23:36:55.676Z"
   },
   {
    "duration": 8,
    "start_time": "2022-01-19T23:36:56.599Z"
   },
   {
    "duration": 126,
    "start_time": "2022-01-19T23:36:56.609Z"
   },
   {
    "duration": 575,
    "start_time": "2022-01-19T23:36:56.738Z"
   },
   {
    "duration": 5,
    "start_time": "2022-01-19T23:36:57.315Z"
   },
   {
    "duration": 419,
    "start_time": "2022-01-19T23:36:57.322Z"
   },
   {
    "duration": 394,
    "start_time": "2022-01-19T23:36:57.742Z"
   },
   {
    "duration": 8,
    "start_time": "2022-01-19T23:36:58.138Z"
   },
   {
    "duration": 4,
    "start_time": "2022-01-19T23:36:58.147Z"
   },
   {
    "duration": 652,
    "start_time": "2022-01-19T23:36:58.152Z"
   },
   {
    "duration": 1058,
    "start_time": "2022-01-19T23:36:58.806Z"
   },
   {
    "duration": 967,
    "start_time": "2022-01-19T23:36:59.865Z"
   },
   {
    "duration": 540,
    "start_time": "2022-01-19T23:37:00.834Z"
   },
   {
    "duration": 2,
    "start_time": "2022-01-19T23:37:01.376Z"
   },
   {
    "duration": 30,
    "start_time": "2022-01-19T23:37:01.380Z"
   },
   {
    "duration": 6,
    "start_time": "2022-01-19T23:37:01.412Z"
   },
   {
    "duration": 3,
    "start_time": "2022-01-19T23:37:01.427Z"
   },
   {
    "duration": 2234,
    "start_time": "2022-01-19T23:37:01.431Z"
   },
   {
    "duration": 694,
    "start_time": "2022-01-19T23:37:03.667Z"
   },
   {
    "duration": 12,
    "start_time": "2022-01-19T23:37:04.363Z"
   },
   {
    "duration": 1785,
    "start_time": "2022-01-19T23:37:24.916Z"
   },
   {
    "duration": 1909,
    "start_time": "2022-01-19T23:37:41.672Z"
   },
   {
    "duration": 5051,
    "start_time": "2022-01-19T23:39:11.311Z"
   },
   {
    "duration": 1657,
    "start_time": "2022-01-19T23:39:16.364Z"
   },
   {
    "duration": 703,
    "start_time": "2022-01-19T23:39:18.023Z"
   },
   {
    "duration": 9,
    "start_time": "2022-01-19T23:39:18.727Z"
   },
   {
    "duration": 5,
    "start_time": "2022-01-19T23:39:18.737Z"
   },
   {
    "duration": 123,
    "start_time": "2022-01-19T23:39:18.743Z"
   },
   {
    "duration": 16,
    "start_time": "2022-01-19T23:39:18.867Z"
   },
   {
    "duration": 4,
    "start_time": "2022-01-19T23:39:18.885Z"
   },
   {
    "duration": 6,
    "start_time": "2022-01-19T23:39:18.891Z"
   },
   {
    "duration": 41,
    "start_time": "2022-01-19T23:39:18.898Z"
   },
   {
    "duration": 6,
    "start_time": "2022-01-19T23:39:18.941Z"
   },
   {
    "duration": 5,
    "start_time": "2022-01-19T23:39:18.948Z"
   },
   {
    "duration": 5,
    "start_time": "2022-01-19T23:39:18.954Z"
   },
   {
    "duration": 5,
    "start_time": "2022-01-19T23:39:18.960Z"
   },
   {
    "duration": 6,
    "start_time": "2022-01-19T23:39:18.967Z"
   },
   {
    "duration": 9,
    "start_time": "2022-01-19T23:39:18.975Z"
   },
   {
    "duration": 301,
    "start_time": "2022-01-19T23:39:18.985Z"
   },
   {
    "duration": 4,
    "start_time": "2022-01-19T23:39:19.288Z"
   },
   {
    "duration": 1635,
    "start_time": "2022-01-19T23:39:19.293Z"
   },
   {
    "duration": 1398,
    "start_time": "2022-01-19T23:39:20.929Z"
   },
   {
    "duration": 3,
    "start_time": "2022-01-19T23:39:22.328Z"
   },
   {
    "duration": 61,
    "start_time": "2022-01-19T23:39:22.332Z"
   },
   {
    "duration": 926,
    "start_time": "2022-01-19T23:39:22.395Z"
   },
   {
    "duration": 9,
    "start_time": "2022-01-19T23:39:23.323Z"
   },
   {
    "duration": 103,
    "start_time": "2022-01-19T23:39:23.334Z"
   },
   {
    "duration": 579,
    "start_time": "2022-01-19T23:39:23.440Z"
   },
   {
    "duration": 6,
    "start_time": "2022-01-19T23:39:24.023Z"
   },
   {
    "duration": 322,
    "start_time": "2022-01-19T23:39:24.031Z"
   },
   {
    "duration": 343,
    "start_time": "2022-01-19T23:39:24.356Z"
   },
   {
    "duration": 8,
    "start_time": "2022-01-19T23:39:24.701Z"
   },
   {
    "duration": 8,
    "start_time": "2022-01-19T23:39:24.711Z"
   },
   {
    "duration": 539,
    "start_time": "2022-01-19T23:39:24.727Z"
   },
   {
    "duration": 1023,
    "start_time": "2022-01-19T23:39:25.267Z"
   },
   {
    "duration": 1240,
    "start_time": "2022-01-19T23:39:26.292Z"
   },
   {
    "duration": 540,
    "start_time": "2022-01-19T23:39:27.535Z"
   },
   {
    "duration": 3,
    "start_time": "2022-01-19T23:39:28.076Z"
   },
   {
    "duration": 20,
    "start_time": "2022-01-19T23:39:28.081Z"
   },
   {
    "duration": 5,
    "start_time": "2022-01-19T23:39:28.103Z"
   },
   {
    "duration": 4,
    "start_time": "2022-01-19T23:39:28.109Z"
   },
   {
    "duration": 2169,
    "start_time": "2022-01-19T23:39:28.127Z"
   },
   {
    "duration": 684,
    "start_time": "2022-01-19T23:39:30.297Z"
   },
   {
    "duration": 12,
    "start_time": "2022-01-19T23:39:30.983Z"
   },
   {
    "duration": 3,
    "start_time": "2022-01-19T23:40:42.927Z"
   },
   {
    "duration": 684,
    "start_time": "2022-01-19T23:40:43.757Z"
   },
   {
    "duration": 4855,
    "start_time": "2022-01-19T23:41:03.409Z"
   },
   {
    "duration": 1853,
    "start_time": "2022-01-19T23:41:08.266Z"
   },
   {
    "duration": 714,
    "start_time": "2022-01-19T23:41:10.122Z"
   },
   {
    "duration": 9,
    "start_time": "2022-01-19T23:41:10.838Z"
   },
   {
    "duration": 6,
    "start_time": "2022-01-19T23:41:10.848Z"
   },
   {
    "duration": 153,
    "start_time": "2022-01-19T23:41:10.856Z"
   },
   {
    "duration": 18,
    "start_time": "2022-01-19T23:41:11.011Z"
   },
   {
    "duration": 4,
    "start_time": "2022-01-19T23:41:11.031Z"
   },
   {
    "duration": 4,
    "start_time": "2022-01-19T23:41:11.037Z"
   },
   {
    "duration": 41,
    "start_time": "2022-01-19T23:41:11.043Z"
   },
   {
    "duration": 6,
    "start_time": "2022-01-19T23:41:11.085Z"
   },
   {
    "duration": 6,
    "start_time": "2022-01-19T23:41:11.092Z"
   },
   {
    "duration": 28,
    "start_time": "2022-01-19T23:41:11.099Z"
   },
   {
    "duration": 4,
    "start_time": "2022-01-19T23:41:11.129Z"
   },
   {
    "duration": 9,
    "start_time": "2022-01-19T23:41:11.135Z"
   },
   {
    "duration": 15,
    "start_time": "2022-01-19T23:41:11.146Z"
   },
   {
    "duration": 280,
    "start_time": "2022-01-19T23:41:11.163Z"
   },
   {
    "duration": 2,
    "start_time": "2022-01-19T23:41:11.445Z"
   },
   {
    "duration": 1864,
    "start_time": "2022-01-19T23:41:11.449Z"
   },
   {
    "duration": 1630,
    "start_time": "2022-01-19T23:41:13.315Z"
   },
   {
    "duration": 2,
    "start_time": "2022-01-19T23:41:14.947Z"
   },
   {
    "duration": 65,
    "start_time": "2022-01-19T23:41:14.951Z"
   },
   {
    "duration": 933,
    "start_time": "2022-01-19T23:41:15.018Z"
   },
   {
    "duration": 7,
    "start_time": "2022-01-19T23:41:15.953Z"
   },
   {
    "duration": 101,
    "start_time": "2022-01-19T23:41:15.962Z"
   },
   {
    "duration": 709,
    "start_time": "2022-01-19T23:41:16.131Z"
   },
   {
    "duration": 6,
    "start_time": "2022-01-19T23:41:16.842Z"
   },
   {
    "duration": 380,
    "start_time": "2022-01-19T23:41:16.849Z"
   },
   {
    "duration": 260,
    "start_time": "2022-01-19T23:41:17.231Z"
   },
   {
    "duration": 9,
    "start_time": "2022-01-19T23:41:17.492Z"
   },
   {
    "duration": 5,
    "start_time": "2022-01-19T23:41:17.502Z"
   },
   {
    "duration": 536,
    "start_time": "2022-01-19T23:41:17.509Z"
   },
   {
    "duration": 946,
    "start_time": "2022-01-19T23:41:18.047Z"
   },
   {
    "duration": 1235,
    "start_time": "2022-01-19T23:41:18.994Z"
   },
   {
    "duration": 538,
    "start_time": "2022-01-19T23:41:20.231Z"
   },
   {
    "duration": 2,
    "start_time": "2022-01-19T23:41:20.771Z"
   },
   {
    "duration": 39,
    "start_time": "2022-01-19T23:41:20.775Z"
   },
   {
    "duration": 16,
    "start_time": "2022-01-19T23:41:20.816Z"
   },
   {
    "duration": 15,
    "start_time": "2022-01-19T23:41:20.834Z"
   },
   {
    "duration": 2206,
    "start_time": "2022-01-19T23:41:20.851Z"
   },
   {
    "duration": 3,
    "start_time": "2022-01-19T23:41:23.058Z"
   },
   {
    "duration": 673,
    "start_time": "2022-01-19T23:41:23.062Z"
   },
   {
    "duration": 12,
    "start_time": "2022-01-19T23:41:23.737Z"
   },
   {
    "duration": 4,
    "start_time": "2022-01-31T06:15:14.300Z"
   },
   {
    "duration": 3822,
    "start_time": "2022-01-31T06:15:14.333Z"
   },
   {
    "duration": 1275,
    "start_time": "2022-01-31T06:15:18.159Z"
   },
   {
    "duration": 15,
    "start_time": "2022-01-31T06:15:19.438Z"
   },
   {
    "duration": 76,
    "start_time": "2022-01-31T06:15:19.456Z"
   },
   {
    "duration": 119,
    "start_time": "2022-01-31T06:15:19.534Z"
   },
   {
    "duration": 90,
    "start_time": "2022-01-31T06:15:19.656Z"
   },
   {
    "duration": 14,
    "start_time": "2022-01-31T06:15:19.748Z"
   },
   {
    "duration": 6,
    "start_time": "2022-01-31T06:15:19.836Z"
   },
   {
    "duration": 308,
    "start_time": "2022-01-31T06:15:19.845Z"
   },
   {
    "duration": 84,
    "start_time": "2022-01-31T06:15:20.156Z"
   },
   {
    "duration": 9,
    "start_time": "2022-01-31T06:15:20.242Z"
   },
   {
    "duration": 79,
    "start_time": "2022-01-31T06:15:20.253Z"
   },
   {
    "duration": 16,
    "start_time": "2022-01-31T06:15:20.335Z"
   },
   {
    "duration": 80,
    "start_time": "2022-01-31T06:15:20.353Z"
   },
   {
    "duration": 98,
    "start_time": "2022-01-31T06:15:20.436Z"
   },
   {
    "duration": 1819,
    "start_time": "2022-01-31T06:15:20.539Z"
   },
   {
    "duration": 11,
    "start_time": "2022-01-31T06:15:22.350Z"
   },
   {
    "duration": 71,
    "start_time": "2022-01-31T06:15:22.360Z"
   },
   {
    "duration": 67,
    "start_time": "2022-01-31T06:15:22.366Z"
   },
   {
    "duration": 63,
    "start_time": "2022-01-31T06:15:22.371Z"
   },
   {
    "duration": 60,
    "start_time": "2022-01-31T06:15:22.376Z"
   },
   {
    "duration": 55,
    "start_time": "2022-01-31T06:15:22.382Z"
   },
   {
    "duration": -4,
    "start_time": "2022-01-31T06:15:22.442Z"
   },
   {
    "duration": -8,
    "start_time": "2022-01-31T06:15:22.447Z"
   },
   {
    "duration": -11,
    "start_time": "2022-01-31T06:15:22.451Z"
   },
   {
    "duration": -14,
    "start_time": "2022-01-31T06:15:22.456Z"
   },
   {
    "duration": -17,
    "start_time": "2022-01-31T06:15:22.460Z"
   },
   {
    "duration": -21,
    "start_time": "2022-01-31T06:15:22.465Z"
   },
   {
    "duration": -24,
    "start_time": "2022-01-31T06:15:22.469Z"
   },
   {
    "duration": -27,
    "start_time": "2022-01-31T06:15:22.474Z"
   },
   {
    "duration": -90,
    "start_time": "2022-01-31T06:15:22.538Z"
   },
   {
    "duration": -94,
    "start_time": "2022-01-31T06:15:22.543Z"
   },
   {
    "duration": -97,
    "start_time": "2022-01-31T06:15:22.547Z"
   },
   {
    "duration": -100,
    "start_time": "2022-01-31T06:15:22.552Z"
   },
   {
    "duration": -25,
    "start_time": "2022-01-31T06:15:22.557Z"
   },
   {
    "duration": -28,
    "start_time": "2022-01-31T06:15:22.562Z"
   },
   {
    "duration": -32,
    "start_time": "2022-01-31T06:15:22.567Z"
   },
   {
    "duration": -34,
    "start_time": "2022-01-31T06:15:22.571Z"
   },
   {
    "duration": -37,
    "start_time": "2022-01-31T06:15:22.575Z"
   },
   {
    "duration": -102,
    "start_time": "2022-01-31T06:15:22.642Z"
   },
   {
    "duration": -106,
    "start_time": "2022-01-31T06:15:22.647Z"
   },
   {
    "duration": -109,
    "start_time": "2022-01-31T06:15:22.651Z"
   },
   {
    "duration": 7166,
    "start_time": "2022-01-31T06:16:39.566Z"
   },
   {
    "duration": 2190,
    "start_time": "2022-01-31T06:16:46.736Z"
   },
   {
    "duration": 822,
    "start_time": "2022-01-31T06:16:48.930Z"
   },
   {
    "duration": 13,
    "start_time": "2022-01-31T06:16:49.755Z"
   },
   {
    "duration": 6,
    "start_time": "2022-01-31T06:16:49.771Z"
   },
   {
    "duration": 101,
    "start_time": "2022-01-31T06:16:49.779Z"
   },
   {
    "duration": 30,
    "start_time": "2022-01-31T06:16:49.882Z"
   },
   {
    "duration": 4,
    "start_time": "2022-01-31T06:16:49.915Z"
   },
   {
    "duration": 8,
    "start_time": "2022-01-31T06:16:49.923Z"
   },
   {
    "duration": 67,
    "start_time": "2022-01-31T06:16:49.934Z"
   },
   {
    "duration": 8,
    "start_time": "2022-01-31T06:16:50.004Z"
   },
   {
    "duration": 5,
    "start_time": "2022-01-31T06:16:50.033Z"
   },
   {
    "duration": 10,
    "start_time": "2022-01-31T06:16:50.040Z"
   },
   {
    "duration": 7,
    "start_time": "2022-01-31T06:16:50.052Z"
   },
   {
    "duration": 11,
    "start_time": "2022-01-31T06:16:50.061Z"
   },
   {
    "duration": 18,
    "start_time": "2022-01-31T06:16:50.074Z"
   },
   {
    "duration": 411,
    "start_time": "2022-01-31T06:16:50.094Z"
   },
   {
    "duration": 4,
    "start_time": "2022-01-31T06:16:50.507Z"
   },
   {
    "duration": 3157,
    "start_time": "2022-01-31T06:16:50.513Z"
   },
   {
    "duration": 2583,
    "start_time": "2022-01-31T06:16:53.672Z"
   },
   {
    "duration": 8,
    "start_time": "2022-01-31T06:16:56.257Z"
   },
   {
    "duration": 187,
    "start_time": "2022-01-31T06:16:56.267Z"
   },
   {
    "duration": 1562,
    "start_time": "2022-01-31T06:16:56.456Z"
   },
   {
    "duration": 12,
    "start_time": "2022-01-31T06:16:58.033Z"
   },
   {
    "duration": 230,
    "start_time": "2022-01-31T06:16:58.048Z"
   },
   {
    "duration": 842,
    "start_time": "2022-01-31T06:16:58.281Z"
   },
   {
    "duration": 9,
    "start_time": "2022-01-31T06:16:59.127Z"
   },
   {
    "duration": 624,
    "start_time": "2022-01-31T06:16:59.139Z"
   },
   {
    "duration": 405,
    "start_time": "2022-01-31T06:16:59.766Z"
   },
   {
    "duration": 13,
    "start_time": "2022-01-31T06:17:00.173Z"
   },
   {
    "duration": 72,
    "start_time": "2022-01-31T06:17:00.188Z"
   },
   {
    "duration": 833,
    "start_time": "2022-01-31T06:17:00.262Z"
   },
   {
    "duration": 2168,
    "start_time": "2022-01-31T06:17:01.098Z"
   },
   {
    "duration": 1870,
    "start_time": "2022-01-31T06:17:03.269Z"
   },
   {
    "duration": 1026,
    "start_time": "2022-01-31T06:17:05.141Z"
   },
   {
    "duration": 3,
    "start_time": "2022-01-31T06:17:06.169Z"
   },
   {
    "duration": 34,
    "start_time": "2022-01-31T06:17:06.174Z"
   },
   {
    "duration": 29,
    "start_time": "2022-01-31T06:17:06.210Z"
   },
   {
    "duration": 5,
    "start_time": "2022-01-31T06:17:06.241Z"
   },
   {
    "duration": 3352,
    "start_time": "2022-01-31T06:17:06.248Z"
   },
   {
    "duration": 4,
    "start_time": "2022-01-31T06:17:09.602Z"
   },
   {
    "duration": 1203,
    "start_time": "2022-01-31T06:17:09.608Z"
   },
   {
    "duration": 26,
    "start_time": "2022-01-31T06:17:10.813Z"
   },
   {
    "duration": 8046,
    "start_time": "2022-01-31T07:45:50.693Z"
   },
   {
    "duration": 4329,
    "start_time": "2022-01-31T07:45:58.742Z"
   },
   {
    "duration": 798,
    "start_time": "2022-01-31T07:46:03.074Z"
   },
   {
    "duration": 15,
    "start_time": "2022-01-31T07:46:03.875Z"
   },
   {
    "duration": 8,
    "start_time": "2022-01-31T07:46:03.892Z"
   },
   {
    "duration": 108,
    "start_time": "2022-01-31T07:46:03.902Z"
   },
   {
    "duration": 30,
    "start_time": "2022-01-31T07:46:04.012Z"
   },
   {
    "duration": 6,
    "start_time": "2022-01-31T07:46:04.046Z"
   },
   {
    "duration": 8,
    "start_time": "2022-01-31T07:46:04.055Z"
   },
   {
    "duration": 175,
    "start_time": "2022-01-31T07:46:04.065Z"
   },
   {
    "duration": 9,
    "start_time": "2022-01-31T07:46:04.243Z"
   },
   {
    "duration": 9,
    "start_time": "2022-01-31T07:46:04.255Z"
   },
   {
    "duration": 71,
    "start_time": "2022-01-31T07:46:04.266Z"
   },
   {
    "duration": 12,
    "start_time": "2022-01-31T07:46:04.339Z"
   },
   {
    "duration": 6,
    "start_time": "2022-01-31T07:46:04.354Z"
   },
   {
    "duration": 76,
    "start_time": "2022-01-31T07:46:04.363Z"
   },
   {
    "duration": 532,
    "start_time": "2022-01-31T07:46:04.441Z"
   },
   {
    "duration": 57,
    "start_time": "2022-01-31T07:46:04.976Z"
   },
   {
    "duration": 5108,
    "start_time": "2022-01-31T07:46:05.036Z"
   },
   {
    "duration": 3919,
    "start_time": "2022-01-31T07:46:10.146Z"
   },
   {
    "duration": 4,
    "start_time": "2022-01-31T07:46:14.067Z"
   },
   {
    "duration": 625,
    "start_time": "2022-01-31T07:46:14.133Z"
   },
   {
    "duration": 2525,
    "start_time": "2022-01-31T07:46:14.833Z"
   },
   {
    "duration": 16,
    "start_time": "2022-01-31T07:46:17.435Z"
   },
   {
    "duration": 681,
    "start_time": "2022-01-31T07:46:17.453Z"
   },
   {
    "duration": 1440,
    "start_time": "2022-01-31T07:46:18.137Z"
   },
   {
    "duration": 10,
    "start_time": "2022-01-31T07:46:19.632Z"
   },
   {
    "duration": 1015,
    "start_time": "2022-01-31T07:46:19.644Z"
   },
   {
    "duration": 789,
    "start_time": "2022-01-31T07:46:20.661Z"
   },
   {
    "duration": 15,
    "start_time": "2022-01-31T07:46:21.453Z"
   },
   {
    "duration": 4,
    "start_time": "2022-01-31T07:46:21.534Z"
   },
   {
    "duration": 1721,
    "start_time": "2022-01-31T07:46:21.542Z"
   },
   {
    "duration": 2679,
    "start_time": "2022-01-31T07:46:23.265Z"
   },
   {
    "duration": 2097,
    "start_time": "2022-01-31T07:46:25.947Z"
   },
   {
    "duration": 897,
    "start_time": "2022-01-31T07:46:28.047Z"
   },
   {
    "duration": 4,
    "start_time": "2022-01-31T07:46:28.947Z"
   },
   {
    "duration": 87,
    "start_time": "2022-01-31T07:46:28.954Z"
   },
   {
    "duration": 8,
    "start_time": "2022-01-31T07:46:29.044Z"
   },
   {
    "duration": 8,
    "start_time": "2022-01-31T07:46:29.055Z"
   },
   {
    "duration": 6993,
    "start_time": "2022-01-31T07:46:29.066Z"
   },
   {
    "duration": 4,
    "start_time": "2022-01-31T07:46:36.061Z"
   },
   {
    "duration": 2371,
    "start_time": "2022-01-31T07:46:36.068Z"
   },
   {
    "duration": 94,
    "start_time": "2022-01-31T07:46:38.443Z"
   },
   {
    "duration": 91,
    "start_time": "2022-01-31T11:18:53.606Z"
   },
   {
    "duration": 9,
    "start_time": "2022-01-31T11:19:00.083Z"
   }
  ],
  "kernelspec": {
   "display_name": "Python 3 (ipykernel)",
   "language": "python",
   "name": "python3"
  },
  "language_info": {
   "codemirror_mode": {
    "name": "ipython",
    "version": 3
   },
   "file_extension": ".py",
   "mimetype": "text/x-python",
   "name": "python",
   "nbconvert_exporter": "python",
   "pygments_lexer": "ipython3",
   "version": "3.9.7"
  },
  "toc": {
   "base_numbering": 1,
   "nav_menu": {},
   "number_sections": true,
   "sideBar": true,
   "skip_h1_title": true,
   "title_cell": "Содержание",
   "title_sidebar": "Содержание",
   "toc_cell": true,
   "toc_position": {
    "height": "calc(100% - 180px)",
    "left": "10px",
    "top": "150px",
    "width": "165px"
   },
   "toc_section_display": true,
   "toc_window_display": true
  }
 },
 "nbformat": 4,
 "nbformat_minor": 2
}
